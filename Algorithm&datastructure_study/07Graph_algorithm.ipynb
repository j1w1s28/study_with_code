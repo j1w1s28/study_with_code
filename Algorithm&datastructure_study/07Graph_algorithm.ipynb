{
 "cells": [
  {
   "attachments": {},
   "cell_type": "markdown",
   "metadata": {},
   "source": [
    "# 다익스트라"
   ]
  },
  {
   "cell_type": "code",
   "execution_count": 4,
   "metadata": {},
   "outputs": [
    {
     "name": "stdout",
     "output_type": "stream",
     "text": [
      "Shortest distances from node A\n",
      "To node A -> Distance: 0\n",
      "To node B -> Distance: 3\n",
      "To node C -> Distance: 2\n",
      "To node D -> Distance: 6\n",
      "To node E -> Distance: 8\n"
     ]
    },
    {
     "data": {
      "text/plain": [
       "{'A': 0, 'B': 3, 'C': 2, 'D': 6, 'E': 8}"
      ]
     },
     "execution_count": 4,
     "metadata": {},
     "output_type": "execute_result"
    }
   ],
   "source": [
    "import heapq\n",
    "\n",
    "def dijkstra(graph, start):\n",
    "    distances = {node: float('inf') for node in graph}\n",
    "    distances[start] = 0\n",
    "    priority_queue = [(0, start)]\n",
    "\n",
    "    while priority_queue:\n",
    "        current_distance, current_node = heapq.heappop(priority_queue)\n",
    "\n",
    "        if current_distance > distances[current_node]:\n",
    "            continue\n",
    "\n",
    "        for neighbor, weight in graph[current_node].items():\n",
    "            distance = current_distance + weight\n",
    "\n",
    "            if distance < distances[neighbor]:\n",
    "                distances[neighbor] = distance\n",
    "                heapq.heappush(priority_queue, (distance, neighbor))\n",
    "\n",
    "    return distances\n",
    "\n",
    "# Example graph\n",
    "graph = {\n",
    "    'A': {'B': 5, 'C': 2},\n",
    "    'B': {'A': 5, 'C': 1, 'D': 3},\n",
    "    'C': {'A': 2, 'B': 1, 'D': 8, 'E': 6},\n",
    "    'D': {'B': 3, 'C': 8, 'E': 4},\n",
    "    'E': {'C': 6, 'D': 4}\n",
    "}\n",
    "\n",
    "start_node = 'A'\n",
    "shortest_distances = dijkstra(graph, start_node)\n",
    "\n",
    "print(\"Shortest distances from node\", start_node)\n",
    "for node, distance in shortest_distances.items():\n",
    "    print(\"To node\", node, \"-> Distance:\", distance)\n",
    "shortest_distances"
   ]
  },
  {
   "attachments": {},
   "cell_type": "markdown",
   "metadata": {},
   "source": [
    "# 벨만포드"
   ]
  },
  {
   "cell_type": "code",
   "execution_count": 5,
   "metadata": {},
   "outputs": [
    {
     "name": "stdout",
     "output_type": "stream",
     "text": [
      "Shortest distances from node A\n",
      "To node A -> Distance: 0\n",
      "To node B -> Distance: 5\n",
      "To node C -> Distance: 2\n",
      "To node D -> Distance: 8\n",
      "To node E -> Distance: -4\n"
     ]
    }
   ],
   "source": [
    "def bellman_ford(graph, start):\n",
    "    distances = {node: float('inf') for node in graph}\n",
    "    distances[start] = 0\n",
    "\n",
    "    # Relax edges repeatedly\n",
    "    for _ in range(len(graph) - 1):\n",
    "        for node in graph:\n",
    "            for neighbor, weight in graph[node].items():\n",
    "                if distances[node] + weight < distances[neighbor]:\n",
    "                    distances[neighbor] = distances[node] + weight\n",
    "\n",
    "    # Check for negative cycles\n",
    "    for node in graph:\n",
    "        for neighbor, weight in graph[node].items():\n",
    "            if distances[node] + weight < distances[neighbor]:\n",
    "                # A negative cycle exists\n",
    "                raise ValueError(\"Graph contains a negative cycle\")\n",
    "\n",
    "    return distances\n",
    "\n",
    "# Example graph with negative weights\n",
    "graph = {\n",
    "    'A': {'B': 5, 'C': 2},\n",
    "    'B': {'C': -3, 'D': 3},\n",
    "    'C': {'D': 8, 'E': -6},\n",
    "    'D': {'E': 4},\n",
    "    'E': {}\n",
    "}\n",
    "\n",
    "start_node = 'A'\n",
    "try:\n",
    "    shortest_distances = bellman_ford(graph, start_node)\n",
    "    print(\"Shortest distances from node\", start_node)\n",
    "    for node, distance in shortest_distances.items():\n",
    "        print(\"To node\", node, \"-> Distance:\", distance)\n",
    "except ValueError as e:\n",
    "    print(e)\n"
   ]
  },
  {
   "attachments": {},
   "cell_type": "markdown",
   "metadata": {},
   "source": [
    "# Disjoint set"
   ]
  },
  {
   "cell_type": "code",
   "execution_count": 6,
   "metadata": {},
   "outputs": [
    {
     "name": "stdout",
     "output_type": "stream",
     "text": [
      "3\n",
      "4\n"
     ]
    }
   ],
   "source": [
    "class DisjointSet:\n",
    "    def __init__(self, n):\n",
    "        self.parent = list(range(n))\n",
    "        self.rank = [0] * n\n",
    "\n",
    "    def find(self, x):\n",
    "        if self.parent[x] != x:\n",
    "            self.parent[x] = self.find(self.parent[x])  # Path compression\n",
    "        return self.parent[x]\n",
    "\n",
    "    def union(self, x, y):\n",
    "        root_x, root_y = self.find(x), self.find(y)\n",
    "        if root_x == root_y:\n",
    "            return  # They are already in the same set\n",
    "\n",
    "        # Union by rank to maintain balanced trees\n",
    "        if self.rank[root_x] < self.rank[root_y]:\n",
    "            self.parent[root_x] = root_y\n",
    "        elif self.rank[root_x] > self.rank[root_y]:\n",
    "            self.parent[root_y] = root_x\n",
    "        else:\n",
    "            self.parent[root_x] = root_y\n",
    "            self.rank[root_y] += 1\n",
    "\n",
    "# Example usage:\n",
    "n = 5  # Number of elements\n",
    "ds = DisjointSet(n)\n",
    "\n",
    "ds.union(0, 1)\n",
    "ds.union(2, 3)\n",
    "ds.union(0, 2)\n",
    "\n",
    "print(ds.find(1))  # Output: 3 (All elements 0, 1, 2, and 3 belong to the same set)\n",
    "print(ds.find(4))  # Output: 4 (Element 4 is in its own set)\n"
   ]
  },
  {
   "attachments": {},
   "cell_type": "markdown",
   "metadata": {},
   "source": [
    "# 크루스칼"
   ]
  },
  {
   "cell_type": "code",
   "execution_count": 8,
   "metadata": {},
   "outputs": [
    {
     "name": "stdout",
     "output_type": "stream",
     "text": [
      "Minimum Spanning Tree:\n",
      "Edge: B - C, Weight: 1\n",
      "Edge: A - C, Weight: 2\n",
      "Edge: B - D, Weight: 3\n",
      "Edge: D - E, Weight: 4\n"
     ]
    }
   ],
   "source": [
    "class DisjointSet:\n",
    "    def __init__(self, n):\n",
    "        self.parent = list(range(n))\n",
    "        self.rank = [0] * n\n",
    "\n",
    "    def find(self, x):\n",
    "        if self.parent[x] != x:\n",
    "            self.parent[x] = self.find(self.parent[x])  # Path compression\n",
    "        return self.parent[x]\n",
    "\n",
    "    def union(self, x, y):\n",
    "        root_x, root_y = self.find(x), self.find(y)\n",
    "        if root_x == root_y:\n",
    "            return  # They are already in the same set\n",
    "\n",
    "        # Union by rank to maintain balanced trees\n",
    "        if self.rank[root_x] < self.rank[root_y]:\n",
    "            self.parent[root_x] = root_y\n",
    "        elif self.rank[root_x] > self.rank[root_y]:\n",
    "            self.parent[root_y] = root_x\n",
    "        else:\n",
    "            self.parent[root_x] = root_y\n",
    "            self.rank[root_y] += 1\n",
    "\n",
    "def kruskal(graph):\n",
    "    nodes = list(graph.keys())\n",
    "    node_to_index = {node: i for i, node in enumerate(nodes)}\n",
    "    edges = []\n",
    "    for u in graph:\n",
    "        for v, weight in graph[u].items():\n",
    "            edges.append((node_to_index[u], node_to_index[v], weight))\n",
    "\n",
    "    edges.sort(key=lambda x: x[2])  # Sort edges by weight in ascending order\n",
    "    num_vertices = len(nodes)\n",
    "    mst = []\n",
    "    ds = DisjointSet(num_vertices)\n",
    "\n",
    "    for u, v, weight in edges:\n",
    "        if ds.find(u) != ds.find(v):\n",
    "            ds.union(u, v)\n",
    "            mst.append((nodes[u], nodes[v], weight))\n",
    "\n",
    "    return mst\n",
    "\n",
    "# Example graph\n",
    "graph = {\n",
    "    'A': {'B': 5, 'C': 2},\n",
    "    'B': {'A': 5, 'C': 1, 'D': 3},\n",
    "    'C': {'A': 2, 'B': 1, 'D': 8, 'E': 6},\n",
    "    'D': {'B': 3, 'C': 8, 'E': 4},\n",
    "    'E': {'C': 6, 'D': 4}\n",
    "}\n",
    "\n",
    "minimum_spanning_tree = kruskal(graph)\n",
    "print(\"Minimum Spanning Tree:\")\n",
    "for u, v, weight in minimum_spanning_tree:\n",
    "    print(f\"Edge: {u} - {v}, Weight: {weight}\")\n"
   ]
  },
  {
   "attachments": {},
   "cell_type": "markdown",
   "metadata": {},
   "source": [
    "# 위상정렬"
   ]
  },
  {
   "cell_type": "code",
   "execution_count": 9,
   "metadata": {},
   "outputs": [
    {
     "name": "stdout",
     "output_type": "stream",
     "text": [
      "Topological Sort Order: ['A', 'B', 'C', 'D', 'E']\n"
     ]
    }
   ],
   "source": [
    "from collections import defaultdict, deque\n",
    "\n",
    "def topological_sort(graph):\n",
    "    in_degree = defaultdict(int)\n",
    "    for node in graph:\n",
    "        for neighbor in graph[node]:\n",
    "            in_degree[neighbor] += 1\n",
    "\n",
    "    queue = deque()\n",
    "    for node in graph:\n",
    "        if in_degree[node] == 0:\n",
    "            queue.append(node)\n",
    "\n",
    "    topological_order = []\n",
    "    while queue:\n",
    "        current_node = queue.popleft()\n",
    "        topological_order.append(current_node)\n",
    "\n",
    "        for neighbor in graph[current_node]:\n",
    "            in_degree[neighbor] -= 1\n",
    "            if in_degree[neighbor] == 0:\n",
    "                queue.append(neighbor)\n",
    "\n",
    "    if len(topological_order) != len(graph):\n",
    "        return None  # The graph contains a cycle\n",
    "\n",
    "    return topological_order\n",
    "\n",
    "# Example graph\n",
    "graph = {\n",
    "    'A': ['B', 'C'],\n",
    "    'B': ['D'],\n",
    "    'C': ['D', 'E'],\n",
    "    'D': ['E'],\n",
    "    'E': []\n",
    "}\n",
    "\n",
    "result = topological_sort(graph)\n",
    "if result is None:\n",
    "    print(\"Graph contains a cycle, cannot perform Topological Sort.\")\n",
    "else:\n",
    "    print(\"Topological Sort Order:\", result)\n"
   ]
  },
  {
   "attachments": {},
   "cell_type": "markdown",
   "metadata": {},
   "source": [
    "# 플로이드 워셜 알고리즘"
   ]
  },
  {
   "cell_type": "code",
   "execution_count": 10,
   "metadata": {},
   "outputs": [
    {
     "name": "stdout",
     "output_type": "stream",
     "text": [
      "Shortest distance from node 0 to node 0: 0\n",
      "Shortest distance from node 0 to node 1: 3\n",
      "Shortest distance from node 0 to node 2: 5\n",
      "Shortest distance from node 0 to node 3: 4\n",
      "Shortest distance from node 1 to node 0: 2\n",
      "Shortest distance from node 1 to node 1: 0\n",
      "Shortest distance from node 1 to node 2: 2\n",
      "Shortest distance from node 1 to node 3: 1\n",
      "Shortest distance from node 2 to node 0: 2\n",
      "Shortest distance from node 2 to node 1: 5\n",
      "Shortest distance from node 2 to node 2: 0\n",
      "Shortest distance from node 2 to node 3: 1\n",
      "Shortest distance from node 3 to node 0: 1\n",
      "Shortest distance from node 3 to node 1: 4\n",
      "Shortest distance from node 3 to node 2: 6\n",
      "Shortest distance from node 3 to node 3: 0\n"
     ]
    }
   ],
   "source": [
    "def floyd_warshall(graph):\n",
    "    num_vertices = len(graph)\n",
    "    dist = [[float('inf')] * num_vertices for _ in range(num_vertices)]\n",
    "\n",
    "    # Initialize the distance matrix with known edge weights\n",
    "    for i in range(num_vertices):\n",
    "        for j in range(num_vertices):\n",
    "            if i == j:\n",
    "                dist[i][j] = 0\n",
    "            elif j in graph[i]:\n",
    "                dist[i][j] = graph[i][j]\n",
    "\n",
    "    # Compute the shortest path distances using dynamic programming\n",
    "    for k in range(num_vertices):\n",
    "        for i in range(num_vertices):\n",
    "            for j in range(num_vertices):\n",
    "                dist[i][j] = min(dist[i][j], dist[i][k] + dist[k][j])\n",
    "\n",
    "    return dist\n",
    "\n",
    "# Example graph with weighted edges (use 'inf' for non-existent edges)\n",
    "graph = {\n",
    "    0: {1: 3, 2: 6},\n",
    "    1: {2: 2, 3: 1},\n",
    "    2: {3: 1},\n",
    "    3: {0: 1}\n",
    "}\n",
    "\n",
    "shortest_paths = floyd_warshall(graph)\n",
    "\n",
    "# Print the shortest path distances between all pairs of vertices\n",
    "for i, row in enumerate(shortest_paths):\n",
    "    for j, distance in enumerate(row):\n",
    "        print(f\"Shortest distance from node {i} to node {j}: {distance}\")\n"
   ]
  },
  {
   "attachments": {},
   "cell_type": "markdown",
   "metadata": {},
   "source": [
    "# BFS"
   ]
  },
  {
   "cell_type": "code",
   "execution_count": 1,
   "metadata": {},
   "outputs": [
    {
     "name": "stdout",
     "output_type": "stream",
     "text": [
      "Visited node: A\n",
      "Visited node: B\n",
      "Visited node: C\n",
      "Visited node: D\n",
      "Visited node: E\n",
      "Visited node: F\n"
     ]
    }
   ],
   "source": [
    "from collections import deque\n",
    "\n",
    "def bfs(graph, start):\n",
    "    visited = set()\n",
    "    queue = deque([start])\n",
    "\n",
    "    while queue:\n",
    "        node = queue.popleft()\n",
    "        if node not in visited:\n",
    "            visited.add(node)\n",
    "            print(\"Visited node:\", node)\n",
    "\n",
    "            for neighbor in graph[node]:\n",
    "                if neighbor not in visited:\n",
    "                    queue.append(neighbor)\n",
    "\n",
    "# Example graph represented as an adjacency list\n",
    "graph = {\n",
    "    'A': ['B', 'C'],\n",
    "    'B': ['A', 'D'],\n",
    "    'C': ['A', 'E'],\n",
    "    'D': ['B'],\n",
    "    'E': ['C', 'F'],\n",
    "    'F': ['E']\n",
    "}\n",
    "\n",
    "start_node = 'A'\n",
    "bfs(graph, start_node)\n"
   ]
  },
  {
   "attachments": {},
   "cell_type": "markdown",
   "metadata": {},
   "source": [
    "# DFS"
   ]
  },
  {
   "cell_type": "code",
   "execution_count": 2,
   "metadata": {},
   "outputs": [
    {
     "name": "stdout",
     "output_type": "stream",
     "text": [
      "Visited node: A\n",
      "Visited node: B\n",
      "Visited node: D\n",
      "Visited node: C\n",
      "Visited node: E\n",
      "Visited node: F\n"
     ]
    }
   ],
   "source": [
    "def dfs(graph, node, visited):\n",
    "    if node not in visited:\n",
    "        visited.add(node)\n",
    "        print(\"Visited node:\", node)\n",
    "\n",
    "        for neighbor in graph[node]:\n",
    "            dfs(graph, neighbor, visited)\n",
    "\n",
    "# Example graph represented as an adjacency list\n",
    "graph = {\n",
    "    'A': ['B', 'C'],\n",
    "    'B': ['A', 'D'],\n",
    "    'C': ['A', 'E'],\n",
    "    'D': ['B'],\n",
    "    'E': ['C', 'F'],\n",
    "    'F': ['E']\n",
    "}\n",
    "\n",
    "start_node = 'A'\n",
    "visited_nodes = set()\n",
    "dfs(graph, start_node, visited_nodes)\n"
   ]
  }
 ],
 "metadata": {
  "kernelspec": {
   "display_name": "py38",
   "language": "python",
   "name": "python3"
  },
  "language_info": {
   "codemirror_mode": {
    "name": "ipython",
    "version": 3
   },
   "file_extension": ".py",
   "mimetype": "text/x-python",
   "name": "python",
   "nbconvert_exporter": "python",
   "pygments_lexer": "ipython3",
   "version": "3.8.16"
  },
  "orig_nbformat": 4
 },
 "nbformat": 4,
 "nbformat_minor": 2
}
