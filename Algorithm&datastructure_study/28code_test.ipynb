{
 "cells": [
  {
   "cell_type": "markdown",
   "metadata": {},
   "source": [
    "## 불량사용자\n",
    "https://school.programmers.co.kr/learn/courses/30/lessons/64064"
   ]
  },
  {
   "cell_type": "code",
   "execution_count": null,
   "metadata": {},
   "outputs": [],
   "source": [
    "import re\n",
    "from itertools import permutations\n",
    "def solution(user_id, banned_id):\n",
    "\n",
    "    reg_id = [i.replace(\"*\", \"\\w{1}\") for i in banned_id]\n",
    "    answer = []\n",
    "    for candidate in permutations(user_id,len(banned_id)):\n",
    "        all_pass =True\n",
    "        for j in range(len(reg_id)):\n",
    "            if re.match(reg_id[j], candidate[j]) and (len(banned_id[j]) == len(candidate[j])):\n",
    "                continue\n",
    "            else: \n",
    "                all_pass = False\n",
    "                break\n",
    "        \n",
    "        if all_pass and set(candidate) not in answer:\n",
    "            answer.append(set(candidate))\n",
    "        \n",
    "    \n",
    "    return len(answer)"
   ]
  },
  {
   "cell_type": "code",
   "execution_count": null,
   "metadata": {},
   "outputs": [],
   "source": [
    "# 최적화 코드\n",
    "import re\n",
    "from itertools import permutations\n",
    "\n",
    "def solution(user_id, banned_id):\n",
    "    # 정규 표현식 패턴을 미리 컴파일\n",
    "    reg_id = [re.compile(i.replace(\"*\", \".{1}\")) for i in banned_id]\n",
    "    \n",
    "    # 발견된 조합을 저장할 set\n",
    "    found_combinations = set()\n",
    "    \n",
    "    # 모든 사용자 아이디의 순열을 반복\n",
    "    for candidate in permutations(user_id, len(banned_id)):\n",
    "        # 모든 제재 아이디 패턴에 대해 검사\n",
    "        if all(reg_id[j].fullmatch(candidate[j]) for j in range(len(banned_id))):\n",
    "            # frozenset을 사용하여 불변 집합 생성\n",
    "            candidate_set = frozenset(candidate)\n",
    "            # 중복되지 않은 조합만 저장\n",
    "            found_combinations.add(candidate_set)\n",
    "    \n",
    "    # 유일한 조합의 수 반환\n",
    "    return len(found_combinations)"
   ]
  },
  {
   "cell_type": "markdown",
   "metadata": {},
   "source": [
    "- re.compile을 사용하여 각 제재 아이디 패턴에 대한 정규 표현식을 미리 컴파일합니다. 이렇게 하면 같은 패턴에 대해 여러 번 매칭을 수행할 때 성능이 향상됩니다.\n",
    "- all 함수와 함께 제너레이터 표현식을 사용하여 모든 패턴이 일치하는지 한 번에 검사합니다.\n",
    "- frozenset을 사용하여 각 후보 조합을 불변 집합으로 만들고, 이를 found_combinations 집합에 추가합니다. frozenset은 해시 가능하므로 집합에 저장할 수 있습니다.\n",
    "- found_combinations 집합은 중복된 조합을 자동으로 제거합니다. 이로 인해 if all_pass and set(candidate) not in answer:와 같은 중복 검사 로직이 필요 없어집니다."
   ]
  },
  {
   "cell_type": "code",
   "execution_count": null,
   "metadata": {},
   "outputs": [],
   "source": [
    "# dfs 다른사람 풀이\n",
    "\n",
    "from collections import defaultdict\n",
    "\n",
    "def solution(user_id, banned_id):\n",
    "    answer = 0\n",
    "    dic = defaultdict(set)\n",
    "\n",
    "    for banned in banned_id:\n",
    "        for user in user_id:\n",
    "            i=0\n",
    "            flag=False\n",
    "            if len(user)!=len(banned):continue\n",
    "            for b,u in zip(banned,user):\n",
    "                if b!=u and b!=\"*\":\n",
    "                    flag=True\n",
    "            if flag==False:\n",
    "                dic[banned].add(user)\n",
    "\n",
    "\n",
    "    visited={}\n",
    "    def init_visited():\n",
    "        for id in user_id:\n",
    "            visited[id]=False\n",
    "\n",
    "    stack=[]\n",
    "    i=0\n",
    "    result = set()\n",
    "\n",
    "    def dfs(i,key):\n",
    "        visited[key]=True\n",
    "        temp.append(key)\n",
    "        i+=1\n",
    "\n",
    "        if i==len(banned_id):\n",
    "            result.add(tuple(sorted(temp)))\n",
    "            return\n",
    "\n",
    "        for point in dic[banned_id[i]]:\n",
    "            if not visited[point]:\n",
    "                dfs(i,point)\n",
    "                visited[temp.pop()]=False\n",
    "\n",
    "    for key in dic[banned_id[0]]:\n",
    "        temp = []\n",
    "        init_visited()\n",
    "        dfs(0,key)\n",
    "\n",
    "\n",
    "\n",
    "    answer = len(result)\n",
    "\n",
    "\n",
    "    return answer"
   ]
  },
  {
   "cell_type": "markdown",
   "metadata": {},
   "source": [
    "## 보석 쇼핑"
   ]
  },
  {
   "cell_type": "code",
   "execution_count": 1,
   "metadata": {},
   "outputs": [],
   "source": [
    "#시간초과테스트 & 효율성\n",
    "def check(gems,section_num,num):\n",
    "    for i in range(len(gems) - section_num + 1):\n",
    "        start_idx = i\n",
    "        last_idx = i + section_num\n",
    "        temp_gem = gems[start_idx : last_idx]\n",
    "        if len(set(temp_gem)) == num:\n",
    "            return [start_idx + 1, last_idx]\n",
    "\n",
    "    \n",
    "def solution(gems):\n",
    "    num = len(set(gems))\n",
    "    for i in range(num,len(gems) + 1,1):\n",
    "        answer = check(gems,i,num)\n",
    "        if answer :            \n",
    "            break\n",
    "        else: \n",
    "            continue\n",
    "    return answer"
   ]
  },
  {
   "cell_type": "markdown",
   "metadata": {},
   "source": [
    "https://velog.io/@sem/%ED%94%84%EB%A1%9C%EA%B7%B8%EB%9E%98%EB%A8%B8%EC%8A%A4-LEVEL3-%EB%B3%B4%EC%84%9D-%EC%87%BC%ED%95%91-Python"
   ]
  },
  {
   "cell_type": "code",
   "execution_count": null,
   "metadata": {},
   "outputs": [],
   "source": [
    "# 투포인터 문제풀이\n",
    "def solution(gems):\n",
    "    answer = [0, len(gems)]\n",
    "    num = len(set(gems))\n",
    "    left,right = 0 , 0\n",
    "    gem_dict = {gems[0] : 1} # map[보석이름] = 등장한 빈도수\n",
    "    \n",
    "    while left < len(gems) and right < len(gems):\n",
    "        if len(gem_dict) == num:\n",
    "            # 구간 길이 확인\n",
    "            if right - left < answer[1] - answer[0]:\n",
    "                answer = [left,right]\n",
    "            else:\n",
    "                gem_dict[gems[left]] -= 1\n",
    "                # 횟수가 0이되면 보석 삭제\n",
    "                if gem_dict[gems[left]] == 0:\n",
    "                    del gem_dict[gems[left]]\n",
    "                \n",
    "                left += 1 #왼쪽 포인터 이동\n",
    "        else  : #보석 종류가 부족하면 right를 이동\n",
    "            right += 1\n",
    "            if right == len(gems):\n",
    "                break\n",
    "            #보석 넣기                \n",
    "            gem_dict[gems[right]] = gem_dict.get(gems[right], 0) + 1\n",
    "                \n",
    "    return [answer[0]+1, answer[1]+1]"
   ]
  },
  {
   "cell_type": "code",
   "execution_count": null,
   "metadata": {},
   "outputs": [],
   "source": []
  }
 ],
 "metadata": {
  "kernelspec": {
   "display_name": "py38",
   "language": "python",
   "name": "python3"
  },
  "language_info": {
   "codemirror_mode": {
    "name": "ipython",
    "version": 3
   },
   "file_extension": ".py",
   "mimetype": "text/x-python",
   "name": "python",
   "nbconvert_exporter": "python",
   "pygments_lexer": "ipython3",
   "version": "3.8.17"
  }
 },
 "nbformat": 4,
 "nbformat_minor": 2
}
