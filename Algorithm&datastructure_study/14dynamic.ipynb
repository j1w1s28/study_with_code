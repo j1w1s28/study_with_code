{
 "cells": [
  {
   "cell_type": "code",
   "execution_count": 3,
   "metadata": {},
   "outputs": [],
   "source": [
    "def re(n):    \n",
    "    if n == 1 or n ==2:\n",
    "        return 1\n",
    "    else:        \n",
    "        return re(n-1) + re(n-2)"
   ]
  },
  {
   "cell_type": "code",
   "execution_count": 4,
   "metadata": {},
   "outputs": [],
   "source": [
    "lst = [0] * 41\n",
    "lst[1]=1 \n",
    "lst[2]=1\n",
    "def fibo(n,lst):\n",
    "    global cnt\n",
    "    for i in range(3,n+1):\n",
    "        cnt +=1\n",
    "        lst[i] = lst[i-1] + lst[i-2]\n",
    "    return lst[i]"
   ]
  },
  {
   "cell_type": "code",
   "execution_count": 6,
   "metadata": {},
   "outputs": [
    {
     "name": "stdout",
     "output_type": "stream",
     "text": [
      "832040 28\n"
     ]
    }
   ],
   "source": [
    "import sys\n",
    "\n",
    "#sys.setrecursionlimit(10**6)\n",
    "cnt = 0\n",
    "sys.stdin = open(\"../input.txt\", \"r\")\n",
    "input = sys.stdin.readline\n",
    "num = int(input())\n",
    "\n",
    "print(fibo(num,lst),cnt)"
   ]
  },
  {
   "cell_type": "code",
   "execution_count": 11,
   "metadata": {},
   "outputs": [
    {
     "data": {
      "text/plain": [
       "3"
      ]
     },
     "execution_count": 11,
     "metadata": {},
     "output_type": "execute_result"
    }
   ],
   "source": [
    "fibo(num,lst)"
   ]
  },
  {
   "cell_type": "code",
   "execution_count": null,
   "metadata": {},
   "outputs": [],
   "source": []
  }
 ],
 "metadata": {
  "kernelspec": {
   "display_name": "py38",
   "language": "python",
   "name": "python3"
  },
  "language_info": {
   "codemirror_mode": {
    "name": "ipython",
    "version": 3
   },
   "file_extension": ".py",
   "mimetype": "text/x-python",
   "name": "python",
   "nbconvert_exporter": "python",
   "pygments_lexer": "ipython3",
   "version": "3.8.17"
  },
  "orig_nbformat": 4
 },
 "nbformat": 4,
 "nbformat_minor": 2
}
