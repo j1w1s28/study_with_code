{
 "cells": [
  {
   "attachments": {},
   "cell_type": "markdown",
   "metadata": {},
   "source": [
    "# 가장 먼 노드"
   ]
  },
  {
   "cell_type": "code",
   "execution_count": 1,
   "metadata": {},
   "outputs": [],
   "source": [
    "n, vertex = 6,[[3, 6], [4, 3], [3, 2], [1, 3], [1, 2], [2, 4], [5, 2]]"
   ]
  },
  {
   "cell_type": "code",
   "execution_count": 2,
   "metadata": {},
   "outputs": [
    {
     "data": {
      "text/plain": [
       "[[1, 2], [1, 3], [2, 4], [3, 2], [3, 6], [4, 3], [5, 2]]"
      ]
     },
     "execution_count": 2,
     "metadata": {},
     "output_type": "execute_result"
    }
   ],
   "source": [
    "sorted(vertex)"
   ]
  },
  {
   "cell_type": "code",
   "execution_count": 17,
   "metadata": {},
   "outputs": [],
   "source": [
    "connect = {}\n",
    "for node,edge in vertex:\n",
    "    connect[node] = connect.get(node,[]) + [edge]\n",
    "    connect[edge] = connect.get(edge,[]) + [node]"
   ]
  },
  {
   "cell_type": "code",
   "execution_count": 18,
   "metadata": {},
   "outputs": [
    {
     "data": {
      "text/plain": [
       "{3: [6, 4, 2, 1], 6: [3], 4: [3, 2], 2: [3, 1, 4, 5], 1: [3, 2], 5: [2]}"
      ]
     },
     "execution_count": 18,
     "metadata": {},
     "output_type": "execute_result"
    }
   ],
   "source": [
    "connect"
   ]
  },
  {
   "cell_type": "code",
   "execution_count": 21,
   "metadata": {},
   "outputs": [
    {
     "data": {
      "text/plain": [
       "[True, False, False, False, False, False]"
      ]
     },
     "execution_count": 21,
     "metadata": {},
     "output_type": "execute_result"
    }
   ],
   "source": [
    "visited = [False] * n\n",
    "visited[0] = True\n",
    "visited"
   ]
  },
  {
   "cell_type": "code",
   "execution_count": 32,
   "metadata": {},
   "outputs": [],
   "source": [
    "finish = [True] * n"
   ]
  },
  {
   "cell_type": "code",
   "execution_count": 35,
   "metadata": {},
   "outputs": [
    {
     "data": {
      "text/plain": [
       "True"
      ]
     },
     "execution_count": 35,
     "metadata": {},
     "output_type": "execute_result"
    }
   ],
   "source": [
    "visited != finish"
   ]
  },
  {
   "cell_type": "markdown",
   "metadata": {},
   "source": [
    "# 게임맵최단거리"
   ]
  },
  {
   "cell_type": "code",
   "execution_count": 20,
   "metadata": {},
   "outputs": [],
   "source": [
    "stack = []"
   ]
  },
  {
   "cell_type": "code",
   "execution_count": null,
   "metadata": {},
   "outputs": [],
   "source": [
    "while visited != finish:\n",
    "    stack.append(1)\n",
    "    next = connect[1]\n",
    "    while stack:\n",
    "        curr = next.pop()"
   ]
  },
  {
   "cell_type": "code",
   "execution_count": 19,
   "metadata": {},
   "outputs": [
    {
     "name": "stdout",
     "output_type": "stream",
     "text": [
      "3\n",
      "2\n",
      "3\n",
      "1\n",
      "4\n",
      "5\n",
      "6\n",
      "4\n",
      "2\n",
      "1\n",
      "3\n",
      "2\n",
      "2\n",
      "3\n"
     ]
    }
   ],
   "source": [
    "count = 0\n",
    "for i in range(1,n+1):\n",
    "    con = connect[i]\n",
    "    count += 1\n",
    "    for v in con:\n",
    "        stack.append(count,v)"
   ]
  },
  {
   "cell_type": "code",
   "execution_count": 1,
   "metadata": {},
   "outputs": [],
   "source": [
    "maps = [[1,0,1,1,1],[1,0,1,0,1],[1,0,1,1,1],[1,1,1,0,1],[0,0,0,0,1]]"
   ]
  },
  {
   "cell_type": "code",
   "execution_count": 10,
   "metadata": {},
   "outputs": [],
   "source": [
    "from collections import defaultdict\n",
    "\n"
   ]
  },
  {
   "cell_type": "code",
   "execution_count": 13,
   "metadata": {},
   "outputs": [
    {
     "name": "stdout",
     "output_type": "stream",
     "text": [
      "i: 5 j: 5\n"
     ]
    }
   ],
   "source": [
    "print(f'i: {len(maps)} j: {len(maps[0])}')"
   ]
  },
  {
   "cell_type": "code",
   "execution_count": 31,
   "metadata": {},
   "outputs": [],
   "source": [
    "def find_path(maps,current=tuple):\n",
    "    i,j = current\n",
    "    possible_path = []\n",
    "    if i != 0 and i != len(maps)-1:\n",
    "        if maps[i+1][j] != 0:\n",
    "           possible_path.append((i+1,j))\n",
    "        if maps[i-1][j] != 0:\n",
    "            possible_path.append((i-1,j))\n",
    "    elif i == 0:\n",
    "        if maps[i+1][j] != 0:\n",
    "           possible_path.append((i+1,j))\n",
    "        \n",
    "    if j != 0 and j != len(maps[0])-1:\n",
    "        if maps[i][j+1] != 0:\n",
    "           possible_path.append((i,j+1))\n",
    "        if maps[i][j-1] != 0:\n",
    "            possible_path.append((i,j-1))\n",
    "    elif j == 0:\n",
    "        if maps[i][j+1] != 0:\n",
    "           possible_path.append((i,j+1))\n",
    "    return possible_path      "
   ]
  },
  {
   "cell_type": "code",
   "execution_count": 62,
   "metadata": {},
   "outputs": [
    {
     "data": {
      "text/plain": [
       "[(3, 2), (1, 2), (2, 3)]"
      ]
     },
     "execution_count": 62,
     "metadata": {},
     "output_type": "execute_result"
    }
   ],
   "source": [
    "test=find_path(maps,(2,2))\n",
    "test"
   ]
  },
  {
   "cell_type": "code",
   "execution_count": 68,
   "metadata": {},
   "outputs": [],
   "source": [
    "def dfs(maps,length,visited,current=tuple):\n",
    "    answers= []\n",
    "    if current == (len(maps)-1,len(maps[0])-1):\n",
    "        print('answer 추가')\n",
    "        return [length]\n",
    "    else:\n",
    "        visited[current] = True\n",
    "        possible_paths = find_path(maps,current)\n",
    "        length += 1\n",
    "        for path in possible_paths:\n",
    "            #print(path)\n",
    "            if visited[path] == False:\n",
    "                print('재귀시작')\n",
    "                print(f'현재 위치 : {current} path: {path} 현재 length : {length}')\n",
    "                answers += dfs(maps,length,visited,path)\n",
    "    return answers      \n"
   ]
  },
  {
   "cell_type": "code",
   "execution_count": 75,
   "metadata": {},
   "outputs": [],
   "source": [
    "def dfs(maps,length,past,current=tuple):\n",
    "    answers= []\n",
    "    if current == (len(maps)-1,len(maps[0])-1):\n",
    "        print(f'answer추가')\n",
    "        return [length+1]\n",
    "    else:\n",
    "        #visited[current] = True\n",
    "        past.append(current)\n",
    "        possible_paths = find_path(maps,current)\n",
    "        length += 1\n",
    "        for path in possible_paths:\n",
    "            #print(path)\n",
    "            if path not in past:\n",
    "                print('재귀시작')\n",
    "                print(f'현재 위치 : {current} path: {path} 현재 length : {length}')\n",
    "                answers += dfs(maps,length,past,path)\n",
    "    past.pop()\n",
    "    print(f'남은 past : {past}')\n",
    "    return answers      \n"
   ]
  },
  {
   "cell_type": "code",
   "execution_count": 69,
   "metadata": {},
   "outputs": [
    {
     "name": "stdout",
     "output_type": "stream",
     "text": [
      "재귀시작\n",
      "현재 위치 : (0, 0) path: (1, 0) 현재 length : 1\n",
      "재귀시작\n",
      "현재 위치 : (1, 0) path: (2, 0) 현재 length : 2\n",
      "재귀시작\n",
      "현재 위치 : (2, 0) path: (3, 0) 현재 length : 3\n",
      "재귀시작\n",
      "현재 위치 : (3, 0) path: (3, 1) 현재 length : 4\n",
      "재귀시작\n",
      "현재 위치 : (3, 1) path: (3, 2) 현재 length : 5\n",
      "재귀시작\n",
      "현재 위치 : (3, 2) path: (2, 2) 현재 length : 6\n",
      "재귀시작\n",
      "현재 위치 : (2, 2) path: (1, 2) 현재 length : 7\n",
      "재귀시작\n",
      "현재 위치 : (1, 2) path: (0, 2) 현재 length : 8\n",
      "재귀시작\n",
      "현재 위치 : (0, 2) path: (0, 3) 현재 length : 9\n",
      "재귀시작\n",
      "현재 위치 : (0, 3) path: (0, 4) 현재 length : 10\n",
      "재귀시작\n",
      "현재 위치 : (0, 4) path: (1, 4) 현재 length : 11\n",
      "재귀시작\n",
      "현재 위치 : (1, 4) path: (2, 4) 현재 length : 12\n",
      "재귀시작\n",
      "현재 위치 : (2, 4) path: (3, 4) 현재 length : 13\n",
      "재귀시작\n",
      "현재 위치 : (3, 4) path: (4, 4) 현재 length : 14\n",
      "answer 추가\n",
      "재귀시작\n",
      "현재 위치 : (2, 2) path: (2, 3) 현재 length : 7\n"
     ]
    }
   ],
   "source": [
    "visited = defaultdict(bool)\n",
    "output=dfs(maps,0,visited,(0,0))"
   ]
  },
  {
   "cell_type": "code",
   "execution_count": 76,
   "metadata": {},
   "outputs": [
    {
     "name": "stdout",
     "output_type": "stream",
     "text": [
      "재귀시작\n",
      "현재 위치 : (0, 0) path: (1, 0) 현재 length : 1\n",
      "재귀시작\n",
      "현재 위치 : (1, 0) path: (2, 0) 현재 length : 2\n",
      "재귀시작\n",
      "현재 위치 : (2, 0) path: (3, 0) 현재 length : 3\n",
      "재귀시작\n",
      "현재 위치 : (3, 0) path: (3, 1) 현재 length : 4\n",
      "재귀시작\n",
      "현재 위치 : (3, 1) path: (3, 2) 현재 length : 5\n",
      "재귀시작\n",
      "현재 위치 : (3, 2) path: (2, 2) 현재 length : 6\n",
      "재귀시작\n",
      "현재 위치 : (2, 2) path: (1, 2) 현재 length : 7\n",
      "재귀시작\n",
      "현재 위치 : (1, 2) path: (0, 2) 현재 length : 8\n",
      "재귀시작\n",
      "현재 위치 : (0, 2) path: (0, 3) 현재 length : 9\n",
      "재귀시작\n",
      "현재 위치 : (0, 3) path: (0, 4) 현재 length : 10\n",
      "재귀시작\n",
      "현재 위치 : (0, 4) path: (1, 4) 현재 length : 11\n",
      "재귀시작\n",
      "현재 위치 : (1, 4) path: (2, 4) 현재 length : 12\n",
      "재귀시작\n",
      "현재 위치 : (2, 4) path: (3, 4) 현재 length : 13\n",
      "재귀시작\n",
      "현재 위치 : (3, 4) path: (4, 4) 현재 length : 14\n",
      "answer추가\n",
      "남은 past : [(0, 0), (1, 0), (2, 0), (3, 0), (3, 1), (3, 2), (2, 2), (1, 2), (0, 2), (0, 3), (0, 4), (1, 4), (2, 4)]\n",
      "남은 past : [(0, 0), (1, 0), (2, 0), (3, 0), (3, 1), (3, 2), (2, 2), (1, 2), (0, 2), (0, 3), (0, 4), (1, 4)]\n",
      "남은 past : [(0, 0), (1, 0), (2, 0), (3, 0), (3, 1), (3, 2), (2, 2), (1, 2), (0, 2), (0, 3), (0, 4)]\n",
      "남은 past : [(0, 0), (1, 0), (2, 0), (3, 0), (3, 1), (3, 2), (2, 2), (1, 2), (0, 2), (0, 3)]\n",
      "남은 past : [(0, 0), (1, 0), (2, 0), (3, 0), (3, 1), (3, 2), (2, 2), (1, 2), (0, 2)]\n",
      "남은 past : [(0, 0), (1, 0), (2, 0), (3, 0), (3, 1), (3, 2), (2, 2), (1, 2)]\n",
      "남은 past : [(0, 0), (1, 0), (2, 0), (3, 0), (3, 1), (3, 2), (2, 2)]\n",
      "재귀시작\n",
      "현재 위치 : (2, 2) path: (2, 3) 현재 length : 7\n",
      "재귀시작\n",
      "현재 위치 : (2, 3) path: (2, 4) 현재 length : 8\n",
      "재귀시작\n",
      "현재 위치 : (2, 4) path: (3, 4) 현재 length : 9\n",
      "재귀시작\n",
      "현재 위치 : (3, 4) path: (4, 4) 현재 length : 10\n",
      "answer추가\n",
      "남은 past : [(0, 0), (1, 0), (2, 0), (3, 0), (3, 1), (3, 2), (2, 2), (2, 3), (2, 4)]\n",
      "재귀시작\n",
      "현재 위치 : (2, 4) path: (1, 4) 현재 length : 9\n",
      "재귀시작\n",
      "현재 위치 : (1, 4) path: (0, 4) 현재 length : 10\n",
      "남은 past : [(0, 0), (1, 0), (2, 0), (3, 0), (3, 1), (3, 2), (2, 2), (2, 3), (2, 4), (1, 4)]\n",
      "남은 past : [(0, 0), (1, 0), (2, 0), (3, 0), (3, 1), (3, 2), (2, 2), (2, 3), (2, 4)]\n",
      "남은 past : [(0, 0), (1, 0), (2, 0), (3, 0), (3, 1), (3, 2), (2, 2), (2, 3)]\n",
      "남은 past : [(0, 0), (1, 0), (2, 0), (3, 0), (3, 1), (3, 2), (2, 2)]\n",
      "남은 past : [(0, 0), (1, 0), (2, 0), (3, 0), (3, 1), (3, 2)]\n",
      "남은 past : [(0, 0), (1, 0), (2, 0), (3, 0), (3, 1)]\n",
      "남은 past : [(0, 0), (1, 0), (2, 0), (3, 0)]\n",
      "남은 past : [(0, 0), (1, 0), (2, 0)]\n",
      "남은 past : [(0, 0), (1, 0)]\n",
      "남은 past : [(0, 0)]\n",
      "남은 past : []\n"
     ]
    }
   ],
   "source": [
    "output=dfs(maps,0,[],(0,0))"
   ]
  },
  {
   "cell_type": "code",
   "execution_count": 78,
   "metadata": {},
   "outputs": [
    {
     "data": {
      "text/plain": [
       "11"
      ]
     },
     "execution_count": 78,
     "metadata": {},
     "output_type": "execute_result"
    }
   ],
   "source": [
    "min(output)"
   ]
  },
  {
   "cell_type": "code",
   "execution_count": 3,
   "metadata": {},
   "outputs": [],
   "source": [
    "test ={1:2,3:4}"
   ]
  },
  {
   "cell_type": "code",
   "execution_count": 4,
   "metadata": {},
   "outputs": [
    {
     "data": {
      "text/plain": [
       "2"
      ]
     },
     "execution_count": 4,
     "metadata": {},
     "output_type": "execute_result"
    }
   ],
   "source": [
    "len(test)"
   ]
  },
  {
   "cell_type": "code",
   "execution_count": 61,
   "metadata": {},
   "outputs": [
    {
     "data": {
      "text/plain": [
       "defaultdict(bool,\n",
       "            {(0, 0): True,\n",
       "             (1, 0): True,\n",
       "             (2, 0): True,\n",
       "             (3, 0): True,\n",
       "             (3, 1): True,\n",
       "             (3, 2): True,\n",
       "             (2, 2): True,\n",
       "             (1, 2): True,\n",
       "             (0, 2): True,\n",
       "             (0, 3): True,\n",
       "             (0, 4): True,\n",
       "             (1, 4): True,\n",
       "             (2, 4): True,\n",
       "             (3, 4): True,\n",
       "             (4, 4): False,\n",
       "             (2, 3): True})"
      ]
     },
     "execution_count": 61,
     "metadata": {},
     "output_type": "execute_result"
    }
   ],
   "source": [
    "visited"
   ]
  },
  {
   "cell_type": "code",
   "execution_count": 70,
   "metadata": {},
   "outputs": [
    {
     "name": "stdout",
     "output_type": "stream",
     "text": [
      "Visited node: A\n",
      "Visited node: B\n",
      "Visited node: C\n",
      "Visited node: D\n",
      "Visited node: E\n",
      "Visited node: F\n"
     ]
    }
   ],
   "source": [
    "#gpt\n",
    "from collections import deque\n",
    "\n",
    "def bfs(graph, start):\n",
    "    visited = set()\n",
    "    queue = deque([start])\n",
    "\n",
    "    while queue:\n",
    "        node = queue.popleft()\n",
    "        if node not in visited:\n",
    "            visited.add(node)\n",
    "            print(\"Visited node:\", node)\n",
    "\n",
    "            for neighbor in graph[node]:\n",
    "                if neighbor not in visited:\n",
    "                    queue.append(neighbor)\n",
    "\n",
    "# Example graph represented as an adjacency list\n",
    "graph = {\n",
    "    'A': ['B', 'C'],\n",
    "    'B': ['A', 'D'],\n",
    "    'C': ['A', 'E'],\n",
    "    'D': ['B'],\n",
    "    'E': ['C', 'F'],\n",
    "    'F': ['E']\n",
    "}\n",
    "\n",
    "start_node = 'A'\n",
    "bfs(graph, start_node)"
   ]
  },
  {
   "cell_type": "code",
   "execution_count": 8,
   "metadata": {},
   "outputs": [
    {
     "name": "stdout",
     "output_type": "stream",
     "text": [
      "1\n",
      "2\n",
      "3\n",
      "4\n",
      "0\n"
     ]
    }
   ],
   "source": [
    "import sys\n",
    "sys.setrecursionlimit(10**6)\n",
    "input = sys. sys.stdin.readline # 이거해야 시간초과 안남 ㅁㅊ\n",
    "num_nodes, num_edges, start =map(int, input().split())\n",
    "graph, visited  = {} , {}\n",
    "count = 1  \n",
    "\n",
    "for node in range(1,num_nodes+1):\n",
    "    graph[node] = []\n",
    "    visited[node] = 0    \n",
    "\n",
    "for i in range(num_edges):    \n",
    "    node, edge = map(int,input().split())\n",
    "    graph.get(node).append(edge)\n",
    "    graph.get(edge).append(node)\n",
    "\n",
    "for i in range(1,len(graph)+1):\n",
    "    graph.get(i).sort()\n",
    "\n",
    "def dfs(curr):   \n",
    "    global count\n",
    "    visited[curr] = count\n",
    "    paths = graph.get(curr)\n",
    "    for path in paths:\n",
    "        if visited[path] == 0:\n",
    "            count += 1\n",
    "            dfs(path)        \n",
    "  \n",
    "dfs(start) \n",
    "for i,v in visited.items():\n",
    "    print(v)"
   ]
  }
 ],
 "metadata": {
  "kernelspec": {
   "display_name": "py38",
   "language": "python",
   "name": "python3"
  },
  "language_info": {
   "codemirror_mode": {
    "name": "ipython",
    "version": 3
   },
   "file_extension": ".py",
   "mimetype": "text/x-python",
   "name": "python",
   "nbconvert_exporter": "python",
   "pygments_lexer": "ipython3",
   "version": "3.8.17"
  },
  "orig_nbformat": 4
 },
 "nbformat": 4,
 "nbformat_minor": 2
}
