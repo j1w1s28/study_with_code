{
 "cells": [
  {
   "cell_type": "markdown",
   "metadata": {},
   "source": [
    "# 성격 유형 검사하기"
   ]
  },
  {
   "cell_type": "code",
   "execution_count": 23,
   "metadata": {},
   "outputs": [],
   "source": [
    "survey = [\"AN\", \"CF\", \"MJ\", \"RT\", \"NA\"]\n",
    "choices = [5, 3, 2, 7, 5]"
   ]
  },
  {
   "cell_type": "code",
   "execution_count": 39,
   "metadata": {},
   "outputs": [],
   "source": [
    "mbti = {1: {'R': 0,\n",
    "            'T' : 0 },\n",
    "        2: {'C': 0,\n",
    "            'F' : 0 },\n",
    "        3: {'J': 0,\n",
    "            'M' : 0 },\n",
    "        4: {'A': 0,\n",
    "            'N' : 0 },\n",
    "            }"
   ]
  },
  {
   "cell_type": "code",
   "execution_count": 41,
   "metadata": {},
   "outputs": [],
   "source": [
    "for i, s in enumerate(survey):\n",
    "    choice =choices[i] \n",
    "    if 'R' in s:\n",
    "        survey_mbti = mbti[1]\n",
    "    elif 'C' in s:\n",
    "        survey_mbti = mbti[2]\n",
    "    elif 'J' in s:\n",
    "        survey_mbti = mbti[3]\n",
    "    elif 'A' in s:\n",
    "        survey_mbti = mbti[4]\n",
    "    \n",
    "    if choice == 4:\n",
    "        continue\n",
    "    elif choice < 4:\n",
    "        survey_mbti[s[0]] += (4 - choice)\n",
    "    elif choice > 4:\n",
    "        survey_mbti[s[1]] += (choice - 4)\n",
    "\n",
    "for v in mbti.values():\n",
    "    answer += max(v,key=v.get) #중복일 때 list comprehension 사용하면 두개 값 다 나옴 아니면 제일 최초 key만 반환"
   ]
  },
  {
   "cell_type": "code",
   "execution_count": 15,
   "metadata": {},
   "outputs": [
    {
     "name": "stdout",
     "output_type": "stream",
     "text": [
      "T\n",
      "F\n",
      "M\n",
      "N\n"
     ]
    }
   ],
   "source": [
    "for v in mbti.values():\n",
    "    print(max(v))"
   ]
  },
  {
   "cell_type": "code",
   "execution_count": 33,
   "metadata": {},
   "outputs": [
    {
     "data": {
      "text/plain": [
       "'N'"
      ]
     },
     "execution_count": 33,
     "metadata": {},
     "output_type": "execute_result"
    }
   ],
   "source": [
    "max(mbti[4],key=mbti[4].get)"
   ]
  },
  {
   "cell_type": "markdown",
   "metadata": {},
   "source": [
    "# 신고 결과 받기"
   ]
  },
  {
   "cell_type": "code",
   "execution_count": 43,
   "metadata": {},
   "outputs": [],
   "source": [
    "id_list  = [\"muzi\", \"frodo\", \"apeach\", \"neo\"]\n",
    "report = [\"muzi frodo\",\"apeach frodo\",\"frodo neo\",\"muzi neo\",\"apeach muzi\"]\n",
    "k = 2"
   ]
  },
  {
   "cell_type": "code",
   "execution_count": 49,
   "metadata": {},
   "outputs": [],
   "source": [
    "user_dict = {i : 0 for i in id_list}\n",
    "complain_dict = {i : [] for i in id_list}"
   ]
  },
  {
   "cell_type": "code",
   "execution_count": 50,
   "metadata": {},
   "outputs": [
    {
     "data": {
      "text/plain": [
       "{'muzi': [], 'frodo': [], 'apeach': [], 'neo': []}"
      ]
     },
     "execution_count": 50,
     "metadata": {},
     "output_type": "execute_result"
    }
   ],
   "source": [
    "complain_dict"
   ]
  },
  {
   "cell_type": "code",
   "execution_count": 51,
   "metadata": {},
   "outputs": [],
   "source": [
    "for re in report:\n",
    "    sub, obj = re.split()\n",
    "    if obj not in complain_dict[sub]:\n",
    "        user_dict[obj] += 1\n",
    "    complain_dict[sub].append(obj)"
   ]
  },
  {
   "cell_type": "code",
   "execution_count": 54,
   "metadata": {},
   "outputs": [],
   "source": [
    "suspended_lst = []\n",
    "for i , v in user_dict.items():\n",
    "    if v >= k:\n",
    "        suspended_lst.append(i)"
   ]
  },
  {
   "cell_type": "code",
   "execution_count": 57,
   "metadata": {},
   "outputs": [],
   "source": [
    "answer = []\n",
    "for i,v in complain_dict.items():\n",
    "    cnt = 0\n",
    "    for j in suspended_lst:\n",
    "        if j in v:\n",
    "            cnt += 1\n",
    "    answer.append(cnt)"
   ]
  },
  {
   "cell_type": "markdown",
   "metadata": {},
   "source": [
    "# 신규 아이디 추천"
   ]
  },
  {
   "cell_type": "code",
   "execution_count": 67,
   "metadata": {},
   "outputs": [],
   "source": [
    "# 정규표현식으로 풀기"
   ]
  },
  {
   "cell_type": "code",
   "execution_count": 66,
   "metadata": {},
   "outputs": [],
   "source": [
    "new_id = \"z-+.^.\""
   ]
  },
  {
   "cell_type": "code",
   "execution_count": 67,
   "metadata": {},
   "outputs": [],
   "source": [
    "new_id = new_id.lower()\n",
    "new_id = re.sub('[^\\w\\-_.]','',new_id)\n",
    "new_id = re.sub('\\.+','.',new_id)\n",
    "new_id = re.sub('^[.]|[.]$', '', new_id)\n",
    "\n",
    "if len(new_id) == 0:\n",
    "    new_id = 'a'\n",
    "else:\n",
    "    new_id = new_id[:15]\n",
    "\n",
    "new_id = re.sub('^[.]|[.]$', '', new_id)\n",
    "if len(new_id) <= 2:\n",
    "    for i in range(3 - len(new_id)):\n",
    "        new_id = new_id + ''.join(new_id[-1])"
   ]
  },
  {
   "cell_type": "code",
   "execution_count": 56,
   "metadata": {},
   "outputs": [
    {
     "data": {
      "text/plain": [
       "'.bat.y.abcdefgh'"
      ]
     },
     "execution_count": 56,
     "metadata": {},
     "output_type": "execute_result"
    }
   ],
   "source": [
    "new_id"
   ]
  },
  {
   "cell_type": "code",
   "execution_count": 25,
   "metadata": {},
   "outputs": [],
   "source": [
    "import re\n",
    "\n",
    "regex_code = '[^\\w]'"
   ]
  },
  {
   "cell_type": "code",
   "execution_count": 46,
   "metadata": {},
   "outputs": [],
   "source": [
    "reg_code = '[^\\w\\-_.]'"
   ]
  },
  {
   "cell_type": "code",
   "execution_count": 47,
   "metadata": {},
   "outputs": [
    {
     "data": {
      "text/plain": [
       "'...BaT..y.abcdefghijklm'"
      ]
     },
     "execution_count": 47,
     "metadata": {},
     "output_type": "execute_result"
    }
   ],
   "source": [
    "re.sub(reg_code,'',new_id)"
   ]
  },
  {
   "cell_type": "code",
   "execution_count": 48,
   "metadata": {},
   "outputs": [
    {
     "data": {
      "text/plain": [
       "'.!@BaT#*.y.abcdefghijklm'"
      ]
     },
     "execution_count": 48,
     "metadata": {},
     "output_type": "execute_result"
    }
   ],
   "source": [
    "re.sub('\\.+','.',new_id)"
   ]
  },
  {
   "cell_type": "code",
   "execution_count": 49,
   "metadata": {},
   "outputs": [
    {
     "data": {
      "text/plain": [
       "'..!@BaT#*..y.a'"
      ]
     },
     "execution_count": 49,
     "metadata": {},
     "output_type": "execute_result"
    }
   ],
   "source": [
    "if len(new_id) == 0:\n",
    "    new_id = 'a'\n",
    "else:\n",
    "    new_id = new_id[:15]\n",
    "\n",
    "new_id = re.sub('^[.]|[.]$', '', new_id)"
   ]
  },
  {
   "cell_type": "code",
   "execution_count": null,
   "metadata": {},
   "outputs": [],
   "source": []
  }
 ],
 "metadata": {
  "kernelspec": {
   "display_name": "py38",
   "language": "python",
   "name": "python3"
  },
  "language_info": {
   "codemirror_mode": {
    "name": "ipython",
    "version": 3
   },
   "file_extension": ".py",
   "mimetype": "text/x-python",
   "name": "python",
   "nbconvert_exporter": "python",
   "pygments_lexer": "ipython3",
   "version": "3.8.17"
  }
 },
 "nbformat": 4,
 "nbformat_minor": 2
}
