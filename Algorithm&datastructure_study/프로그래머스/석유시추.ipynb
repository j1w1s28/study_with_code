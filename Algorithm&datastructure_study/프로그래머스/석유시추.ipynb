{
 "cells": [
  {
   "cell_type": "code",
   "execution_count": 32,
   "metadata": {},
   "outputs": [],
   "source": [
    "land = [[0, 0, 0, 1, 1, 1, 0, 0], [0, 0, 0, 0, 1, 1, 0, 0], [1, 1, 0, 0, 0, 1, 1, 0], [1, 1, 1, 0, 0, 0, 0, 0], [1, 1, 1, 0, 0, 0, 1, 1]]\n",
    "#land = [[1, 0, 1, 0, 1, 1], [1, 0, 1, 0, 0, 0], [1, 0, 1, 0, 0, 1], [1, 0, 0, 1, 0, 0], [1, 0, 0, 1, 0, 1], [1, 0, 0, 0, 0, 0], [1, 1, 1, 1, 1, 1]]"
   ]
  },
  {
   "cell_type": "code",
   "execution_count": 21,
   "metadata": {},
   "outputs": [],
   "source": [
    "def get_area(land, x, y):\n",
    "    if x < 0 or x >= len(land[0]) or y < 0 or y >= len(land) or land[y][x] == 0:\n",
    "        return 0\n",
    "    \n",
    "    land[y][x] = 0\n",
    "    return 1 + get_area(land, x + 1, y) + get_area(land, x - 1, y) + get_area(land, x, y + 1) + get_area(land, x, y - 1)"
   ]
  },
  {
   "cell_type": "code",
   "execution_count": 13,
   "metadata": {},
   "outputs": [
    {
     "name": "stdout",
     "output_type": "stream",
     "text": [
      "x : 1 total_area : 8\n",
      "x : 2 total_area : 8\n",
      "x : 3 total_area : 8\n",
      "x : 4 total_area : 7\n",
      "x : 5 total_area : 7\n",
      "x : 6 total_area : 7\n",
      "x : 7 total_area : 9\n",
      "x : 8 total_area : 2\n"
     ]
    },
    {
     "data": {
      "text/plain": [
       "9"
      ]
     },
     "execution_count": 13,
     "metadata": {},
     "output_type": "execute_result"
    }
   ],
   "source": [
    "from copy import deepcopy\n",
    "max_area = 0\n",
    "for x in range(len(land[0])):\n",
    "    total_area = []\n",
    "    land_copy = deepcopy(land)\n",
    "    for y in range(len(land)):        \n",
    "        if land[y][x] == 1:\n",
    "            area = get_area(land_copy, x, y)\n",
    "            if area > 0:\n",
    "                total_area.append(area)    \n",
    "    if total_area:\n",
    "        print(f'x : {x+1} total_area : {sum(total_area)}')\n",
    "    if sum(total_area) > max_area:\n",
    "        max_area = sum(total_area)\n",
    "max_area"
   ]
  },
  {
   "cell_type": "markdown",
   "metadata": {},
   "source": [
    "# bfs"
   ]
  },
  {
   "cell_type": "code",
   "execution_count": 95,
   "metadata": {},
   "outputs": [],
   "source": [
    "def bfs(land, x, y):\n",
    "    queue = [(x, y)]\n",
    "    area = 0\n",
    "    while queue:\n",
    "        x, y = queue.pop(0)\n",
    "        if x < 0 or x >= len(land[0]) or y < 0 or y >= len(land) or land[y][x] == 0:\n",
    "            continue\n",
    "        land[y][x] = 0\n",
    "        area += 1\n",
    "        queue.append((x + 1, y))\n",
    "        queue.append((x - 1, y))\n",
    "        queue.append((x, y + 1))\n",
    "        queue.append((x, y - 1))\n",
    "    return area"
   ]
  },
  {
   "cell_type": "code",
   "execution_count": 96,
   "metadata": {},
   "outputs": [
    {
     "name": "stdout",
     "output_type": "stream",
     "text": [
      "x : 1 total_area : 8\n",
      "x : 2 total_area : 8\n",
      "x : 3 total_area : 8\n",
      "x : 4 total_area : 7\n",
      "x : 5 total_area : 7\n",
      "x : 6 total_area : 7\n",
      "x : 7 total_area : 9\n",
      "x : 8 total_area : 2\n"
     ]
    }
   ],
   "source": [
    "for x in range(len(land[0])):\n",
    "    total_area = []\n",
    "    land_copy = deepcopy(land)\n",
    "    for y in range(len(land)):\n",
    "        if land[y][x] == 1:\n",
    "            total_area.append(bfs(land_copy, x, y))\n",
    "    if total_area:\n",
    "        print(f'x : {x+1} total_area : {sum(total_area)}')\n",
    "    if sum(total_area) > max_area:\n",
    "        max_area = sum(total_area)"
   ]
  },
  {
   "cell_type": "markdown",
   "metadata": {},
   "source": [
    "# 미리 석유 범위 찾은후 반복문 돌기 갓PT"
   ]
  },
  {
   "cell_type": "code",
   "execution_count": 39,
   "metadata": {},
   "outputs": [],
   "source": [
    "land = [[0, 0, 0, 1, 1, 1, 0, 0], [0, 0, 0, 0, 1, 1, 0, 0], [1, 1, 0, 0, 0, 1, 1, 0], [1, 1, 1, 0, 0, 0, 0, 0], [1, 1, 1, 0, 0, 0, 1, 1]]"
   ]
  },
  {
   "cell_type": "code",
   "execution_count": 54,
   "metadata": {},
   "outputs": [],
   "source": [
    "n = len(land)\n",
    "m = len(land[0])\n",
    "visited = [[False] * m for _ in range(n)]\n",
    "oil_cluster = {}  # 덩어리 ID와 그 크기 저장\n",
    "cluster_id = 1\n",
    "\n",
    "# 방향 벡터 (상, 하, 좌, 우)\n",
    "directions = [(-1, 0), (1, 0), (0, -1), (0, 1)]\n",
    "def dfs(x, y, cluster_id):\n",
    "    stack = [(x, y)]\n",
    "    visited[x][y] = True\n",
    "    size = 0\n",
    "    columns = set()  # 이 덩어리가 포함된 열을 기록\n",
    "\n",
    "    while stack:\n",
    "        cx, cy = stack.pop()\n",
    "        size += 1\n",
    "        columns.add(cy)  # 현재 칸의 열을 기록\n",
    "\n",
    "        for dx, dy in directions:\n",
    "            nx, ny = cx + dx, cy + dy\n",
    "            if 0 <= nx < n and 0 <= ny < m and not visited[nx][ny] and land[nx][ny] == 1:\n",
    "                visited[nx][ny] = True\n",
    "                stack.append((nx, ny))\n",
    "\n",
    "    return size, columns"
   ]
  },
  {
   "cell_type": "code",
   "execution_count": 55,
   "metadata": {},
   "outputs": [],
   "source": [
    "# 각 석유 덩어리 찾기\n",
    "for i in range(n): #세로\n",
    "    for j in range(m): #가로\n",
    "        if land[i][j] == 1 and not visited[i][j]:\n",
    "            size, columns = dfs(i, j, cluster_id)\n",
    "            oil_cluster[cluster_id] = (size, columns)\n",
    "            cluster_id += 1"
   ]
  },
  {
   "cell_type": "code",
   "execution_count": 56,
   "metadata": {},
   "outputs": [
    {
     "data": {
      "text/plain": [
       "{1: (7, {3, 4, 5, 6}), 2: (8, {0, 1, 2}), 3: (2, {6, 7})}"
      ]
     },
     "execution_count": 56,
     "metadata": {},
     "output_type": "execute_result"
    }
   ],
   "source": [
    "oil_cluster"
   ]
  },
  {
   "cell_type": "code",
   "execution_count": 40,
   "metadata": {},
   "outputs": [],
   "source": [
    "def solution(land):\n",
    "    n = len(land)\n",
    "    m = len(land[0])\n",
    "    visited = [[False] * m for _ in range(n)]\n",
    "    oil_cluster = {}  # 덩어리 ID와 그 크기 저장\n",
    "    cluster_id = 1\n",
    "\n",
    "    # 방향 벡터 (상, 하, 좌, 우)\n",
    "    directions = [(-1, 0), (1, 0), (0, -1), (0, 1)]\n",
    "\n",
    "    def dfs(x, y, cluster_id):\n",
    "        stack = [(x, y)]\n",
    "        visited[x][y] = True\n",
    "        size = 0\n",
    "        columns = set()  # 이 덩어리가 포함된 열을 기록\n",
    "\n",
    "        while stack:\n",
    "            cx, cy = stack.pop()\n",
    "            size += 1\n",
    "            columns.add(cy)  # 현재 칸의 열을 기록\n",
    "\n",
    "            for dx, dy in directions:\n",
    "                nx, ny = cx + dx, cy + dy\n",
    "                if 0 <= nx < n and 0 <= ny < m and not visited[nx][ny] and land[nx][ny] == 1:\n",
    "                    visited[nx][ny] = True\n",
    "                    stack.append((nx, ny))\n",
    "\n",
    "        return size, columns\n",
    "\n",
    "    # 각 석유 덩어리 찾기\n",
    "    for i in range(n):\n",
    "        for j in range(m):\n",
    "            if land[i][j] == 1 and not visited[i][j]:\n",
    "                size, columns = dfs(i, j, cluster_id)\n",
    "                oil_cluster[cluster_id] = (size, columns)\n",
    "                cluster_id += 1\n",
    "\n",
    "    # 각 열에 대해 석유 덩어리 크기 집계\n",
    "    column_oil = [0] * m\n",
    "    for size, columns in oil_cluster.values():\n",
    "        for col in columns:\n",
    "            column_oil[col] += size\n",
    "\n",
    "    # 최대 석유량 찾기\n",
    "    max_oil = max(column_oil)\n",
    "\n",
    "    return max_oil\n"
   ]
  },
  {
   "cell_type": "code",
   "execution_count": null,
   "metadata": {},
   "outputs": [],
   "source": []
  }
 ],
 "metadata": {
  "kernelspec": {
   "display_name": "py38",
   "language": "python",
   "name": "python3"
  },
  "language_info": {
   "codemirror_mode": {
    "name": "ipython",
    "version": 3
   },
   "file_extension": ".py",
   "mimetype": "text/x-python",
   "name": "python",
   "nbconvert_exporter": "python",
   "pygments_lexer": "ipython3",
   "version": "3.8.18"
  }
 },
 "nbformat": 4,
 "nbformat_minor": 2
}
