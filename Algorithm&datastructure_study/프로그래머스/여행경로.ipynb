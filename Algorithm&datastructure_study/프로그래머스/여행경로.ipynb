{
 "cells": [
  {
   "cell_type": "code",
   "execution_count": 6,
   "metadata": {},
   "outputs": [],
   "source": [
    "tickets = [[\"ICN\", \"SFO\"], [\"ICN\", \"ATL\"], [\"SFO\", \"ATL\"], [\"ATL\", \"ICN\"], [\"ATL\",\"SFO\"]]\n",
    "from collections import defaultdict\n",
    "def solution(tickets):\n",
    "    tickets.sort(reverse=True) # 알파벳 역순으로 정렬(그래야지 pop할때 알파벳 순으로 나옴)\n",
    "    routes = defaultdict(list)\n",
    "    for a, b in tickets:\n",
    "        routes[a].append(b)\n",
    "    stack = [\"ICN\"]\n",
    "    path = []\n",
    "    while stack:\n",
    "        top = stack[-1]\n",
    "        if top in routes and routes[top]: #route가 있으면 pop하고 stack에 추가\n",
    "            stack.append(routes[top].pop())\n",
    "        else: #스택 다 쌓고 나서 pop 그렇기때문에 가장 마지막에 방문한 순서대로 path에 추가됨\n",
    "            path.append(stack.pop())\n",
    "    return path[::-1]"
   ]
  },
  {
   "cell_type": "code",
   "execution_count": 22,
   "metadata": {},
   "outputs": [],
   "source": [
    "tickets.sort(reverse=True)  \n",
    "routes = defaultdict(list)\n",
    "for a, b in tickets:\n",
    "    routes[a].append(b)"
   ]
  },
  {
   "attachments": {
    "image.png": {
     "image/png": "[encoded data removed]"
    }
   },
   "cell_type": "markdown",
   "metadata": {},
   "source": [
    "![image.png](attachment:image.png)"
   ]
  },
  {
   "cell_type": "code",
   "execution_count": null,
   "metadata": {},
   "outputs": [],
   "source": []
  },
  {
   "cell_type": "code",
   "execution_count": 24,
   "metadata": {},
   "outputs": [
    {
     "name": "stdout",
     "output_type": "stream",
     "text": [
      "SFO\n",
      "ATL\n",
      "SFO\n",
      "ICN\n",
      "ATL\n",
      "ICN\n"
     ]
    }
   ],
   "source": [
    "stack = ['ICN']\n",
    "path = []\n",
    "while stack:\n",
    "    top = stack[-1]\n",
    "    if top in routes and routes[top]:\n",
    "        stack.append(routes[top].pop())\n",
    "    else:\n",
    "        #스택 다 쌓고 나서 pop 그렇기때문에 가장 마지막에 방문한 순서대로 path에 추가됨\n",
    "        next = stack.pop()\n",
    "        print(next)\n",
    "        path.append(next)"
   ]
  },
  {
   "cell_type": "code",
   "execution_count": 27,
   "metadata": {},
   "outputs": [
    {
     "data": {
      "text/plain": [
       "['SFO', 'ATL', 'SFO', 'ICN', 'ATL', 'ICN']"
      ]
     },
     "execution_count": 27,
     "metadata": {},
     "output_type": "execute_result"
    }
   ],
   "source": [
    "path[0::]"
   ]
  },
  {
   "cell_type": "code",
   "execution_count": 20,
   "metadata": {},
   "outputs": [
    {
     "data": {
      "text/plain": [
       "['SFO', 'ATL', 'SFO', 'ICN', 'ATL', 'ICN']"
      ]
     },
     "execution_count": 20,
     "metadata": {},
     "output_type": "execute_result"
    }
   ],
   "source": [
    "path #path 뒤집기"
   ]
  },
  {
   "cell_type": "code",
   "execution_count": 5,
   "metadata": {},
   "outputs": [
    {
     "data": {
      "text/plain": [
       "['ICN', 'ATL', 'ICN', 'SFO', 'ATL', 'SFO']"
      ]
     },
     "execution_count": 5,
     "metadata": {},
     "output_type": "execute_result"
    }
   ],
   "source": [
    "solution([[\"ICN\", \"SFO\"], [\"ICN\", \"ATL\"], [\"SFO\", \"ATL\"], [\"ATL\", \"ICN\"], [\"ATL\",\"SFO\"]])"
   ]
  },
  {
   "cell_type": "code",
   "execution_count": null,
   "metadata": {},
   "outputs": [],
   "source": []
  },
  {
   "cell_type": "code",
   "execution_count": null,
   "metadata": {},
   "outputs": [],
   "source": []
  },
  {
   "cell_type": "code",
   "execution_count": 2,
   "metadata": {},
   "outputs": [
    {
     "data": {
      "text/plain": [
       "['ICN', 'JFK', 'HND', 'IAD']"
      ]
     },
     "execution_count": 2,
     "metadata": {},
     "output_type": "execute_result"
    }
   ],
   "source": [
    "solution(tickets)"
   ]
  }
 ],
 "metadata": {
  "kernelspec": {
   "display_name": "py38",
   "language": "python",
   "name": "python3"
  },
  "language_info": {
   "codemirror_mode": {
    "name": "ipython",
    "version": 3
   },
   "file_extension": ".py",
   "mimetype": "text/x-python",
   "name": "python",
   "nbconvert_exporter": "python",
   "pygments_lexer": "ipython3",
   "version": "3.8.18"
  }
 },
 "nbformat": 4,
 "nbformat_minor": 2
}
