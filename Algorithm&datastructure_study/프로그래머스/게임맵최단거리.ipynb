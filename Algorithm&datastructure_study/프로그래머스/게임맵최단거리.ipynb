{
 "cells": [
  {
   "cell_type": "code",
   "execution_count": 1,
   "metadata": {},
   "outputs": [],
   "source": [
    "maps = [[1,0,1,1,1],[1,0,1,0,1],[1,0,1,1,1],[1,1,1,0,1],[0,0,0,0,1]]"
   ]
  },
  {
   "cell_type": "code",
   "execution_count": null,
   "metadata": {},
   "outputs": [],
   "source": [
    "from collections import deque\n",
    "n = len(maps)\n",
    "m = len(maps[0])\n",
    "dx = [1, -1, 0, 0]\n",
    "dy = [0, 0, 1, -1]\n",
    "queue = deque()\n",
    "queue.append((0, 0))\n",
    "while queue:\n",
    "    x, y = queue.popleft()\n",
    "    for i in range(4):\n",
    "        nx, ny = x+dx[i], y+dy[i]\n",
    "        if 0 <= nx < n and 0 <= ny <m and maps[nx][ny] == 1:\n",
    "            queue.append((nx, ny))\n",
    "            maps[nx][ny] = maps[x][y] + 1\n",
    "\n",
    "# 못가는 경우 -1 출력\n",
    "if maps[n-1][m-1] == 0 or maps[n-1][m-1] == 1:\n",
    "    answer = -1\n",
    "else:\n",
    "    answer = maps[n-1][m-1]"
   ]
  },
  {
   "cell_type": "code",
   "execution_count": null,
   "metadata": {},
   "outputs": [],
   "source": [
    "def solution(maps):\n",
    "    from collections import deque\n",
    "    n = len(maps)\n",
    "    m = len(maps[0])\n",
    "    dx = [1, -1, 0, 0]\n",
    "    dy = [0, 0, 1, -1]\n",
    "    queue = deque()\n",
    "    queue.append((0, 0))\n",
    "    while queue:\n",
    "        x, y = queue.popleft()\n",
    "        for i in range(4):\n",
    "            nx, ny = x+dx[i], y+dy[i]\n",
    "            if 0 <= nx < n and 0 <= ny <m and maps[nx][ny] == 1:\n",
    "                queue.append((nx, ny))\n",
    "                maps[nx][ny] = maps[x][y] + 1\n",
    "\n",
    "    # 못가는 경우 -1 출력\n",
    "    if maps[n-1][m-1] == 0 or maps[n-1][m-1] == 1:\n",
    "        return -1\n",
    "    else:\n",
    "        return maps[n-1][m-1]"
   ]
  }
 ],
 "metadata": {
  "kernelspec": {
   "display_name": "py38",
   "language": "python",
   "name": "python3"
  },
  "language_info": {
   "codemirror_mode": {
    "name": "ipython",
    "version": 3
   },
   "file_extension": ".py",
   "mimetype": "text/x-python",
   "name": "python",
   "nbconvert_exporter": "python",
   "pygments_lexer": "ipython3",
   "version": "3.8.17"
  }
 },
 "nbformat": 4,
 "nbformat_minor": 2
}
