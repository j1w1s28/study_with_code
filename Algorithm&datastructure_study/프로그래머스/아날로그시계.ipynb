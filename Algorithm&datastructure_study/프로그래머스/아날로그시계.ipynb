{
 "cells": [
  {
   "cell_type": "code",
   "execution_count": 5,
   "metadata": {},
   "outputs": [],
   "source": [
    "h1 = 0 \n",
    "m1 = 5\n",
    "s1 = 30\n",
    "h2 = 0\n",
    "m2 = 7\n",
    "s2 = 0"
   ]
  },
  {
   "cell_type": "code",
   "execution_count": 6,
   "metadata": {},
   "outputs": [
    {
     "name": "stdout",
     "output_type": "stream",
     "text": [
      "0\n",
      "1\n"
     ]
    }
   ],
   "source": [
    "def solution(h1, m1, s1, h2, m2, s2):\n",
    "    # 시간 초 단위로 변환\n",
    "    start_time = h1 * 3600 + m1 * 60 + s1\n",
    "    end_time = h2 * 3600 + m2 * 60 + s2\n",
    "\n",
    "    # 각도 변화율\n",
    "    second_hand_speed = 360 / 60  # 초당 6도\n",
    "    minute_hand_speed = 360 / 3600  # 초당 0.1도\n",
    "    hour_hand_speed = 360 / 43200  # 초당 0.00833도 (12시간 = 43200초)\n",
    "\n",
    "    def check_alignment(time):\n",
    "        # 초침, 분침, 시침의 각도 계산\n",
    "        second_angle = (time * second_hand_speed) % 360\n",
    "        minute_angle = (time * minute_hand_speed) % 360\n",
    "        hour_angle = (time * hour_hand_speed) % 360\n",
    "\n",
    "        # 초침과 시침 또는 초침과 분침이 겹치는지 확인\n",
    "        if abs(second_angle - minute_angle) < 1e-9 or abs(second_angle - hour_angle) < 1e-9:\n",
    "            return True\n",
    "        return False\n",
    "\n",
    "    # 알람 횟수 계산\n",
    "    alarm_count = 0\n",
    "    for t in range(start_time, end_time):\n",
    "        if check_alignment(t):\n",
    "            alarm_count += 1\n",
    "\n",
    "    return alarm_count\n",
    "\n",
    "\n",
    "\n",
    "# 예시 테스트\n",
    "print(solution(0, 5, 30, 0, 7, 0))  # 출력: 2\n",
    "print(solution(12, 0, 0, 12, 0, 30))  # 출력: 1\n"
   ]
  },
  {
   "cell_type": "code",
   "execution_count": 13,
   "metadata": {},
   "outputs": [],
   "source": [
    "# 초침 이동속도 \n",
    "# 시간 초 단위로 변환\n",
    "start_time = h1 * 3600 + m1 * 60 + s1\n",
    "end_time = h2 * 3600 + m2 * 60 + s2\n",
    "\n",
    "# 각도 변화율\n",
    "second_hand_speed = 360 / 60  # 초당 6도 360/60\n",
    "minute_hand_speed = 6 / 60  #분당 6도 (60 / 360),   초당 0.1도 (6/60)\n",
    "hour_hand_speed = 0.5 / 60  # 시간당 30도 (12 / 360), 분당 0.5도 (30 / 60), 초당 0.00833도 (0.5 / 60)"
   ]
  },
  {
   "cell_type": "code",
   "execution_count": 16,
   "metadata": {},
   "outputs": [
    {
     "name": "stdout",
     "output_type": "stream",
     "text": [
      "hour_angle : 2.75, minute_angle : 33.0, second_angle : 180.0\n"
     ]
    }
   ],
   "source": [
    "# 시침각도\n",
    "hour_angle = (start_time * hour_hand_speed) % 360\n",
    "minute_angle = (start_time * minute_hand_speed) % 360\n",
    "second_angle = (start_time * second_hand_speed) % 360\n",
    "print(f'hour_angle : {hour_angle}, minute_angle : {minute_angle}, second_angle : {second_angle}')"
   ]
  },
  {
   "cell_type": "code",
   "execution_count": 17,
   "metadata": {},
   "outputs": [
    {
     "name": "stdout",
     "output_type": "stream",
     "text": [
      "hour_angle : 2.7583333333333333, minute_angle : 33.1, second_angle : 186.0\n"
     ]
    }
   ],
   "source": [
    "# 1초뒤의 각도\n",
    "hour_angle = ((start_time + 1) * hour_hand_speed) % 360\n",
    "minute_angle = ((start_time + 1) * minute_hand_speed) % 360\n",
    "second_angle = ((start_time + 1) * second_hand_speed) % 360\n",
    "print(f'hour_angle : {hour_angle}, minute_angle : {minute_angle}, second_angle : {second_angle}')"
   ]
  },
  {
   "cell_type": "code",
   "execution_count": 15,
   "metadata": {},
   "outputs": [
    {
     "data": {
      "text/plain": [
       "2.75"
      ]
     },
     "execution_count": 15,
     "metadata": {},
     "output_type": "execute_result"
    }
   ],
   "source": [
    "start_time * hour_hand_speed"
   ]
  },
  {
   "cell_type": "code",
   "execution_count": 12,
   "metadata": {},
   "outputs": [
    {
     "name": "stdout",
     "output_type": "stream",
     "text": [
      "180.0 33.0 2.75\n"
     ]
    }
   ],
   "source": [
    "# 현재 각도 구하기\n",
    "second_angle = (start_time * second_hand_speed) % 360\n",
    "minute_angle = (start_time * minute_hand_speed) % 360\n",
    "hour_angle = (start_time * hour_hand_speed) % 360\n",
    "print(second_angle, minute_angle, hour_angle)"
   ]
  },
  {
   "cell_type": "code",
   "execution_count": 11,
   "metadata": {},
   "outputs": [
    {
     "name": "stdout",
     "output_type": "stream",
     "text": [
      "180.0 33.0 2.75\n"
     ]
    }
   ],
   "source": [
    "# 1초 후의 각 침의 각도 구하기\n",
    "second_angle = (start_time * second_hand_speed) % 360\n",
    "minute_angle = (start_time * minute_hand_speed) % 360\n",
    "hour_angle = (start_time * hour_hand_speed) % 360\n",
    "\n",
    "print(second_angle, minute_angle, hour_angle)"
   ]
  }
 ],
 "metadata": {
  "kernelspec": {
   "display_name": "py38",
   "language": "python",
   "name": "python3"
  },
  "language_info": {
   "codemirror_mode": {
    "name": "ipython",
    "version": 3
   },
   "file_extension": ".py",
   "mimetype": "text/x-python",
   "name": "python",
   "nbconvert_exporter": "python",
   "pygments_lexer": "ipython3",
   "version": "3.8.18"
  }
 },
 "nbformat": 4,
 "nbformat_minor": 2
}
