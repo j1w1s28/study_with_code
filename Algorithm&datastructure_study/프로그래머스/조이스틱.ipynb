{
 "cells": [
  {
   "cell_type": "code",
   "execution_count": 1,
   "metadata": {},
   "outputs": [],
   "source": [
    "name = \"JEROEN\"\t"
   ]
  },
  {
   "cell_type": "code",
   "execution_count": 1,
   "metadata": {},
   "outputs": [
    {
     "name": "stdout",
     "output_type": "stream",
     "text": [
      "이름 'JAZ'을 완성하기 위한 조이스틱 조작의 최소 횟수는: 11\n"
     ]
    }
   ],
   "source": [
    "def solution(name):\n",
    "    move_counts = [min(ord(char) - ord('A'), ord('Z') - ord(char) + 1) for char in name]\n",
    "    total_moves = sum(move_counts)\n",
    "    length = len(name)\n",
    "    min_move = length - 1 # 오른쪽으로만 이동하는 경우\n",
    "\n",
    "    for i in range(length):\n",
    "        next_i = i + 1\n",
    "        while next_i < length and name[next_i] == 'A':\n",
    "            next_i += 1\n",
    "        distance = min(i, length - next_i) # i: 현재까지 이동한 횟수, length - next_i: 오른쪽에서 접근시 필요한 이동 횟수, 최소거리를 구함\n",
    "        #오른쪽으로 돌아가는게 더 빠르다면 min_move을 갱신할법한지 조회\n",
    "        if distance <= i: #등호가 왜 필요하는지는 모르겠음...?\n",
    "            min_move = min(min_move, i + length - next_i + distance)\n",
    "        # i + length - next_i를 계산하여, 현재 위치에서 왼쪽으로 돌아가서 next_i까지 이동하는 데 필요한 총 이동 횟수를 구함.\n",
    "        # 위에서 구한 두 값과 distance를 더하여, 현재 위치에서 시작하여 next_i까지 이동한 후, 다시 왼쪽으로 돌아와서 이동하는데데 필요한 총 이동 횟수가 오른쪽으로 쭉 갔을 때보다 작은지 조회\n",
    "    return total_moves + min_move\n",
    "\n",
    "# 예제 사용:\n",
    "name = \"JAZ\"\n",
    "print(f\"이름 '{name}'을 완성하기 위한 조이스틱 조작의 최소 횟수는: {solution(name)}\")\n"
   ]
  },
  {
   "cell_type": "code",
   "execution_count": null,
   "metadata": {},
   "outputs": [],
   "source": [
    "{ min_move = min(min_move, i + length - next_i + distance)}  여기서 i + length - next_i + distance는 왜 더하는지 이해가 안됩니다."
   ]
  }
 ],
 "metadata": {
  "kernelspec": {
   "display_name": "py38",
   "language": "python",
   "name": "python3"
  },
  "language_info": {
   "codemirror_mode": {
    "name": "ipython",
    "version": 3
   },
   "file_extension": ".py",
   "mimetype": "text/x-python",
   "name": "python",
   "nbconvert_exporter": "python",
   "pygments_lexer": "ipython3",
   "version": "3.8.18"
  }
 },
 "nbformat": 4,
 "nbformat_minor": 2
}
