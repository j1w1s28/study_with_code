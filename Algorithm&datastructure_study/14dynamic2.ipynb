{
 "cells": [
  {
   "cell_type": "markdown",
   "metadata": {},
   "source": [
    "# 신나는 함수 실행"
   ]
  },
  {
   "cell_type": "code",
   "execution_count": 1,
   "metadata": {},
   "outputs": [],
   "source": [
    "import sys\n",
    "\n",
    "#sys.setrecursionlimit(10**6)\n",
    "sys.stdin = open(\"../input.txt\", \"r\")\n",
    "input = sys.stdin.readline\n",
    "w,b,c = map(int,input().split())"
   ]
  },
  {
   "cell_type": "code",
   "execution_count": 4,
   "metadata": {},
   "outputs": [],
   "source": [
    "def wbc(w,b,c):\n",
    "    if w <=0 or b <= 0 or c<= 0:\n",
    "        return 1\n",
    "    elif w > 20 or b > 20 or c > 20 :\n",
    "        dic\n",
    "        return wbc(20,20,20)\n",
    "    elif w < b and b < c :\n",
    "        return wbc(w,b,c-1) + wbc(w,b-1,c-1) - wbc(w,b-1,c)\n",
    "    else:\n",
    "        return wbc(w-1,b,c) + wbc(w-1,b-1,c) + wbc(w-1,b,c-1) - wbc(w-1,b-1,c-1)"
   ]
  },
  {
   "cell_type": "code",
   "execution_count": 5,
   "metadata": {},
   "outputs": [
    {
     "data": {
      "text/plain": [
       "523"
      ]
     },
     "execution_count": 5,
     "metadata": {},
     "output_type": "execute_result"
    }
   ],
   "source": [
    "wbc(10, 4, 6)"
   ]
  },
  {
   "cell_type": "code",
   "execution_count": 18,
   "metadata": {},
   "outputs": [],
   "source": [
    "dic = {}\n",
    "def wbc_v2(w,b,c):\n",
    "    global dic\n",
    "    if w <=0 or b <= 0 or c<= 0:\n",
    "        return 1\n",
    "    elif w > 20 or b > 20 or c > 20 :\n",
    "        if dic.get((w,b,c)) == None:\n",
    "            dic[(w,b,c)] = wbc_v2(20,20,20)        \n",
    "        return dic[(w,b,c)]\n",
    "    elif w < b and b < c :\n",
    "        if dic.get((w,b,c)) == None:\n",
    "            dic[(w,b,c)] = wbc_v2(w,b,c-1) + wbc_v2(w,b-1,c-1) - wbc_v2(w,b-1,c)        \n",
    "        return dic[(w,b,c)] \n",
    "    else:\n",
    "        if dic.get((w,b,c)) == None:\n",
    "            dic[(w,b,c)] = wbc_v2(w-1,b,c) + wbc_v2(w-1,b-1,c) + wbc_v2(w-1,b,c-1) - wbc_v2(w-1,b-1,c-1)        \n",
    "        return dic[(w,b,c)]\n",
    "        "
   ]
  },
  {
   "cell_type": "code",
   "execution_count": 24,
   "metadata": {},
   "outputs": [
    {
     "name": "stdout",
     "output_type": "stream",
     "text": [
      "w(-9, 33, -5) = 1\n",
      "w(8, 20, 6) = 256\n",
      "w(38, -12, -45) = 1\n"
     ]
    }
   ],
   "source": [
    "import sys\n",
    "\n",
    "#sys.setrecursionlimit(10**6)\n",
    "sys.stdin = open(\"../input.txt\", \"r\")\n",
    "input = sys.stdin.readline\n",
    "while True :\n",
    "    w,b,c = map(int,input().rstrip().split())\n",
    "    if w == -1 and b == -1 and c == -1:\n",
    "        break\n",
    "    else:\n",
    "        print(f'w({w}, {b}, {c}) = {wbc_v2(w,b,c)}')"
   ]
  },
  {
   "cell_type": "code",
   "execution_count": 22,
   "metadata": {},
   "outputs": [
    {
     "data": {
      "text/plain": [
       "1"
      ]
     },
     "execution_count": 22,
     "metadata": {},
     "output_type": "execute_result"
    }
   ],
   "source": [
    "wbc_v2(21, 0, 0 )"
   ]
  },
  {
   "cell_type": "markdown",
   "metadata": {},
   "source": [
    "# 01 타일"
   ]
  },
  {
   "cell_type": "code",
   "execution_count": 26,
   "metadata": {},
   "outputs": [],
   "source": [
    "dic = {1 : set('1'),\n",
    "       2 : set(['00','11'])}\n"
   ]
  },
  {
   "cell_type": "code",
   "execution_count": 27,
   "metadata": {},
   "outputs": [],
   "source": [
    "from itertools import *"
   ]
  },
  {
   "cell_type": "code",
   "execution_count": 28,
   "metadata": {},
   "outputs": [],
   "source": [
    "test = set(list(map(''.join,permutations(dic[1].union(dic[2]),2))))"
   ]
  },
  {
   "cell_type": "markdown",
   "metadata": {},
   "source": [
    "## 시간초과"
   ]
  },
  {
   "cell_type": "code",
   "execution_count": 37,
   "metadata": {},
   "outputs": [
    {
     "name": "stdout",
     "output_type": "stream",
     "text": [
      "5\n"
     ]
    }
   ],
   "source": [
    "import sys\n",
    "from itertools import permutations\n",
    "\n",
    "#sys.setrecursionlimit(10**6)\n",
    "sys.stdin = open(\"../input.txt\", \"r\")\n",
    "input = sys.stdin.readline\n",
    "num = int(input())\n",
    "dic = {1 : set('1'),\n",
    "       2 : set(['00','11'])}\n",
    "for i in range(3,num+1):\n",
    "    if dic.get(i) == None:\n",
    "        a = set(filter(None, list(map(lambda x : x if len(x) == i else None , set(list(map(''.join,permutations(dic[i-1].union(dic[1]),2))))))))\n",
    "        b = set(filter(None, list(map(lambda x : x if len(x) == i else None , set(list(map(''.join,permutations(dic[i-2].union(dic[2]),2))))))))\n",
    "        a.union(b)\n",
    "        dic[i] = a\n",
    "        \n",
    "print(len(dic[num]))"
   ]
  },
  {
   "cell_type": "markdown",
   "metadata": {},
   "source": [
    "## 2번째 풀이"
   ]
  },
  {
   "cell_type": "code",
   "execution_count": 42,
   "metadata": {},
   "outputs": [
    {
     "name": "stdout",
     "output_type": "stream",
     "text": [
      "8\n"
     ]
    }
   ],
   "source": [
    "import sys\n",
    "from itertools import permutations\n",
    "\n",
    "#sys.setrecursionlimit(10**6)\n",
    "sys.stdin = open(\"../input.txt\", \"r\")\n",
    "input = sys.stdin.readline\n",
    "num = int(input())\n",
    "dic = {1 : 1,\n",
    "       2 : 2}\n",
    "for i in range(3,num+1):\n",
    "    if dic.get(i) == None:\n",
    "        dic[i] = dic[i-1] + dic[i-2]\n",
    "        \n",
    "print(dic[num])"
   ]
  },
  {
   "cell_type": "code",
   "execution_count": 48,
   "metadata": {},
   "outputs": [
    {
     "name": "stdout",
     "output_type": "stream",
     "text": [
      "8\n"
     ]
    }
   ],
   "source": [
    "import sys\n",
    "from itertools import permutations\n",
    "\n",
    "#sys.setrecursionlimit(10**6)\n",
    "sys.stdin = open(\"../input.txt\", \"r\")\n",
    "input = sys.stdin.readline\n",
    "num = int(input())\n",
    "lst = [0] * (1000001)\n",
    "lst[1] = 1\n",
    "lst[2] = 2\n",
    "if num >= 3:\n",
    "    for i in range(3,num+1):\n",
    "        if lst[i] == 0:\n",
    "            lst[i] = (lst[i-1] + lst[i-2]) % 15746\n",
    "        \n",
    "print(lst[num])"
   ]
  },
  {
   "cell_type": "code",
   "execution_count": null,
   "metadata": {},
   "outputs": [],
   "source": []
  }
 ],
 "metadata": {
  "kernelspec": {
   "display_name": "py38",
   "language": "python",
   "name": "python3"
  },
  "language_info": {
   "codemirror_mode": {
    "name": "ipython",
    "version": 3
   },
   "file_extension": ".py",
   "mimetype": "text/x-python",
   "name": "python",
   "nbconvert_exporter": "python",
   "pygments_lexer": "ipython3",
   "version": "3.8.16"
  },
  "orig_nbformat": 4
 },
 "nbformat": 4,
 "nbformat_minor": 2
}
