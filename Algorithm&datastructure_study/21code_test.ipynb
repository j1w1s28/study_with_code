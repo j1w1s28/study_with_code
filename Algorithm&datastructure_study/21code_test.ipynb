{
 "cells": [
  {
   "cell_type": "markdown",
   "metadata": {},
   "source": [
    "# 붕대감기"
   ]
  },
  {
   "cell_type": "code",
   "execution_count": 35,
   "metadata": {},
   "outputs": [],
   "source": [
    "#시전시간, 1초당 회복량, 추가 회복량\n",
    "bandage = [3, 2, 7]\n",
    "health = 20\n",
    "#공격시간, 피해량\n",
    "attacks = \t[[1, 15], [5, 16], [8, 6]]"
   ]
  },
  {
   "cell_type": "code",
   "execution_count": 36,
   "metadata": {},
   "outputs": [],
   "source": [
    "skill_time= bandage[0]\n",
    "heal_per_time = bandage[1]\n",
    "heal_bonus = bandage[2]\n",
    "for i,attack in enumerate(attacks):\n",
    "    ori_health = health\n",
    "    attack_time, attack_damage = attack\n",
    "    if i != 0:\n",
    "        #체력회복 계산 : (1초당 회복량 총합) + (보너스 회복량 계산)\n",
    "        health += ((attack_time - attacks[i-1][0] - 1) * heal_per_time) + (((attack_time - attacks[i-1][0] - 1) // skill_time) * heal_bonus)\n",
    "        health = min(ori_health,health)  \n",
    "    health -= attack_damage\n",
    "    if health <= 0 :\n",
    "        health = -1\n",
    "        break"
   ]
  },
  {
   "cell_type": "code",
   "execution_count": 37,
   "metadata": {},
   "outputs": [
    {
     "data": {
      "text/plain": [
       "-1"
      ]
     },
     "execution_count": 37,
     "metadata": {},
     "output_type": "execute_result"
    }
   ],
   "source": [
    "health"
   ]
  },
  {
   "cell_type": "code",
   "execution_count": 34,
   "metadata": {},
   "outputs": [
    {
     "name": "stdout",
     "output_type": "stream",
     "text": [
      "5\n",
      "2\n",
      "0\n"
     ]
    }
   ],
   "source": [
    "skill_time= bandage[0]\n",
    "heal_per_time = bandage[1]\n",
    "heal_bonus = bandage[2]\n",
    "for i,attack in enumerate(attacks):\n",
    "    ori_health = health\n",
    "    attack_time, attack_damage = attack\n",
    "    if i != 0:\n",
    "        #체력회복 계산 : (1초당 회복량 총합) + (보너스 회복량 계산)\n",
    "        # 보너스 회복량 2회 이상이면 초당 회복량 계산 다르게해줘야하지 않나?>??\n",
    "        bonus_times = (attack_time - attacks[i-1][0] - 1) // skill_time\n",
    "        if bonus_times > 1:\n",
    "            heals = (attack_time - attacks[i-1][0] - bonus_times) * heal_per_time\n",
    "        else:\n",
    "            heals = (attack_time - attacks[i-1][0] - 1) * heal_per_time\n",
    "\n",
    "        health = health + heals + bonus_times * heal_bonus\n",
    "        health = min(ori_health,health)\n",
    "       \n",
    "        \n",
    "    \n",
    "    health -= attack_damage\n",
    "    if health <= 0 :\n",
    "        health = -1\n",
    "        break"
   ]
  },
  {
   "cell_type": "markdown",
   "metadata": {},
   "source": []
  },
  {
   "cell_type": "code",
   "execution_count": 26,
   "metadata": {},
   "outputs": [
    {
     "data": {
      "text/plain": [
       "-1"
      ]
     },
     "execution_count": 26,
     "metadata": {},
     "output_type": "execute_result"
    }
   ],
   "source": [
    "health"
   ]
  },
  {
   "cell_type": "code",
   "execution_count": null,
   "metadata": {},
   "outputs": [],
   "source": [
    "# 테케는 통과\n",
    "def solution(bandage, health, attacks):\n",
    "    ori_health = health\n",
    "    skill_time= bandage[0]\n",
    "    heal_per_time = bandage[1]\n",
    "    heal_bonus = bandage[2]\n",
    "    for i,attack in enumerate(attacks):\n",
    "        attack_time, attack_damage = attack\n",
    "        if i != 0:\n",
    "            #체력회복 계산 : (1초당 회복량 총합) + (보너스 회복량 계산)\n",
    "            health += ((attack_time - attacks[i-1][0] - 1) * heal_per_time) + (((attack_time - attacks[i-1][0] - 1) // skill_time) * heal_bonus)\n",
    "            health = min(ori_health,health)\n",
    "\n",
    "        health -= attack_damage\n",
    "        if health <= 0 :\n",
    "            health = -1\n",
    "            break\n",
    "    return health"
   ]
  },
  {
   "cell_type": "code",
   "execution_count": null,
   "metadata": {},
   "outputs": [],
   "source": [
    "def solution(bandage, health, attacks):\n",
    "    ori_health = health\n",
    "    skill_time= bandage[0]\n",
    "    heal_per_time = bandage[1]\n",
    "    heal_bonus = bandage[2]\n",
    "    for i,attack in enumerate(attacks):\n",
    "        attack_time, attack_damage = attack\n",
    "        if i != 0:\n",
    "            #체력회복 계산 : (1초당 회복량 총합) + (보너스 회복량 계산)\n",
    "            # 보너스 회복량 2회 이상이면 초당 회복량 계산 다르게해줘야하지 않나??? -> 입출력예시1번에서 감을 잡을 수 있음.... 다르게 안해줘도 됨\n",
    "            bonus_times = (attack_time - attacks[i-1][0] - 1) // skill_time\n",
    "            if bonus_times > 1:\n",
    "                heals = (attack_time - attacks[i-1][0] - bonus_times) * heal_per_time\n",
    "            else:\n",
    "                heals = (attack_time - attacks[i-1][0] - 1) * heal_per_time\n",
    "\n",
    "            health = health + heals + (bonus_times * heal_bonus)\n",
    "            health = min(ori_health,health)\n",
    "\n",
    "\n",
    "\n",
    "        health -= attack_damage\n",
    "        if health <= 0 :\n",
    "            health = -1\n",
    "            break\n",
    "    return health"
   ]
  },
  {
   "cell_type": "markdown",
   "metadata": {},
   "source": [
    "# 이웃한 칸"
   ]
  },
  {
   "cell_type": "code",
   "execution_count": 12,
   "metadata": {},
   "outputs": [],
   "source": [
    "board = [[\"blue\", \"red\", \"orange\", \"red\"], [\"red\", \"red\", \"blue\", \"orange\"], [\"blue\", \"orange\", \"red\", \"red\"], [\"orange\", \"orange\", \"red\", \"blue\"]]\n",
    "h = 0\n",
    "w = 0"
   ]
  },
  {
   "cell_type": "code",
   "execution_count": 15,
   "metadata": {},
   "outputs": [
    {
     "name": "stdout",
     "output_type": "stream",
     "text": [
      "0\n",
      "1\n"
     ]
    }
   ],
   "source": [
    "dh = [h,h+1,h-1,h]\n",
    "dw = [w+1,w,w,w-1]\n",
    "cnt = 0\n",
    "for i in range(4):\n",
    "    if 0 <= dh[i] < len(board) and 0<= dw[i] < len(board):\n",
    "        if board[h][w] == board[dh[i]][dw[i]]:\n",
    "            cnt += 1\n"
   ]
  },
  {
   "cell_type": "code",
   "execution_count": null,
   "metadata": {},
   "outputs": [],
   "source": [
    "def solution(board, h, w):\n",
    "    answer = 0\n",
    "    dh = [h,h+1,h-1,h]\n",
    "    dw = [w+1,w,w,w-1]\n",
    "    cnt = 0\n",
    "    for i in range(4):\n",
    "        if 0 <= dh[i] < len(board) and 0 <= dw[i] < len(board):\n",
    "            if board[h][w] == board[dh[i]][dw[i]]:\n",
    "                answer += 1\n",
    "\n",
    "    return answer"
   ]
  },
  {
   "cell_type": "markdown",
   "metadata": {},
   "source": [
    "# 데이터 분석"
   ]
  },
  {
   "cell_type": "code",
   "execution_count": 24,
   "metadata": {},
   "outputs": [],
   "source": [
    "#code, date, maximum, remain\n",
    "data = [[1, 20300104, 100, 80], [2, 20300804, 847, 37], [3, 20300401, 10, 8]]\n",
    "ext = \"date\"\n",
    "val_ext = 20300501\n",
    "sort_by = \"remain\""
   ]
  },
  {
   "cell_type": "code",
   "execution_count": 25,
   "metadata": {},
   "outputs": [],
   "source": [
    "ext_dict = {'code' : 0,\n",
    "            'date' : 1,\n",
    "            'maximum' : 2,\n",
    "            'remain' : 3}"
   ]
  },
  {
   "cell_type": "code",
   "execution_count": 26,
   "metadata": {},
   "outputs": [],
   "source": [
    "data = [d for d in data if d[ext_dict[ext]] < val_ext]"
   ]
  },
  {
   "cell_type": "code",
   "execution_count": 27,
   "metadata": {},
   "outputs": [
    {
     "data": {
      "text/plain": [
       "[[1, 20300104, 100, 80], [3, 20300401, 10, 8]]"
      ]
     },
     "execution_count": 27,
     "metadata": {},
     "output_type": "execute_result"
    }
   ],
   "source": [
    "data"
   ]
  },
  {
   "cell_type": "code",
   "execution_count": 28,
   "metadata": {},
   "outputs": [],
   "source": [
    "data.sort(key=lambda x : x[ext_dict[sort_by]])"
   ]
  },
  {
   "cell_type": "code",
   "execution_count": 29,
   "metadata": {},
   "outputs": [
    {
     "data": {
      "text/plain": [
       "[[3, 20300401, 10, 8], [1, 20300104, 100, 80]]"
      ]
     },
     "execution_count": 29,
     "metadata": {},
     "output_type": "execute_result"
    }
   ],
   "source": [
    "data"
   ]
  },
  {
   "cell_type": "code",
   "execution_count": null,
   "metadata": {},
   "outputs": [],
   "source": [
    "def solution(data, ext, val_ext, sort_by):\n",
    "    ext_dict = {'code' : 0,\n",
    "            'date' : 1,\n",
    "            'maximum' : 2,\n",
    "            'remain' : 3}\n",
    "    \n",
    "    data = [d for d in data if d[ext_dict[ext]] < val_ext]\n",
    "    data.sort(key=lambda x : x[ext_dict[sort_by]])\n",
    "    return data"
   ]
  }
 ],
 "metadata": {
  "kernelspec": {
   "display_name": "py38",
   "language": "python",
   "name": "python3"
  },
  "language_info": {
   "codemirror_mode": {
    "name": "ipython",
    "version": 3
   },
   "file_extension": ".py",
   "mimetype": "text/x-python",
   "name": "python",
   "nbconvert_exporter": "python",
   "pygments_lexer": "ipython3",
   "version": "3.8.17"
  }
 },
 "nbformat": 4,
 "nbformat_minor": 2
}
