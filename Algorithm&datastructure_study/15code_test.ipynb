{
 "cells": [
  {
   "cell_type": "markdown",
   "metadata": {},
   "source": [
    "# 달리기 경주\n",
    "https://school.programmers.co.kr/learn/courses/30/lessons/178871"
   ]
  },
  {
   "cell_type": "code",
   "execution_count": 34,
   "metadata": {},
   "outputs": [],
   "source": [
    "players = [\"mumu\", \"soe\", \"poe\", \"kai\", \"mine\"]\n",
    "callings = [\"kai\", \"kai\", \"mine\", \"mine\"]"
   ]
  },
  {
   "cell_type": "code",
   "execution_count": 7,
   "metadata": {},
   "outputs": [],
   "source": [
    "for call in callings:\n",
    "    cur_idx = players.index(call)\n",
    "    tmp = players[cur_idx-1]\n",
    "    players[cur_idx -1] = call\n",
    "    players[cur_idx] = tmp"
   ]
  },
  {
   "cell_type": "code",
   "execution_count": 31,
   "metadata": {},
   "outputs": [],
   "source": [
    "call_set = set(callings)"
   ]
  },
  {
   "cell_type": "code",
   "execution_count": 38,
   "metadata": {},
   "outputs": [],
   "source": [
    "player_rank = {}\n",
    "rank = 0\n",
    "for player in players:\n",
    "    player_rank[player] = rank\n",
    "    rank += 1\n",
    "\n",
    "for call in callings:\n",
    "    cur_idx = player_rank[call]\n",
    "    tmp = players[cur_idx - 1] \n",
    "    players[cur_idx -1] = call\n",
    "    players[cur_idx] = tmp\n",
    "    player_rank[call] -= 1\n",
    "    player_rank[tmp] += 1"
   ]
  },
  {
   "cell_type": "markdown",
   "metadata": {},
   "source": [
    "# 추억 점수\n",
    "https://school.programmers.co.kr/learn/courses/30/lessons/176963"
   ]
  },
  {
   "cell_type": "code",
   "execution_count": 50,
   "metadata": {},
   "outputs": [],
   "source": [
    "name = [\"kali\", \"mari\", \"don\"]\n",
    "yearning = \t[11, 1, 55]\n",
    "photo = [[\"kali\", \"mari\", \"don\"], [\"pony\", \"tom\", \"teddy\"], [\"con\", \"mona\", \"don\"]]\n",
    "\n",
    "from collections import Counter\n",
    "\n",
    "yearn_dic = dict(zip(name,yearning))\n",
    "result = []\n",
    "\n",
    "for lst in photo:\n",
    "    total =  0\n",
    "    lst = Counter(lst)\n",
    "    for i,v in lst.items():\n",
    "        total += yearn_dic.get(i,0) * v\n",
    "    \n",
    "    result.append(total)\n"
   ]
  },
  {
   "cell_type": "code",
   "execution_count": 51,
   "metadata": {},
   "outputs": [
    {
     "data": {
      "text/plain": [
       "[67, 0, 55]"
      ]
     },
     "execution_count": 51,
     "metadata": {},
     "output_type": "execute_result"
    }
   ],
   "source": [
    "result"
   ]
  },
  {
   "cell_type": "markdown",
   "metadata": {},
   "source": [
    "# 공원 산책\n",
    "https://school.programmers.co.kr/learn/courses/30/lessons/172928"
   ]
  },
  {
   "cell_type": "code",
   "execution_count": 158,
   "metadata": {},
   "outputs": [],
   "source": [
    "park = [\"OXXO\", \"XSXO\", \"XXXX\"]\n",
    "routes =  [\"E 1\", \"S 1\"]\t"
   ]
  },
  {
   "cell_type": "code",
   "execution_count": 159,
   "metadata": {},
   "outputs": [],
   "source": [
    "for i in range(len(park)):\n",
    "    park[i]= list(park[i])"
   ]
  },
  {
   "cell_type": "code",
   "execution_count": 160,
   "metadata": {},
   "outputs": [],
   "source": [
    "def find_start(park):\n",
    "    for i in range(len(park)):\n",
    "        for j in range(len(park[0])):\n",
    "            if park[i][j] == 'S':\n",
    "                return [i, j]\n"
   ]
  },
  {
   "cell_type": "code",
   "execution_count": 161,
   "metadata": {},
   "outputs": [
    {
     "data": {
      "text/plain": [
       "[1, 1]"
      ]
     },
     "execution_count": 161,
     "metadata": {},
     "output_type": "execute_result"
    }
   ],
   "source": [
    "start_point = find_start(park)\n",
    "start_point"
   ]
  },
  {
   "cell_type": "code",
   "execution_count": 162,
   "metadata": {},
   "outputs": [
    {
     "name": "stdout",
     "output_type": "stream",
     "text": [
      "[1, 2]\n"
     ]
    }
   ],
   "source": [
    "W = len(park[0])\n",
    "H = len(park)\n",
    "for route in routes:\n",
    "    command = route.split()\n",
    "    if command[0] == \"E\":\n",
    "        if start_point[1] + int(command[1]) > W -1:\n",
    "            continue\n",
    "        continuer = False\n",
    "        for i in range(start_point[1],int(command[1]) + 1):\n",
    "            if park[start_point[0]][i] == 'X':\n",
    "                continuer = True\n",
    "                break\n",
    "        if continuer :\n",
    "            continue\n",
    "\n",
    "        start_point[1] += int(command[1])\n",
    "        print(start_point)\n",
    "\n",
    "    elif  command[0] == 'W':\n",
    "        if start_point[1] - int(command[1]) <0:\n",
    "            continue\n",
    "        continuer = False\n",
    "        for i in range(start_point[1],int(command[1]) - 1,-1):\n",
    "            if park[start_point[0]][i] == 'X':\n",
    "                continuer = True\n",
    "                break\n",
    "        if continuer :\n",
    "            continue\n",
    "\n",
    "        start_point[1] -= int(command[1])\n",
    "       \n",
    "    elif  command[0] == 'S':\n",
    "        if start_point[0] + int(command[1]) > H - 1:\n",
    "            continue\n",
    "        continuer = False\n",
    "        for i in range(start_point[0],int(command[1]) + 1):\n",
    "            if park[i][start_point[1]] == 'X':\n",
    "                continuer = True\n",
    "                break\n",
    "        if continuer :\n",
    "            continue\n",
    "\n",
    "        start_point[0] +=  int(command[1])\n",
    "       \n",
    "    else:\n",
    "        if start_point[0] - int(command[1]) <0:\n",
    "            continue\n",
    "        continuer = False\n",
    "        for i in range(start_point[0],int(command[1]) - 1,-1):\n",
    "            if park[i][start_point[1]] == 'X':\n",
    "                continuer = True\n",
    "                break\n",
    "        if continuer :\n",
    "            continue\n",
    "        start_point[0] -=  int(command[1])\n"
   ]
  },
  {
   "cell_type": "code",
   "execution_count": null,
   "metadata": {},
   "outputs": [],
   "source": [
    "H = len(park)\n",
    "W = len(park[0])\n",
    "\n",
    "for route in routes:\n",
    "    direction , steps = route.split()\n",
    "    steps = int(steps)\n",
    "\n",
    "    if direction == 'E':\n",
    "        if start_point[1] + steps > len(park[start_point[0]]x)\n"
   ]
  },
  {
   "cell_type": "code",
   "execution_count": 131,
   "metadata": {},
   "outputs": [
    {
     "data": {
      "text/plain": [
       "[0, 1]"
      ]
     },
     "execution_count": 131,
     "metadata": {},
     "output_type": "execute_result"
    }
   ],
   "source": [
    "start_point"
   ]
  },
  {
   "cell_type": "code",
   "execution_count": 76,
   "metadata": {},
   "outputs": [
    {
     "data": {
      "text/plain": [
       "'2'"
      ]
     },
     "execution_count": 76,
     "metadata": {},
     "output_type": "execute_result"
    }
   ],
   "source": [
    "command[1]"
   ]
  },
  {
   "cell_type": "code",
   "execution_count": null,
   "metadata": {},
   "outputs": [],
   "source": []
  }
 ],
 "metadata": {
  "kernelspec": {
   "display_name": "py38",
   "language": "python",
   "name": "python3"
  },
  "language_info": {
   "codemirror_mode": {
    "name": "ipython",
    "version": 3
   },
   "file_extension": ".py",
   "mimetype": "text/x-python",
   "name": "python",
   "nbconvert_exporter": "python",
   "pygments_lexer": "ipython3",
   "version": "3.8.18"
  },
  "orig_nbformat": 4
 },
 "nbformat": 4,
 "nbformat_minor": 2
}
