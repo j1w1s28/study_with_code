{
 "cells": [
  {
   "cell_type": "markdown",
   "metadata": {},
   "source": [
    "# 덧칠하기"
   ]
  },
  {
   "cell_type": "markdown",
   "metadata": {},
   "source": [
    "## v1"
   ]
  },
  {
   "cell_type": "code",
   "execution_count": 1,
   "metadata": {},
   "outputs": [],
   "source": [
    "n = 8\n",
    "m = 4\n",
    "section = [2,3,6]"
   ]
  },
  {
   "cell_type": "code",
   "execution_count": 2,
   "metadata": {},
   "outputs": [],
   "source": [
    "lst = [False] * n"
   ]
  },
  {
   "cell_type": "code",
   "execution_count": 3,
   "metadata": {},
   "outputs": [
    {
     "data": {
      "text/plain": [
       "[False, False, False, False, False, False, False, False]"
      ]
     },
     "execution_count": 3,
     "metadata": {},
     "output_type": "execute_result"
    }
   ],
   "source": [
    "lst"
   ]
  },
  {
   "cell_type": "code",
   "execution_count": 4,
   "metadata": {},
   "outputs": [],
   "source": [
    "for i in section:\n",
    "    lst[i-1] = True"
   ]
  },
  {
   "cell_type": "code",
   "execution_count": 5,
   "metadata": {},
   "outputs": [
    {
     "data": {
      "text/plain": [
       "[False, True, True, False, False, True, False, False]"
      ]
     },
     "execution_count": 5,
     "metadata": {},
     "output_type": "execute_result"
    }
   ],
   "source": [
    "lst"
   ]
  },
  {
   "cell_type": "code",
   "execution_count": 6,
   "metadata": {},
   "outputs": [],
   "source": [
    "def get_num(lst):\n",
    "    tmp = {}\n",
    "    for i in range(len(lst)-m+1):\n",
    "        check_range = lst[i:i+m]\n",
    "        tmp[i] = sum(check_range)\n",
    "    return sorted(tmp.items(), key=lambda x : x[1],reverse=True)"
   ]
  },
  {
   "cell_type": "code",
   "execution_count": 7,
   "metadata": {},
   "outputs": [],
   "source": [
    "cnt = 0\n",
    "while any(lst) == True:\n",
    "    cnt +=1\n",
    "    lsts = get_num(lst)\n",
    "    for i in range(lsts[0][0],lsts[0][0]+m):\n",
    "        lst[i] = False"
   ]
  },
  {
   "cell_type": "markdown",
   "metadata": {},
   "source": [
    "## v2 코드 참조"
   ]
  },
  {
   "cell_type": "code",
   "execution_count": 9,
   "metadata": {},
   "outputs": [],
   "source": [
    "n = 8\n",
    "m = 4\n",
    "section = [2,3,6]"
   ]
  },
  {
   "cell_type": "code",
   "execution_count": 10,
   "metadata": {},
   "outputs": [],
   "source": [
    "cnt = 1\n",
    "start = section[0]\n",
    "for sec in section:\n",
    "    if start + (m-1) < i :\n",
    "        start = sec\n",
    "        cnt += 1"
   ]
  },
  {
   "cell_type": "code",
   "execution_count": null,
   "metadata": {},
   "outputs": [],
   "source": [
    "def solution(n, m, section):\n",
    "    cnt = 1\n",
    "    start = section[0]\n",
    "    for sec in section:\n",
    "        if start + (m-1) < sec :\n",
    "            start = sec\n",
    "            cnt += 1\n",
    "\n",
    "    return cnt"
   ]
  },
  {
   "cell_type": "markdown",
   "metadata": {},
   "source": [
    "# 대충 만뜬 자판"
   ]
  },
  {
   "cell_type": "code",
   "execution_count": 29,
   "metadata": {},
   "outputs": [],
   "source": [
    "keymap = [\"ABACD\", \"BCEFD\"]\n",
    "targets = [\"ABCD\",\"AABB\"]\t"
   ]
  },
  {
   "cell_type": "code",
   "execution_count": 30,
   "metadata": {},
   "outputs": [],
   "source": [
    "dic = {}\n",
    "for i, map in enumerate(keymap):\n",
    "    dic[i] = {}\n",
    "    for j,v in enumerate(map):\n",
    "        if dic[i].get(v) == None:\n",
    "            dic[i][v] = j +1\n",
    "        else:\n",
    "            continue\n",
    "\n"
   ]
  },
  {
   "cell_type": "code",
   "execution_count": 31,
   "metadata": {},
   "outputs": [
    {
     "data": {
      "text/plain": [
       "{0: {'A': 1, 'B': 2, 'C': 4, 'D': 5},\n",
       " 1: {'B': 1, 'C': 2, 'E': 3, 'F': 4, 'D': 5}}"
      ]
     },
     "execution_count": 31,
     "metadata": {},
     "output_type": "execute_result"
    }
   ],
   "source": [
    "dic"
   ]
  },
  {
   "cell_type": "code",
   "execution_count": 32,
   "metadata": {},
   "outputs": [],
   "source": [
    "results = []\n",
    "for target in targets:\n",
    "    result = 0\n",
    "    for t in target:\n",
    "        best = 101\n",
    "        for i,v in dic.items():\n",
    "            if v.get(t) != None:\n",
    "                tmp = v.get(t)\n",
    "            else :\n",
    "                continue \n",
    "            if tmp < best:\n",
    "                best = tmp\n",
    "        if best == 101 :\n",
    "            result = -1\n",
    "            break\n",
    "\n",
    "        result += best\n",
    "    \n",
    "\n",
    "    results.append(result)\n"
   ]
  },
  {
   "cell_type": "code",
   "execution_count": 34,
   "metadata": {},
   "outputs": [
    {
     "data": {
      "text/plain": [
       "[9, 4]"
      ]
     },
     "execution_count": 34,
     "metadata": {},
     "output_type": "execute_result"
    }
   ],
   "source": [
    "results"
   ]
  },
  {
   "cell_type": "code",
   "execution_count": null,
   "metadata": {},
   "outputs": [],
   "source": [
    "def solution(keymap, targets):\n",
    "    dic = {}\n",
    "    for i, map in enumerate(keymap):\n",
    "        dic[i] = {}\n",
    "        for j,v in enumerate(map):\n",
    "            if dic[i].get(v) == None:\n",
    "                dic[i][v] = j +1\n",
    "            else:\n",
    "                continue\n",
    "                \n",
    "    results = []\n",
    "    for target in targets:\n",
    "        result = 0\n",
    "        for t in target:\n",
    "            best = 101\n",
    "            for i,v in dic.items():\n",
    "                if v.get(t) != None:\n",
    "                    tmp = v.get(t)\n",
    "                else :\n",
    "                    continue \n",
    "                if tmp < best:\n",
    "                    best = tmp\n",
    "            if best == 101 :\n",
    "                result = -1\n",
    "                break\n",
    "\n",
    "            result += best\n",
    "\n",
    "\n",
    "        results.append(result)\n",
    "    return results"
   ]
  },
  {
   "cell_type": "markdown",
   "metadata": {},
   "source": [
    "# 바탕화면 정리"
   ]
  },
  {
   "cell_type": "code",
   "execution_count": 1,
   "metadata": {},
   "outputs": [],
   "source": [
    "wallpaper = [\".#...\", \"..#..\", \"...#.\"]"
   ]
  },
  {
   "cell_type": "code",
   "execution_count": 2,
   "metadata": {},
   "outputs": [],
   "source": [
    "min_x , min_y = 50, 50\n",
    "max_x , max_y = 0, 0"
   ]
  },
  {
   "cell_type": "code",
   "execution_count": 3,
   "metadata": {},
   "outputs": [],
   "source": [
    "for axis0 in wallpaper:\n",
    "    lst =list(filter(lambda x: axis0[x] == \"#\", range(len(axis0))))\n",
    "    if lst :\n",
    "        tmp_min, tmp_max = lst[0], lst[-1]\n",
    "\n",
    "        if tmp_min < min_y :\n",
    "            min_y = tmp_min\n",
    "        if tmp_max > max_y:\n",
    "            max_y = tmp_max\n",
    "    else:\n",
    "        continue"
   ]
  },
  {
   "cell_type": "code",
   "execution_count": 4,
   "metadata": {},
   "outputs": [
    {
     "data": {
      "text/plain": [
       "(3, 3)"
      ]
     },
     "execution_count": 4,
     "metadata": {},
     "output_type": "execute_result"
    }
   ],
   "source": [
    "tmp_min,tmp_max"
   ]
  },
  {
   "cell_type": "code",
   "execution_count": 5,
   "metadata": {},
   "outputs": [
    {
     "data": {
      "text/plain": [
       "1"
      ]
     },
     "execution_count": 5,
     "metadata": {},
     "output_type": "execute_result"
    }
   ],
   "source": [
    "min_y"
   ]
  },
  {
   "cell_type": "code",
   "execution_count": 6,
   "metadata": {},
   "outputs": [
    {
     "data": {
      "text/plain": [
       "4"
      ]
     },
     "execution_count": 6,
     "metadata": {},
     "output_type": "execute_result"
    }
   ],
   "source": [
    "max_y + 1"
   ]
  },
  {
   "cell_type": "code",
   "execution_count": 3,
   "metadata": {},
   "outputs": [],
   "source": [
    "test = \"......##..\""
   ]
  },
  {
   "cell_type": "code",
   "execution_count": 11,
   "metadata": {},
   "outputs": [
    {
     "data": {
      "text/plain": [
       "6"
      ]
     },
     "execution_count": 11,
     "metadata": {},
     "output_type": "execute_result"
    }
   ],
   "source": [
    "test.index('#')"
   ]
  },
  {
   "cell_type": "code",
   "execution_count": 14,
   "metadata": {},
   "outputs": [],
   "source": [
    "rest_list = list(filter(lambda x: test[x] == \"#\", range(len(test))))"
   ]
  },
  {
   "cell_type": "code",
   "execution_count": 15,
   "metadata": {},
   "outputs": [
    {
     "data": {
      "text/plain": [
       "[6, 7]"
      ]
     },
     "execution_count": 15,
     "metadata": {},
     "output_type": "execute_result"
    }
   ],
   "source": [
    "rest_list"
   ]
  },
  {
   "cell_type": "code",
   "execution_count": 12,
   "metadata": {},
   "outputs": [
    {
     "data": {
      "text/plain": [
       "10"
      ]
     },
     "execution_count": 12,
     "metadata": {},
     "output_type": "execute_result"
    }
   ],
   "source": [
    "len(test)"
   ]
  },
  {
   "cell_type": "code",
   "execution_count": 7,
   "metadata": {},
   "outputs": [],
   "source": [
    "wallpaper_axis1 = []\n",
    "\n",
    "for i in range(len(wallpaper[0])):\n",
    "    strings =''\n",
    "    for j in range(len(wallpaper)):\n",
    "        strings += wallpaper[j][i]\n",
    "    wallpaper_axis1.append(strings)"
   ]
  },
  {
   "cell_type": "code",
   "execution_count": 8,
   "metadata": {},
   "outputs": [
    {
     "data": {
      "text/plain": [
       "'...'"
      ]
     },
     "execution_count": 8,
     "metadata": {},
     "output_type": "execute_result"
    }
   ],
   "source": [
    "strings"
   ]
  },
  {
   "cell_type": "code",
   "execution_count": 9,
   "metadata": {},
   "outputs": [
    {
     "data": {
      "text/plain": [
       "['...', '#..', '.#.', '..#', '...']"
      ]
     },
     "execution_count": 9,
     "metadata": {},
     "output_type": "execute_result"
    }
   ],
   "source": [
    "wallpaper_axis1"
   ]
  },
  {
   "cell_type": "code",
   "execution_count": 10,
   "metadata": {},
   "outputs": [],
   "source": [
    "for axis0 in wallpaper_axis1:\n",
    "    lst =list(filter(lambda x: axis0[x] == \"#\", range(len(axis0))))\n",
    "    if lst:\n",
    "        tmp_min, tmp_max = lst[0], lst[-1]\n",
    "\n",
    "        if tmp_min < min_x :\n",
    "            min_x = tmp_min\n",
    "        if tmp_max > max_x:\n",
    "            max_x = tmp_max\n",
    "    else:\n",
    "        continue"
   ]
  },
  {
   "cell_type": "code",
   "execution_count": 11,
   "metadata": {},
   "outputs": [
    {
     "data": {
      "text/plain": [
       "0"
      ]
     },
     "execution_count": 11,
     "metadata": {},
     "output_type": "execute_result"
    }
   ],
   "source": [
    "min_x"
   ]
  },
  {
   "cell_type": "code",
   "execution_count": 12,
   "metadata": {},
   "outputs": [
    {
     "data": {
      "text/plain": [
       "2"
      ]
     },
     "execution_count": 12,
     "metadata": {},
     "output_type": "execute_result"
    }
   ],
   "source": [
    "max_x"
   ]
  },
  {
   "cell_type": "code",
   "execution_count": 13,
   "metadata": {},
   "outputs": [],
   "source": [
    "answer =[min_x,min_y,max_x + 1, max_y+1]"
   ]
  },
  {
   "cell_type": "code",
   "execution_count": 14,
   "metadata": {},
   "outputs": [
    {
     "data": {
      "text/plain": [
       "[0, 1, 3, 4]"
      ]
     },
     "execution_count": 14,
     "metadata": {},
     "output_type": "execute_result"
    }
   ],
   "source": [
    "answer"
   ]
  },
  {
   "cell_type": "code",
   "execution_count": null,
   "metadata": {},
   "outputs": [],
   "source": [
    "def solution(wallpaper):    \n",
    "    # 세로축이 기준인 list 생성\n",
    "    wallpaper_axis1 = []\n",
    "    for i in range(len(wallpaper[0])):\n",
    "        strings =''\n",
    "        for j in range(len(wallpaper)):\n",
    "            strings += wallpaper[j][i]\n",
    "        wallpaper_axis1.append(strings)\n",
    "    min_x , min_y = 50, 50\n",
    "    max_x , max_y = 0, 0\n",
    "    \n",
    "    for axis0 in wallpaper:\n",
    "        lst =list(filter(lambda x: axis0[x] == \"#\", range(len(axis0))))\n",
    "        if lst :\n",
    "            tmp_min, tmp_max = lst[0], lst[-1]\n",
    "\n",
    "            if tmp_min < min_y :\n",
    "                min_y = tmp_min\n",
    "            if tmp_max > max_y:\n",
    "                max_y = tmp_max\n",
    "        else:\n",
    "            continue\n",
    "        \n",
    "    for axis0 in wallpaper_axis1:\n",
    "        lst =list(filter(lambda x: axis0[x] == \"#\", range(len(axis0))))\n",
    "        if lst:\n",
    "            tmp_min, tmp_max = lst[0], lst[-1]\n",
    "\n",
    "            if tmp_min < min_x :\n",
    "                min_x = tmp_min\n",
    "            if tmp_max > max_x:\n",
    "                max_x = tmp_max\n",
    "        else:\n",
    "            continue\n",
    "    answer =[min_x,min_y,max_x + 1, max_y+1]       \n",
    "    return answer"
   ]
  }
 ],
 "metadata": {
  "kernelspec": {
   "display_name": "py38",
   "language": "python",
   "name": "python3"
  },
  "language_info": {
   "codemirror_mode": {
    "name": "ipython",
    "version": 3
   },
   "file_extension": ".py",
   "mimetype": "text/x-python",
   "name": "python",
   "nbconvert_exporter": "python",
   "pygments_lexer": "ipython3",
   "version": "3.8.18"
  },
  "orig_nbformat": 4
 },
 "nbformat": 4,
 "nbformat_minor": 2
}
