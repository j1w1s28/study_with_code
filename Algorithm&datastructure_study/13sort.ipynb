{
 "cells": [
  {
   "cell_type": "code",
   "execution_count": null,
   "metadata": {},
   "outputs": [],
   "source": [
    "numbers = "
   ]
  },
  {
   "cell_type": "code",
   "execution_count": 37,
   "metadata": {},
   "outputs": [],
   "source": [
    "numbers = [3, 30, 34, 5, 9]\n",
    "\n",
    "numbers = list(map(str,numbers))\n",
    "from itertools import permutations\n",
    "\n",
    "#tmp = permutations(numbers,len(numbers))"
   ]
  },
  {
   "cell_type": "code",
   "execution_count": 2,
   "metadata": {},
   "outputs": [],
   "source": [
    "all_lsts =list(tmp)"
   ]
  },
  {
   "cell_type": "code",
   "execution_count": 38,
   "metadata": {},
   "outputs": [],
   "source": [
    "numbers.sort(reverse=True)"
   ]
  },
  {
   "cell_type": "code",
   "execution_count": 39,
   "metadata": {},
   "outputs": [
    {
     "data": {
      "text/plain": [
       "['9', '5', '34', '30', '3']"
      ]
     },
     "execution_count": 39,
     "metadata": {},
     "output_type": "execute_result"
    }
   ],
   "source": [
    "numbers"
   ]
  },
  {
   "cell_type": "code",
   "execution_count": 49,
   "metadata": {},
   "outputs": [],
   "source": [
    "num_dic = {str(i) : [] for i in range(9,-1,-1)}"
   ]
  },
  {
   "cell_type": "code",
   "execution_count": 50,
   "metadata": {},
   "outputs": [
    {
     "data": {
      "text/plain": [
       "{'9': [],\n",
       " '8': [],\n",
       " '7': [],\n",
       " '6': [],\n",
       " '5': [],\n",
       " '4': [],\n",
       " '3': [],\n",
       " '2': [],\n",
       " '1': [],\n",
       " '0': []}"
      ]
     },
     "execution_count": 50,
     "metadata": {},
     "output_type": "execute_result"
    }
   ],
   "source": [
    "num_dic"
   ]
  },
  {
   "cell_type": "code",
   "execution_count": 42,
   "metadata": {},
   "outputs": [],
   "source": [
    "for number in numbers:\n",
    "    num_dic[number[0]].append(number)"
   ]
  },
  {
   "cell_type": "code",
   "execution_count": 43,
   "metadata": {},
   "outputs": [
    {
     "data": {
      "text/plain": [
       "{'9': ['9'],\n",
       " '8': [],\n",
       " '7': [],\n",
       " '6': [],\n",
       " '5': ['5'],\n",
       " '4': [],\n",
       " '3': ['34', '30', '3'],\n",
       " '2': [],\n",
       " '1': []}"
      ]
     },
     "execution_count": 43,
     "metadata": {},
     "output_type": "execute_result"
    }
   ],
   "source": [
    "num_dic"
   ]
  },
  {
   "cell_type": "code",
   "execution_count": 44,
   "metadata": {},
   "outputs": [],
   "source": [
    "for i, v in num_dic.items():\n",
    "    if len(v)> 1:\n",
    "        tmp = list(map(''.join,list(permutations(v,len(v)))))\n",
    "        tmp.sort(reverse=True)\n",
    "        num_dic[i] = [tmp[0]]"
   ]
  },
  {
   "cell_type": "code",
   "execution_count": 45,
   "metadata": {},
   "outputs": [
    {
     "data": {
      "text/plain": [
       "{'9': ['9'],\n",
       " '8': [],\n",
       " '7': [],\n",
       " '6': [],\n",
       " '5': ['5'],\n",
       " '4': [],\n",
       " '3': ['34330'],\n",
       " '2': [],\n",
       " '1': []}"
      ]
     },
     "execution_count": 45,
     "metadata": {},
     "output_type": "execute_result"
    }
   ],
   "source": [
    "num_dic"
   ]
  },
  {
   "cell_type": "code",
   "execution_count": 47,
   "metadata": {},
   "outputs": [],
   "source": [
    "answer = ''\n",
    "for v in num_dic.values():\n",
    "    if len(v) > 0:\n",
    "        answer += v[0]"
   ]
  },
  {
   "cell_type": "code",
   "execution_count": 48,
   "metadata": {},
   "outputs": [
    {
     "data": {
      "text/plain": [
       "'9534330'"
      ]
     },
     "execution_count": 48,
     "metadata": {},
     "output_type": "execute_result"
    }
   ],
   "source": [
    "answer"
   ]
  },
  {
   "cell_type": "code",
   "execution_count": 20,
   "metadata": {},
   "outputs": [
    {
     "data": {
      "text/plain": [
       "['3303459',\n",
       " '3303495',\n",
       " '3305349',\n",
       " '3305934',\n",
       " '3309345',\n",
       " '3309534',\n",
       " '3343059',\n",
       " '3343095',\n",
       " '3345309',\n",
       " '3345930',\n",
       " '3349305',\n",
       " '3349530',\n",
       " '3530349',\n",
       " '3530934',\n",
       " '3534309',\n",
       " '3534930',\n",
       " '3593034',\n",
       " '3593430',\n",
       " '3930345',\n",
       " '3930534',\n",
       " '3934305',\n",
       " '3934530',\n",
       " '3953034',\n",
       " '3953430',\n",
       " '3033459',\n",
       " '3033495',\n",
       " '3035349',\n",
       " '3035934',\n",
       " '3039345',\n",
       " '3039534',\n",
       " '3034359',\n",
       " '3034395',\n",
       " '3034539',\n",
       " '3034593',\n",
       " '3034935',\n",
       " '3034953',\n",
       " '3053349',\n",
       " '3053934',\n",
       " '3053439',\n",
       " '3053493',\n",
       " '3059334',\n",
       " '3059343',\n",
       " '3093345',\n",
       " '3093534',\n",
       " '3093435',\n",
       " '3093453',\n",
       " '3095334',\n",
       " '3095343',\n",
       " '3433059',\n",
       " '3433095',\n",
       " '3435309',\n",
       " '3435930',\n",
       " '3439305',\n",
       " '3439530',\n",
       " '3430359',\n",
       " '3430395',\n",
       " '3430539',\n",
       " '3430593',\n",
       " '3430935',\n",
       " '3430953',\n",
       " '3453309',\n",
       " '3453930',\n",
       " '3453039',\n",
       " '3453093',\n",
       " '3459330',\n",
       " '3459303',\n",
       " '3493305',\n",
       " '3493530',\n",
       " '3493035',\n",
       " '3493053',\n",
       " '3495330',\n",
       " '3495303',\n",
       " '5330349',\n",
       " '5330934',\n",
       " '5334309',\n",
       " '5334930',\n",
       " '5393034',\n",
       " '5393430',\n",
       " '5303349',\n",
       " '5303934',\n",
       " '5303439',\n",
       " '5303493',\n",
       " '5309334',\n",
       " '5309343',\n",
       " '5343309',\n",
       " '5343930',\n",
       " '5343039',\n",
       " '5343093',\n",
       " '5349330',\n",
       " '5349303',\n",
       " '5933034',\n",
       " '5933430',\n",
       " '5930334',\n",
       " '5930343',\n",
       " '5934330',\n",
       " '5934303',\n",
       " '9330345',\n",
       " '9330534',\n",
       " '9334305',\n",
       " '9334530',\n",
       " '9353034',\n",
       " '9353430',\n",
       " '9303345',\n",
       " '9303534',\n",
       " '9303435',\n",
       " '9303453',\n",
       " '9305334',\n",
       " '9305343',\n",
       " '9343305',\n",
       " '9343530',\n",
       " '9343035',\n",
       " '9343053',\n",
       " '9345330',\n",
       " '9345303',\n",
       " '9533034',\n",
       " '9533430',\n",
       " '9530334',\n",
       " '9530343',\n",
       " '9534330',\n",
       " '9534303']"
      ]
     },
     "execution_count": 20,
     "metadata": {},
     "output_type": "execute_result"
    }
   ],
   "source": [
    "list(map(''.join, all_lsts))"
   ]
  },
  {
   "cell_type": "code",
   "execution_count": 1,
   "metadata": {},
   "outputs": [],
   "source": [
    "numbers = [3, 30, 34, 5, 9]\n",
    "\n",
    "numbers = list(map(str,numbers))\n",
    "from itertools import permutations\n",
    "\n",
    "answer_lsts = list(map(''.join, list(permutations(numbers,len(numbers)))))"
   ]
  },
  {
   "cell_type": "code",
   "execution_count": 8,
   "metadata": {},
   "outputs": [],
   "source": [
    "numbers.sort(key=lambda x: x*2, reverse=True)"
   ]
  },
  {
   "cell_type": "code",
   "execution_count": 9,
   "metadata": {},
   "outputs": [
    {
     "data": {
      "text/plain": [
       "['9', '5', '34', '3', '30']"
      ]
     },
     "execution_count": 9,
     "metadata": {},
     "output_type": "execute_result"
    }
   ],
   "source": [
    "numbers"
   ]
  },
  {
   "cell_type": "code",
   "execution_count": 12,
   "metadata": {},
   "outputs": [
    {
     "data": {
      "text/plain": [
       "['9', '5', '34', '33', '3030', '3']"
      ]
     },
     "execution_count": 12,
     "metadata": {},
     "output_type": "execute_result"
    }
   ],
   "source": [
    "sorted(['9','5','34','33','3030','3'],reverse=True)"
   ]
  },
  {
   "cell_type": "code",
   "execution_count": 5,
   "metadata": {},
   "outputs": [
    {
     "data": {
      "text/plain": [
       "'333'"
      ]
     },
     "execution_count": 5,
     "metadata": {},
     "output_type": "execute_result"
    }
   ],
   "source": [
    "numbers[3] * 3"
   ]
  },
  {
   "cell_type": "code",
   "execution_count": 29,
   "metadata": {},
   "outputs": [],
   "source": [
    "answer_lsts.sort(reverse=True)"
   ]
  },
  {
   "cell_type": "code",
   "execution_count": 31,
   "metadata": {},
   "outputs": [],
   "source": [
    "answer =answer_lsts[0]"
   ]
  },
  {
   "cell_type": "code",
   "execution_count": null,
   "metadata": {},
   "outputs": [],
   "source": [
    "def solution(numbers):\n",
    "    from itertools import permutations\n",
    "    numbers = list(map(str,numbers))\n",
    "    answer_lsts = list(map(''.join, list(permutations(numbers,len(numbers)))))\n",
    "    answer_lsts.sort(reverse=True)\n",
    "    answer =answer_lsts[0]\n",
    "    return answer"
   ]
  },
  {
   "cell_type": "code",
   "execution_count": 58,
   "metadata": {},
   "outputs": [],
   "source": [
    "def solution(numbers):\n",
    "    from itertools import permutations\n",
    "    numbers = list(map(str,numbers))\n",
    "    numbers.sort(reverse=True)\n",
    "    num_dic = {str(i) : [] for i in range(9,-1,-1)}\n",
    "    for number in numbers:\n",
    "        num_dic[number[0]].append(number)\n",
    "    for i, v in num_dic.items():\n",
    "        if len(v)> 1:\n",
    "            tmp = list(map(''.join,list(permutations(v,len(v)))))\n",
    "            tmp.sort(reverse=True)\n",
    "            num_dic[i] = [tmp[0]]\n",
    "    answer = ''\n",
    "    for v in num_dic.values():\n",
    "        if len(v) > 0:\n",
    "            answer += v[0]\n",
    "    answer = str(int(answer))\n",
    "    return answer"
   ]
  },
  {
   "cell_type": "code",
   "execution_count": 59,
   "metadata": {},
   "outputs": [],
   "source": [
    "number = [0,0,0]"
   ]
  },
  {
   "cell_type": "code",
   "execution_count": 60,
   "metadata": {},
   "outputs": [
    {
     "data": {
      "text/plain": [
       "'0'"
      ]
     },
     "execution_count": 60,
     "metadata": {},
     "output_type": "execute_result"
    }
   ],
   "source": [
    "solution(number)"
   ]
  },
  {
   "cell_type": "markdown",
   "metadata": {},
   "source": [
    "# H index"
   ]
  },
  {
   "cell_type": "code",
   "execution_count": 29,
   "metadata": {},
   "outputs": [],
   "source": [
    "citiations = [3, 0, 6, 1, 5]"
   ]
  },
  {
   "cell_type": "code",
   "execution_count": 35,
   "metadata": {},
   "outputs": [],
   "source": [
    "citiations.sort(reverse=True)"
   ]
  },
  {
   "cell_type": "code",
   "execution_count": 31,
   "metadata": {},
   "outputs": [
    {
     "data": {
      "text/plain": [
       "[6, 5, 3, 1, 0]"
      ]
     },
     "execution_count": 31,
     "metadata": {},
     "output_type": "execute_result"
    }
   ],
   "source": [
    "citiations"
   ]
  },
  {
   "cell_type": "code",
   "execution_count": 32,
   "metadata": {},
   "outputs": [],
   "source": [
    "start_num = citiations[0]"
   ]
  },
  {
   "cell_type": "code",
   "execution_count": 33,
   "metadata": {},
   "outputs": [],
   "source": [
    "while True:\n",
    "    test = [True for citiation in citiations if citiation >= start_num]\n",
    "    if sum(test) >= start_num:\n",
    "        break\n",
    "    else:\n",
    "        start_num -= 1"
   ]
  },
  {
   "cell_type": "code",
   "execution_count": 34,
   "metadata": {},
   "outputs": [
    {
     "data": {
      "text/plain": [
       "3"
      ]
     },
     "execution_count": 34,
     "metadata": {},
     "output_type": "execute_result"
    }
   ],
   "source": [
    "start_num"
   ]
  },
  {
   "cell_type": "code",
   "execution_count": null,
   "metadata": {},
   "outputs": [],
   "source": [
    "def solution(citations):\n",
    "    citations.sort(reverse=True)\n",
    "    start_num = citations[0]\n",
    "    while True:\n",
    "        test = [True for citation in citations if citation >= start_num]\n",
    "        if sum(test) >= start_num:\n",
    "            break\n",
    "        else:\n",
    "            start_num -= 1\n",
    "    \n",
    "    return start_num"
   ]
  }
 ],
 "metadata": {
  "kernelspec": {
   "display_name": "py38",
   "language": "python",
   "name": "python3"
  },
  "language_info": {
   "codemirror_mode": {
    "name": "ipython",
    "version": 3
   },
   "file_extension": ".py",
   "mimetype": "text/x-python",
   "name": "python",
   "nbconvert_exporter": "python",
   "pygments_lexer": "ipython3",
   "version": "3.8.17"
  },
  "orig_nbformat": 4
 },
 "nbformat": 4,
 "nbformat_minor": 2
}
