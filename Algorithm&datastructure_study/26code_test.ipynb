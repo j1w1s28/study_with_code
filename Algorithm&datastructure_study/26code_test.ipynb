{
 "cells": [
  {
   "cell_type": "code",
   "execution_count": 7,
   "metadata": {},
   "outputs": [],
   "source": [
    "rows = 3\n",
    "columns = 4 \n",
    "queries = [[2,2,5,4],[3,3,6,6],[5,1,6,3]]"
   ]
  },
  {
   "cell_type": "code",
   "execution_count": 10,
   "metadata": {},
   "outputs": [],
   "source": [
    "boards = []\n",
    "for i in range(rows):\n",
    "    rows_board = []\n",
    "    for j in range(1, columns+1):\n",
    "        rows_board.append(i * columns + j)\n",
    "\n",
    "    boards.append(rows_board)"
   ]
  },
  {
   "cell_type": "code",
   "execution_count": 4,
   "metadata": {},
   "outputs": [],
   "source": [
    "import copy \n",
    "def rotateV2(query,boards):\n",
    "\n",
    "    #ori_boards = copy.deepcopy(boards)\n",
    "    ori_boards = [i.copy() for i in boards]\n",
    "\n",
    "    x1,y1,x2,y2 = query\n",
    "    x1 -= 1\n",
    "    x2 -= 1\n",
    "    y1 -= 1\n",
    "    y2 -= 1\n",
    "\n",
    "    lsts = []\n",
    "\n",
    "    # x축 위\n",
    "    for i in range(y1,y2):\n",
    "        boards[x1][i+1] =  ori_boards[x1][i]\n",
    "        lsts.append(ori_boards[x1][i])\n",
    "\n",
    "    for i in range(x1,x2):\n",
    "        boards[i+1][y2] = ori_boards[i][y2]\n",
    "        lsts.append(ori_boards[i][y2])\n",
    "    \n",
    "    for i in range(y1,y2):\n",
    "        boards[x2][i] = ori_boards[x2][i+1]\n",
    "        lsts.append(ori_boards[x2][i+1])\n",
    "\n",
    "    for i in range(x1,x2):\n",
    "        boards[i][y1] = ori_boards[i +1][y1]\n",
    "        #print(boards[i][y1])\n",
    "        #print(ori_boards[i+1][y1])\n",
    "        lsts.append(ori_boards[i +1][y1])\n",
    "\n",
    "\n",
    "    return min(lsts), boards"
   ]
  },
  {
   "cell_type": "code",
   "execution_count": 5,
   "metadata": {},
   "outputs": [],
   "source": [
    "boards = []\n",
    "for i in range(rows):\n",
    "    rows_board = []\n",
    "    for j in range(1, columns+1):\n",
    "        rows_board.append(i * rows + j)\n",
    "\n",
    "    boards.append(rows_board)\n",
    "    \n",
    "results = []\n",
    "for query in queries:\n",
    "    result,boards = rotateV2(boards=boards,query=query)\n",
    "\n",
    "    results.append(result)\n"
   ]
  },
  {
   "cell_type": "code",
   "execution_count": null,
   "metadata": {},
   "outputs": [],
   "source": [
    "\n",
    "def rotate(query,boards):\n",
    "    lsts = []\n",
    "    x1,y1,x2,y2 =query\n",
    "    x1 -= 1 \n",
    "    y1 -= 1 \n",
    "    x2 -= 1 \n",
    "    y2 -= 1 \n",
    "    #ori_boards = copy.deepcopy(boards)\n",
    "    ori_boards = [i.copy() for i in boards]\n",
    "    #위 x 축\n",
    "    boards[x1][y1 + 1: y2 + 1] = ori_boards[x1][y1:y2]\n",
    "    lsts.extend(ori_boards[x1][y1:y2])\n",
    "\n",
    "    # 오른쪽 y 축\n",
    "    change_lsts = []\n",
    "    for i in range(x1,x2):\n",
    "        change_lsts.append(ori_boards[i][y2])\n",
    "\n",
    "    for i,v in enumerate(range(x1+1,x2+1)):\n",
    "        boards[v][y2] = change_lsts[i]\n",
    "    lsts.extend(change_lsts)\n",
    "\n",
    "    # 아래 x 축\n",
    "    boards[x2][y1: y2] = ori_boards[x2][y1+1:y2+1]\n",
    "    lsts.extend(ori_boards[x2][y1+1:y2+1])\n",
    "\n",
    "    # 왼쪽 y 축\n",
    "    change_lsts = []\n",
    "    for i in range(x1+1,x2+1):\n",
    "        change_lsts.append(ori_boards[i][y1])\n",
    "\n",
    "    for i,v in enumerate(range(x1,x2)):\n",
    "        boards[v][y1] = change_lsts[i]\n",
    "\n",
    "    lsts.extend(change_lsts)\n",
    "\n",
    "    return boards ,min(lsts)\n",
    "    \n",
    "\n",
    "def solution(rows, columns, queries):\n",
    "    boards = []\n",
    "    for i in range(rows):\n",
    "        rows_board = []\n",
    "        for j in range(1, columns+1):\n",
    "            rows_board.append(i * rows + j)\n",
    "\n",
    "        boards.append(rows_board)\n",
    "        \n",
    "    results = []\n",
    "    for query in queries:\n",
    "        boards, result = rotate(boards=boards,query=query)\n",
    "\n",
    "        results.append(result)\n",
    "    return results"
   ]
  },
  {
   "cell_type": "code",
   "execution_count": null,
   "metadata": {},
   "outputs": [],
   "source": [
    "# 최종\n"
   ]
  },
  {
   "cell_type": "markdown",
   "metadata": {},
   "source": [
    "# 문자열 압축하기"
   ]
  },
  {
   "cell_type": "code",
   "execution_count": 24,
   "metadata": {},
   "outputs": [
    {
     "data": {
      "text/plain": [
       "24"
      ]
     },
     "execution_count": 24,
     "metadata": {},
     "output_type": "execute_result"
    }
   ],
   "source": [
    "s = \"abcabcabcabcdededededede\"\n",
    "\n",
    "len(s)"
   ]
  },
  {
   "cell_type": "code",
   "execution_count": 25,
   "metadata": {},
   "outputs": [
    {
     "name": "stdout",
     "output_type": "stream",
     "text": [
      "1\n",
      "2\n",
      "3\n",
      "4\n",
      "5\n",
      "6\n",
      "7\n",
      "8\n",
      "9\n",
      "10\n",
      "11\n",
      "12\n"
     ]
    }
   ],
   "source": [
    "for i in range(1,len(s)//2 + 1):\n",
    "    print(i)"
   ]
  },
  {
   "cell_type": "code",
   "execution_count": 32,
   "metadata": {},
   "outputs": [],
   "source": [
    "i = 4\n",
    "new_str = ''\n",
    "candidate = s[:i]\n",
    "cnt = 1\n",
    "for j in range(i, len(s) + i,i):\n",
    "    if candidate == s[j:i+j]:\n",
    "        cnt += 1\n",
    "    else:\n",
    "        if cnt != 1:\n",
    "            new_str += str(cnt) + candidate\n",
    "        else:\n",
    "            new_str += candidate\n",
    "\n",
    "        candidate = s[j:j+i]\n",
    "        cnt = 1"
   ]
  },
  {
   "cell_type": "code",
   "execution_count": 31,
   "metadata": {},
   "outputs": [
    {
     "data": {
      "text/plain": [
       "'abcabcabcabc3dede'"
      ]
     },
     "execution_count": 31,
     "metadata": {},
     "output_type": "execute_result"
    }
   ],
   "source": [
    "\n"
   ]
  },
  {
   "cell_type": "code",
   "execution_count": 18,
   "metadata": {},
   "outputs": [],
   "source": [
    "new_str = ''\n",
    "cnt = 1\n",
    "tmp = s[:i]"
   ]
  },
  {
   "cell_type": "code",
   "execution_count": 19,
   "metadata": {},
   "outputs": [
    {
     "data": {
      "text/plain": [
       "'aabb'"
      ]
     },
     "execution_count": 19,
     "metadata": {},
     "output_type": "execute_result"
    }
   ],
   "source": [
    "tmp"
   ]
  },
  {
   "cell_type": "code",
   "execution_count": null,
   "metadata": {},
   "outputs": [],
   "source": []
  },
  {
   "cell_type": "code",
   "execution_count": null,
   "metadata": {},
   "outputs": [],
   "source": []
  }
 ],
 "metadata": {
  "kernelspec": {
   "display_name": "py38",
   "language": "python",
   "name": "python3"
  },
  "language_info": {
   "codemirror_mode": {
    "name": "ipython",
    "version": 3
   },
   "file_extension": ".py",
   "mimetype": "text/x-python",
   "name": "python",
   "nbconvert_exporter": "python",
   "pygments_lexer": "ipython3",
   "version": "3.8.18"
  }
 },
 "nbformat": 4,
 "nbformat_minor": 2
}
