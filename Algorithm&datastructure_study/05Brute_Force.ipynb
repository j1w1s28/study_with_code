{
 "cells": [
  {
   "attachments": {},
   "cell_type": "markdown",
   "metadata": {},
   "source": [
    "# 최소직사각형"
   ]
  },
  {
   "cell_type": "code",
   "execution_count": 23,
   "metadata": {},
   "outputs": [],
   "source": [
    "sizes = [[60, 50], [30, 70], [60, 30], [80, 40]]\n",
    "sizes = \t[[10, 7], [12, 3], [8, 15], [14, 7], [5, 15]]"
   ]
  },
  {
   "cell_type": "code",
   "execution_count": 24,
   "metadata": {},
   "outputs": [],
   "source": [
    "max_x , max_y = 0,0\n",
    "for size in sizes:\n",
    "    x = size[0]\n",
    "    y = size[1]\n",
    "    if x > max_x and y > max_y:\n",
    "        # x,y 둘다 더 큰 경우\n",
    "        max_x = x\n",
    "        max_y = y\n",
    "    elif x > max_x or y>max_y :\n",
    "        #둘 중 하나만 더 큰 경우\n",
    "        if x < max_y and y < max_x:\n",
    "            #x,y를 바꾸면 들어가는 경우\n",
    "            print('바뀌면 안됨')\n",
    "            continue\n",
    "        else:\n",
    "            #x,y 판별해서 넣어줘야함\n",
    "answer = max_x * max_y"
   ]
  },
  {
   "cell_type": "code",
   "execution_count": 21,
   "metadata": {},
   "outputs": [
    {
     "data": {
      "text/plain": [
       "(14, 7)"
      ]
     },
     "execution_count": 21,
     "metadata": {},
     "output_type": "execute_result"
    }
   ],
   "source": [
    "max_x, max_y"
   ]
  }
 ],
 "metadata": {
  "kernelspec": {
   "display_name": "py38",
   "language": "python",
   "name": "python3"
  },
  "language_info": {
   "codemirror_mode": {
    "name": "ipython",
    "version": 3
   },
   "file_extension": ".py",
   "mimetype": "text/x-python",
   "name": "python",
   "nbconvert_exporter": "python",
   "pygments_lexer": "ipython3",
   "version": "3.8.16"
  },
  "orig_nbformat": 4
 },
 "nbformat": 4,
 "nbformat_minor": 2
}
