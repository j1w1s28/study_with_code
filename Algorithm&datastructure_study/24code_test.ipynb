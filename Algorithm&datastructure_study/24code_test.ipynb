{
 "cells": [
  {
   "cell_type": "markdown",
   "metadata": {},
   "source": [
    "# 다트게임"
   ]
  },
  {
   "cell_type": "code",
   "execution_count": 13,
   "metadata": {},
   "outputs": [],
   "source": [
    "def solution(dartResult):\n",
    "    score = []\n",
    "    number = ''\n",
    "    for i in dartResult:\n",
    "        if i.isnumeric():\n",
    "            number += i\n",
    "        elif i == 'S':\n",
    "            score.append(int(number) ** 1)\n",
    "            number = ''\n",
    "        elif i == 'D':\n",
    "            score.append(int(number) ** 2)\n",
    "            number = ''\n",
    "        elif i == 'T':\n",
    "            score.append(int(number) ** 3)\n",
    "            number = ''\n",
    "        elif i == '*':\n",
    "            if len(score) > 1:\n",
    "                score[-2] *= 2\n",
    "            score[-1] *= 2\n",
    "        elif i == '#':\n",
    "            score[-1] *= -1\n",
    "    return sum(score)"
   ]
  },
  {
   "cell_type": "code",
   "execution_count": 14,
   "metadata": {},
   "outputs": [
    {
     "data": {
      "text/plain": [
       "9"
      ]
     },
     "execution_count": 14,
     "metadata": {},
     "output_type": "execute_result"
    }
   ],
   "source": [
    "solution('1D2S#10S')"
   ]
  },
  {
   "cell_type": "markdown",
   "metadata": {},
   "source": [
    "## 주차요금"
   ]
  },
  {
   "cell_type": "code",
   "execution_count": 1,
   "metadata": {},
   "outputs": [],
   "source": [
    "from datetime import datetime   \n",
    "import math"
   ]
  },
  {
   "cell_type": "code",
   "execution_count": 2,
   "metadata": {},
   "outputs": [],
   "source": [
    "fees = [180, 5000, 10, 600]\n",
    "records = [\"05:34 5961 IN\", \"06:00 0000 IN\", \"06:34 0000 OUT\", \"07:59 5961 OUT\", \"07:59 0148 IN\", \"18:59 0000 IN\", \"19:09 0148 OUT\", \"22:59 5961 IN\", \"23:00 5961 OUT\"]"
   ]
  },
  {
   "cell_type": "code",
   "execution_count": 3,
   "metadata": {},
   "outputs": [],
   "source": [
    "in_dic = {}\n",
    "time_dic = {}"
   ]
  },
  {
   "cell_type": "code",
   "execution_count": 4,
   "metadata": {},
   "outputs": [],
   "source": [
    "for record in records:\n",
    "    time, car_num, car_status= record.split()\n",
    "    #시간을 datetime 객체로 변환\n",
    "    time = datetime.strptime(time,'%H:%M')\n",
    "    if car_status == 'IN':\n",
    "        in_dic[car_num] = time\n",
    "\n",
    "    #out일때 출차시간과 입차시간차이를 토대로 요금 계산\n",
    "    elif car_status == 'OUT':\n",
    "        time_diff = int((time - in_dic[car_num]).seconds // 60)\n",
    "        \n",
    "            \n",
    "        # 이전에 방문한적 없을 때\n",
    "        if time_dic.get(car_num) == None:\n",
    "            time_dic[car_num] = time_diff\n",
    "        # 이전에 방문한적 있을 때\n",
    "        else:\n",
    "            time_dic[car_num] += time_diff\n",
    "\n",
    "        #in_dic에 존재하는 차번호 제거\n",
    "        del in_dic[car_num]\n",
    "\n",
    "#입차한 차가 남아있을때 경우 \n",
    "if in_dic:\n",
    "    car_num, in_time = in_dic.popitem()\n",
    "    time = datetime.strptime('23:59','%H:%M')\n",
    "    time_diff = int((time -in_time).seconds // 60)\n",
    "        \n",
    "    # 이전에 방문한적 없을 때\n",
    "    if time_dic.get(car_num) == None:\n",
    "        time_dic[car_num] = time_diff\n",
    "    # 이전에 방문한적 있을 때\n",
    "    else:\n",
    "        time_dic[car_num] += time_diff"
   ]
  },
  {
   "cell_type": "code",
   "execution_count": 5,
   "metadata": {},
   "outputs": [],
   "source": [
    "#요금 계산함수\n",
    "def get_fees(time):\n",
    "    #기본시간보다 적거나 같을 때\n",
    "    if time <= fees[0]: \n",
    "        result = fees[1]\n",
    "\n",
    "    #기본시간을 초과했을 때\n",
    "    else:\n",
    "        #기본 요금 + 초과요금\n",
    "        result = fees[1] + math.ceil((time - fees[0])/fees[2]) * fees[3]\n",
    "    \n",
    "    return result"
   ]
  },
  {
   "cell_type": "code",
   "execution_count": 6,
   "metadata": {},
   "outputs": [
    {
     "data": {
      "text/plain": [
       "{'0000': 334, '5961': 146, '0148': 670}"
      ]
     },
     "execution_count": 6,
     "metadata": {},
     "output_type": "execute_result"
    }
   ],
   "source": [
    "time_dic"
   ]
  },
  {
   "cell_type": "code",
   "execution_count": 7,
   "metadata": {},
   "outputs": [
    {
     "data": {
      "text/plain": [
       "['0000', '0148', '5961']"
      ]
     },
     "execution_count": 7,
     "metadata": {},
     "output_type": "execute_result"
    }
   ],
   "source": [
    "sorted(time_dic.keys())"
   ]
  },
  {
   "cell_type": "code",
   "execution_count": 8,
   "metadata": {},
   "outputs": [
    {
     "data": {
      "text/plain": [
       "{'0000': 334, '5961': 146, '0148': 670}"
      ]
     },
     "execution_count": 8,
     "metadata": {},
     "output_type": "execute_result"
    }
   ],
   "source": [
    "time_dic"
   ]
  },
  {
   "cell_type": "code",
   "execution_count": 9,
   "metadata": {},
   "outputs": [],
   "source": [
    "answer = list(map(lambda x : get_fees(x[1]), sorted(time_dic.items())))"
   ]
  },
  {
   "cell_type": "code",
   "execution_count": 10,
   "metadata": {},
   "outputs": [
    {
     "data": {
      "text/plain": [
       "[14600, 34400, 5000]"
      ]
     },
     "execution_count": 10,
     "metadata": {},
     "output_type": "execute_result"
    }
   ],
   "source": [
    "answer"
   ]
  }
 ],
 "metadata": {
  "kernelspec": {
   "display_name": "py38",
   "language": "python",
   "name": "python3"
  },
  "language_info": {
   "codemirror_mode": {
    "name": "ipython",
    "version": 3
   },
   "file_extension": ".py",
   "mimetype": "text/x-python",
   "name": "python",
   "nbconvert_exporter": "python",
   "pygments_lexer": "ipython3",
   "version": "3.8.17"
  }
 },
 "nbformat": 4,
 "nbformat_minor": 2
}
