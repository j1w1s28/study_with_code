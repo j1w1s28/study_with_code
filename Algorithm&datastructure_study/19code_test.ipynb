{
 "cells": [
  {
   "cell_type": "markdown",
   "metadata": {},
   "source": [
    "# 명예의 전당"
   ]
  },
  {
   "cell_type": "code",
   "execution_count": 1,
   "metadata": {},
   "outputs": [],
   "source": [
    "k = 3\n",
    "score = [10, 100, 20, 150, 1, 100, 200]"
   ]
  },
  {
   "cell_type": "code",
   "execution_count": 9,
   "metadata": {},
   "outputs": [],
   "source": [
    "top_k = []\n",
    "result = []"
   ]
  },
  {
   "cell_type": "code",
   "execution_count": 10,
   "metadata": {},
   "outputs": [],
   "source": [
    "for i,v in enumerate(score):\n",
    "    if i < k:\n",
    "        top_k.append(v)\n",
    "    elif i >= k and top_k[-1] < v:\n",
    "        top_k.pop()\n",
    "        top_k.append(v)\n",
    "    \n",
    "    top_k.sort(reverse=True)\n",
    "    result.append(top_k[-1])\n",
    "        "
   ]
  },
  {
   "cell_type": "code",
   "execution_count": 11,
   "metadata": {},
   "outputs": [
    {
     "data": {
      "text/plain": [
       "[10, 10, 10, 20, 20, 100, 100]"
      ]
     },
     "execution_count": 11,
     "metadata": {},
     "output_type": "execute_result"
    }
   ],
   "source": [
    "result"
   ]
  },
  {
   "cell_type": "code",
   "execution_count": 33,
   "metadata": {},
   "outputs": [],
   "source": [
    "def solution(k, score):\n",
    "    top_k = []\n",
    "    answer = []\n",
    "    \n",
    "    for i,v in enumerate(score):\n",
    "        if i < k:\n",
    "            top_k.append(v)\n",
    "        elif i >= k and top_k[-1] < v:\n",
    "            top_k.pop()\n",
    "            top_k.append(v)\n",
    "\n",
    "        top_k.sort(reverse=True)\n",
    "        answer.append(top_k[-1])\n",
    "    return answer"
   ]
  },
  {
   "cell_type": "markdown",
   "metadata": {},
   "source": [
    "# 기사단원의 무기"
   ]
  },
  {
   "cell_type": "code",
   "execution_count": 25,
   "metadata": {},
   "outputs": [],
   "source": [
    "number = 5 \n",
    "limit = 3\n",
    "power = 2"
   ]
  },
  {
   "cell_type": "code",
   "execution_count": 26,
   "metadata": {},
   "outputs": [],
   "source": [
    "def getDivisor(n):\n",
    "\n",
    "    divisorsList = []\n",
    "\n",
    "    for i in range(1, int(n**(1/2)) + 1):\n",
    "        if (n % i == 0):\n",
    "            divisorsList.append(i) \n",
    "            if ( (i**2) != n) : \n",
    "                divisorsList.append(n // i)\n",
    "\n",
    "    divisorsList.sort()\n",
    "    \n",
    "    return len(divisorsList)"
   ]
  },
  {
   "cell_type": "code",
   "execution_count": 27,
   "metadata": {},
   "outputs": [],
   "source": [
    "divisorlst = []\n",
    "for i in range(1,number+1):\n",
    "    divisorlst.append(getDivisor(i))\n",
    "\n"
   ]
  },
  {
   "cell_type": "code",
   "execution_count": 30,
   "metadata": {},
   "outputs": [],
   "source": [
    "answer = [power if i > limit else i for i in divisorlst ]"
   ]
  },
  {
   "cell_type": "code",
   "execution_count": 32,
   "metadata": {},
   "outputs": [
    {
     "data": {
      "text/plain": [
       "10"
      ]
     },
     "execution_count": 32,
     "metadata": {},
     "output_type": "execute_result"
    }
   ],
   "source": [
    "sum(answer)"
   ]
  },
  {
   "cell_type": "code",
   "execution_count": null,
   "metadata": {},
   "outputs": [],
   "source": [
    "def getDivisor(n):\n",
    "\n",
    "    divisorsList = []\n",
    "\n",
    "    for i in range(1, int(n**(1/2)) + 1):\n",
    "        if (n % i == 0):\n",
    "            divisorsList.append(i) \n",
    "            if ( (i**2) != n) : \n",
    "                divisorsList.append(n // i)\n",
    "\n",
    "    divisorsList.sort()\n",
    "    \n",
    "    return len(divisorsList)\n",
    "\n",
    "def solution(number, limit, power):\n",
    "\n",
    "    divisorlst = []\n",
    "    for i in range(1,number+1):\n",
    "        divisorlst.append(getDivisor(i))\n",
    "    \n",
    "    answer = [power if i > limit else i for i in divisorlst ]\n",
    "    return sum(answer)"
   ]
  },
  {
   "cell_type": "markdown",
   "metadata": {},
   "source": [
    "# 과일장수"
   ]
  },
  {
   "cell_type": "code",
   "execution_count": 56,
   "metadata": {},
   "outputs": [],
   "source": [
    "k = 4\n",
    "m = 3\n",
    "score = [4, 1, 2, 2, 4, 4, 4, 4, 1, 2, 4, 2]"
   ]
  },
  {
   "cell_type": "code",
   "execution_count": 57,
   "metadata": {},
   "outputs": [],
   "source": [
    "score.sort(reverse=True)\n"
   ]
  },
  {
   "cell_type": "code",
   "execution_count": 69,
   "metadata": {},
   "outputs": [],
   "source": [
    "answer = 0\n",
    "for i in range(0,len(score),m):\n",
    "    if i + m <= len(score):\n",
    "        lst = score[i:i+m]\n",
    "        answer +=  min(lst) * m\n",
    "    else:\n",
    "        continue"
   ]
  },
  {
   "cell_type": "code",
   "execution_count": 70,
   "metadata": {},
   "outputs": [
    {
     "data": {
      "text/plain": [
       "33"
      ]
     },
     "execution_count": 70,
     "metadata": {},
     "output_type": "execute_result"
    }
   ],
   "source": [
    "answer"
   ]
  },
  {
   "cell_type": "code",
   "execution_count": null,
   "metadata": {},
   "outputs": [],
   "source": [
    "def solution(k, m, score):\n",
    "    answer = 0\n",
    "    score.sort(reverse=True)\n",
    "    for i in range(0,len(score),m):\n",
    "        if i + m <= len(score):\n",
    "            lst = score[i:i+m]\n",
    "            answer += min(lst) * m\n",
    "        else:\n",
    "            continue\n",
    "    return answer"
   ]
  }
 ],
 "metadata": {
  "kernelspec": {
   "display_name": "Python 3",
   "language": "python",
   "name": "python3"
  },
  "language_info": {
   "codemirror_mode": {
    "name": "ipython",
    "version": 3
   },
   "file_extension": ".py",
   "mimetype": "text/x-python",
   "name": "python",
   "nbconvert_exporter": "python",
   "pygments_lexer": "ipython3",
   "version": "3.11.1"
  }
 },
 "nbformat": 4,
 "nbformat_minor": 2
}
