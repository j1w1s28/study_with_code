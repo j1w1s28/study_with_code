{
 "cells": [
  {
   "cell_type": "markdown",
   "metadata": {},
   "source": [
    "# 방금 그곡\n",
    "https://school.programmers.co.kr/learn/courses/30/lessons/17683"
   ]
  },
  {
   "cell_type": "code",
   "execution_count": 1,
   "metadata": {},
   "outputs": [],
   "source": [
    "m = \"ABC\"\n",
    "musicinfos = [\"12:00,12:14,HELLO,C#DEFGAB\", \"13:00,13:05,WORLD,ABCDEF\"]"
   ]
  },
  {
   "cell_type": "code",
   "execution_count": 2,
   "metadata": {},
   "outputs": [],
   "source": [
    "from datetime import datetime\n",
    "musicinfos = [musicinfo.split(',')for musicinfo in musicinfos] "
   ]
  },
  {
   "cell_type": "code",
   "execution_count": 3,
   "metadata": {},
   "outputs": [],
   "source": [
    "answer = \"(None)\"\n",
    "play_times = 0"
   ]
  },
  {
   "cell_type": "code",
   "execution_count": 4,
   "metadata": {},
   "outputs": [],
   "source": [
    "code_change = [('C#' , 'c'),\n",
    "               ('D#' , 'd'),\n",
    "               ('F#' , 'f'),\n",
    "               ('G#' , 'g'),\n",
    "               ('A#' , 'a'),\n",
    "               ('B#' , 'b')]"
   ]
  },
  {
   "cell_type": "code",
   "execution_count": 5,
   "metadata": {},
   "outputs": [
    {
     "name": "stdout",
     "output_type": "stream",
     "text": [
      "ABCDE\n",
      "WORLD\n"
     ]
    }
   ],
   "source": [
    "for musicinfo in musicinfos:\n",
    "    start_time, end_time, title, codes = musicinfo\n",
    "\n",
    "    for ori_code, new_code in code_change:\n",
    "        codes = codes.replace(ori_code,new_code)\n",
    "        m = m.replace(ori_code,new_code)\n",
    "    \n",
    "    start_time = datetime.strptime(start_time,'%H:%M')\n",
    "    end_time = datetime.strptime(end_time,'%H:%M')\n",
    "    time_diff = int((end_time - start_time).total_seconds() // 60)\n",
    "\n",
    "    a, b = time_diff // len(codes.replace('#','')), time_diff % len(codes.replace('#',''))\n",
    "    actual_code = codes * a\n",
    "    if b != 0:\n",
    "        actual_code += codes[:b]\n",
    "    if m in actual_code and time_diff > play_times :\n",
    "        answer = title\n",
    "        play_times = time_diff\n",
    "\n",
    "print(answer)"
   ]
  },
  {
   "cell_type": "code",
   "execution_count": null,
   "metadata": {},
   "outputs": [],
   "source": [
    "def solution(m, musicinfos):\n",
    "    from datetime import datetime\n",
    "    musicinfos = [musicinfo.split(',')for musicinfo in musicinfos] \n",
    "    answer = \"(None)\"\n",
    "    play_times = 0\n",
    "    code_change = [('C#' , 'c'),\n",
    "               ('D#' , 'd'),\n",
    "               ('F#' , 'f'),\n",
    "               ('G#' , 'g'),\n",
    "               ('A#' , 'a'),\n",
    "               ('B#' , 'b')] #34번 틀려서 추가하니깐 해결됨\n",
    "    for musicinfo in musicinfos:\n",
    "        start_time, end_time, title, codes = musicinfo\n",
    "        \n",
    "        for ori_code, new_code in code_change:\n",
    "            codes = codes.replace(ori_code,new_code)\n",
    "            m = m.replace(ori_code,new_code)\n",
    "            \n",
    "        start_time = datetime.strptime(start_time,'%H:%M')\n",
    "        end_time = datetime.strptime(end_time,'%H:%M')\n",
    "        time_diff = int((end_time - start_time).total_seconds() // 60)\n",
    "\n",
    "        actual_code = codes * (time_diff // len(codes))\n",
    "        if time_diff % len(codes) != 0:\n",
    "            actual_code += codes[:time_diff % len(codes)]\n",
    "        if m in actual_code and time_diff > play_times :\n",
    "            answer = title\n",
    "            play_times = time_diff\n",
    "    \n",
    "    return answer"
   ]
  },
  {
   "cell_type": "markdown",
   "metadata": {},
   "source": [
    "# 괄호변환"
   ]
  },
  {
   "cell_type": "code",
   "execution_count": 29,
   "metadata": {},
   "outputs": [],
   "source": [
    "p = \"()))((()\""
   ]
  },
  {
   "cell_type": "code",
   "execution_count": 30,
   "metadata": {},
   "outputs": [],
   "source": [
    "p = list(p)\n"
   ]
  },
  {
   "cell_type": "code",
   "execution_count": 23,
   "metadata": {},
   "outputs": [],
   "source": [
    "#2. 함수\n",
    "def split(lst):\n",
    "    left_cnt = 0\n",
    "    right_cnt = 0\n",
    "  \n",
    "    for i in range(len(lst)):\n",
    "        if lst[i] == '(':\n",
    "            left_cnt += 1\n",
    "        elif lst[i] == ')':\n",
    "            right_cnt += 1\n",
    "        if left_cnt == right_cnt:\n",
    "\n",
    "            break\n",
    "    u, v = lst[0: i + 1], lst[i + 1:]\n",
    "\n",
    "    return (u, v)"
   ]
  },
  {
   "cell_type": "code",
   "execution_count": 24,
   "metadata": {},
   "outputs": [],
   "source": [
    "# 3. 올바른 확인\n",
    "def check(lst):\n",
    "    stack = []\n",
    "    idx = 0\n",
    "    while idx < len(lst):\n",
    "        cur_idx = lst[idx]\n",
    "        if len(stack) == 0:\n",
    "            stack.append(cur_idx)\n",
    "        elif stack[-1] == '(' and cur_idx == ')':\n",
    "            stack.pop()\n",
    "        else:\n",
    "            stack.append(cur_idx)\n",
    "        idx += 1\n",
    "    if stack :\n",
    "        return False\n",
    "    else:\n",
    "        return True"
   ]
  },
  {
   "cell_type": "code",
   "execution_count": 25,
   "metadata": {},
   "outputs": [],
   "source": [
    "# 4 \n",
    "def fix(str_val):\n",
    "    str_val.pop(0)\n",
    "    str_val.pop(-1)\n",
    "    if len(str_val) == 0:\n",
    "        return []\n",
    "    else:\n",
    "        for i in range(len(str_val)):\n",
    "            if str_val[i] == '(':\n",
    "                str_val[i] = ')'\n",
    "            else:\n",
    "                str_val[i] = '('\n",
    "        return str_val"
   ]
  },
  {
   "cell_type": "code",
   "execution_count": 33,
   "metadata": {},
   "outputs": [],
   "source": [
    "def change(lst):\n",
    "    # 1.\n",
    "    if len(lst) == 0:\n",
    "        return []\n",
    "    # 2.\n",
    "    u, v = split(lst)\n",
    "    # 3 , 3-1.\n",
    "    if check(u):\n",
    "        return u + change(v)\n",
    "\n",
    "    else:\n",
    "        # 4-4\n",
    "        new_u = fix(u)\n",
    "        # 4-1. ~ 4-3\n",
    "        return ['('] + change(v) + [')'] + new_u"
   ]
  },
  {
   "cell_type": "code",
   "execution_count": 34,
   "metadata": {},
   "outputs": [
    {
     "data": {
      "text/plain": [
       "'()(())()'"
      ]
     },
     "execution_count": 34,
     "metadata": {},
     "output_type": "execute_result"
    }
   ],
   "source": [
    "''.join(change(p))"
   ]
  },
  {
   "cell_type": "code",
   "execution_count": null,
   "metadata": {},
   "outputs": [],
   "source": [
    "#2. 함수\n",
    "def split(lst):\n",
    "    left_cnt = 0\n",
    "    right_cnt = 0\n",
    "  \n",
    "    for i in range(len(lst)):\n",
    "        if lst[i] == '(':\n",
    "            left_cnt += 1\n",
    "        elif lst[i] == ')':\n",
    "            right_cnt += 1\n",
    "        if left_cnt == right_cnt:\n",
    "\n",
    "            break\n",
    "    u, v = lst[0: i + 1], lst[i + 1:]\n",
    "\n",
    "    return (u, v)\n",
    "# 3. 올바른 확인\n",
    "def check(lst):\n",
    "    stack = []\n",
    "    idx = 0\n",
    "    while idx < len(lst):\n",
    "        cur_idx = lst[idx]\n",
    "        if len(stack) == 0:\n",
    "            stack.append(cur_idx)\n",
    "        elif stack[-1] == '(' and cur_idx == ')':\n",
    "            stack.pop()\n",
    "        else:\n",
    "            stack.append(cur_idx)\n",
    "        idx += 1\n",
    "    if stack :\n",
    "        return False\n",
    "    else:\n",
    "        return True\n",
    "    \n",
    "# 4 \n",
    "def fix(str_val):\n",
    "    str_val.pop(0)\n",
    "    str_val.pop(-1)\n",
    "    if len(str_val) == 0:\n",
    "        return []\n",
    "    else:\n",
    "        for i in range(len(str_val)):\n",
    "            if str_val[i] == '(':\n",
    "                str_val[i] = ')'\n",
    "            else:\n",
    "                str_val[i] = '('\n",
    "        return str_val\n",
    "# 최종 재귀함수    \n",
    "def change(lst):\n",
    "    # 1.\n",
    "    if len(lst) == 0:\n",
    "        return []\n",
    "    # 2.\n",
    "    u, v = split(lst)\n",
    "    # 3 , 3-1.\n",
    "    if check(u):\n",
    "        return u + change(v)\n",
    "\n",
    "    else:\n",
    "        # 4-4\n",
    "        new_u = fix(u)\n",
    "        # 4-1. ~ 4-3\n",
    "        return ['('] + change(v) + [')'] + new_u\n",
    "def solution(p):\n",
    "    p = list(p)\n",
    "    return ''.join(change(p))"
   ]
  },
  {
   "cell_type": "markdown",
   "metadata": {},
   "source": [
    "# 수식 최대화"
   ]
  },
  {
   "cell_type": "code",
   "execution_count": 1,
   "metadata": {},
   "outputs": [],
   "source": [
    "expression = \"100-200*300-500+20\""
   ]
  },
  {
   "cell_type": "code",
   "execution_count": 2,
   "metadata": {},
   "outputs": [],
   "source": [
    "func_num = min(expression.count('-'),1) + min(expression.count('+'),1) + min(expression.count('*'),1)\n",
    "func_cnt = expression.count('-') + expression.count('+') + expression.count('*')"
   ]
  },
  {
   "cell_type": "code",
   "execution_count": 3,
   "metadata": {},
   "outputs": [
    {
     "name": "stdout",
     "output_type": "stream",
     "text": [
      "func_num : 3 \n",
      "func_cnt : 4\n"
     ]
    }
   ],
   "source": [
    "print(f'func_num : {func_num} \\nfunc_cnt : {func_cnt}')"
   ]
  },
  {
   "cell_type": "code",
   "execution_count": 8,
   "metadata": {},
   "outputs": [
    {
     "name": "stdout",
     "output_type": "stream",
     "text": [
      "('-', '+', '*')\n",
      "-\n",
      "+\n",
      "*\n",
      "('-', '*', '+')\n",
      "-\n",
      "*\n",
      "+\n",
      "('+', '-', '*')\n",
      "+\n",
      "-\n",
      "*\n",
      "('+', '*', '-')\n",
      "+\n",
      "*\n",
      "-\n",
      "('*', '-', '+')\n",
      "*\n",
      "-\n",
      "+\n",
      "('*', '+', '-')\n",
      "*\n",
      "+\n",
      "-\n"
     ]
    }
   ],
   "source": [
    "from itertools import permutations\n",
    "\n",
    "for i in permutations(['-','+','*'],func_num):\n",
    "    print(i)\n",
    "    for j in i:\n",
    "        print(f'{j}')"
   ]
  },
  {
   "cell_type": "code",
   "execution_count": 12,
   "metadata": {},
   "outputs": [
    {
     "data": {
      "text/plain": [
       "'*'"
      ]
     },
     "execution_count": 12,
     "metadata": {},
     "output_type": "execute_result"
    }
   ],
   "source": [
    "i[0]"
   ]
  },
  {
   "cell_type": "code",
   "execution_count": 14,
   "metadata": {},
   "outputs": [
    {
     "data": {
      "text/plain": [
       "1"
      ]
     },
     "execution_count": 14,
     "metadata": {},
     "output_type": "execute_result"
    }
   ],
   "source": [
    "-1 % 2"
   ]
  },
  {
   "cell_type": "code",
   "execution_count": 16,
   "metadata": {},
   "outputs": [],
   "source": [
    "copyed_exp = expression"
   ]
  },
  {
   "cell_type": "code",
   "execution_count": 17,
   "metadata": {},
   "outputs": [
    {
     "data": {
      "text/plain": [
       "'100-200*300-500+20'"
      ]
     },
     "execution_count": 17,
     "metadata": {},
     "output_type": "execute_result"
    }
   ],
   "source": []
  },
  {
   "cell_type": "code",
   "execution_count": 18,
   "metadata": {},
   "outputs": [
    {
     "data": {
      "text/plain": [
       "'-100*300-500+20'"
      ]
     },
     "execution_count": 18,
     "metadata": {},
     "output_type": "execute_result"
    }
   ],
   "source": [
    "copyed_exp.replace('100-200','-100')"
   ]
  },
  {
   "cell_type": "code",
   "execution_count": 57,
   "metadata": {},
   "outputs": [
    {
     "name": "stdout",
     "output_type": "stream",
     "text": [
      "*\n",
      "+\n",
      "-\n"
     ]
    }
   ],
   "source": [
    "for j in i :\n",
    "    print(j)\n",
    "    first_num = ''\n",
    "    second_num = ''\n",
    "    cnt = 0\n",
    "    copyed_exp = expression\n",
    "    last_exp = ''\n",
    "    for exp in expression:\n",
    "        # 연산자 나오기 전까지\n",
    "        if exp.isdigit() == True and cnt % 2 == 0:\n",
    "            first_num += exp\n",
    "        # 연산자 나온 후 \n",
    "        elif exp.isdigit() == True and cnt % 2 == 1:\n",
    "            second_num += exp\n",
    "        #연산자 나오면 우선자 인지 조회하고 계산 및 치환 후 숫자 값 초기화\n",
    "        elif exp.isdigit() != True :\n",
    "            cnt += 1\n",
    "            # 우선 연산자인지 조회\n",
    "            if last_exp == j:\n",
    "                # cnt 별로 수식 달라짐 \n",
    "                if cnt != 1 and cnt % 2 == 0:\n",
    "                    value = str(eval(first_num + last_exp + second_num ))\n",
    "                    copyed_exp = copyed_exp.replace(second_num + last_exp + first_num, value)\n",
    "                    break\n",
    "                    first_num, second_num = '',''\n",
    "                elif cnt != 1 and cnt % 2 == 1:\n",
    "                    value = str(eval(second_num + last_exp + first_num))\n",
    "                    copyed_exp = copyed_exp.replace(first_num + last_exp + second_num, value)\n",
    "                    break\n",
    "                    first_num, second_num = '',''\n",
    "            #연산 안했을 경우 숫자 값 초기화\n",
    "            elif cnt != 1 and cnt % 2 == 0:\n",
    "                second_num == ''\n",
    "            elif cnt != 1 and cnt % 2 == 1:\n",
    "                first_num == ''\n",
    "            last_exp = exp\n",
    "    expression = copyed_exp\n"
   ]
  },
  {
   "cell_type": "code",
   "execution_count": 58,
   "metadata": {},
   "outputs": [
    {
     "data": {
      "text/plain": [
       "'200-100'"
      ]
     },
     "execution_count": 58,
     "metadata": {},
     "output_type": "execute_result"
    }
   ],
   "source": [
    "second_num + last_exp + first_num"
   ]
  },
  {
   "cell_type": "code",
   "execution_count": 60,
   "metadata": {},
   "outputs": [
    {
     "data": {
      "text/plain": [
       "'100-200*300-500+20'"
      ]
     },
     "execution_count": 60,
     "metadata": {},
     "output_type": "execute_result"
    }
   ],
   "source": [
    "copyed_exp"
   ]
  },
  {
   "cell_type": "code",
   "execution_count": 59,
   "metadata": {},
   "outputs": [
    {
     "data": {
      "text/plain": [
       "'100-200*300-500+20'"
      ]
     },
     "execution_count": 59,
     "metadata": {},
     "output_type": "execute_result"
    }
   ],
   "source": [
    "expression"
   ]
  },
  {
   "cell_type": "code",
   "execution_count": 56,
   "metadata": {},
   "outputs": [
    {
     "name": "stdout",
     "output_type": "stream",
     "text": [
      "-\n",
      "*\n",
      "-\n",
      "+\n"
     ]
    }
   ],
   "source": [
    "for i in expression:\n",
    "    first_num = ''\n",
    "    second_num = ''\n",
    "    if i.isdigit()  True:\n",
    "        print(i)"
   ]
  },
  {
   "cell_type": "code",
   "execution_count": 13,
   "metadata": {},
   "outputs": [
    {
     "data": {
      "text/plain": [
       "-60380"
      ]
     },
     "execution_count": 13,
     "metadata": {},
     "output_type": "execute_result"
    }
   ],
   "source": [
    "eval(expression)"
   ]
  }
 ],
 "metadata": {
  "kernelspec": {
   "display_name": "py38",
   "language": "python",
   "name": "python3"
  },
  "language_info": {
   "codemirror_mode": {
    "name": "ipython",
    "version": 3
   },
   "file_extension": ".py",
   "mimetype": "text/x-python",
   "name": "python",
   "nbconvert_exporter": "python",
   "pygments_lexer": "ipython3",
   "version": "3.8.17"
  }
 },
 "nbformat": 4,
 "nbformat_minor": 2
}
