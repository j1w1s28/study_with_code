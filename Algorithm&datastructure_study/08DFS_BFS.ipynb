{
 "cells": [
  {
   "cell_type": "markdown",
   "metadata": {},
   "source": [
    "# 타겟넘버"
   ]
  },
  {
   "cell_type": "code",
   "execution_count": null,
   "metadata": {},
   "outputs": [],
   "source": [
    "#gpt\n",
    "def dfs(graph, node, visited):\n",
    "    if node not in visited:\n",
    "        visited.add(node)\n",
    "        print(\"Visited node:\", node)\n",
    "\n",
    "        for neighbor in graph[node]:\n",
    "            dfs(graph, neighbor, visited)\n",
    "\n",
    "# Example graph represented as an adjacency list\n",
    "graph = {\n",
    "    'A': ['B', 'C'],\n",
    "    'B': ['A', 'D'],\n",
    "    'C': ['A', 'E'],\n",
    "    'D': ['B'],\n",
    "    'E': ['C', 'F'],\n",
    "    'F': ['E']\n",
    "}\n",
    "\n",
    "start_node = 'A'\n",
    "visited_nodes = set()\n",
    "dfs(graph, start_node, visited_nodes)"
   ]
  },
  {
   "cell_type": "code",
   "execution_count": 1,
   "metadata": {},
   "outputs": [],
   "source": [
    "numbers, target = [1, 1, 1, 1, 1], 3"
   ]
  },
  {
   "cell_type": "code",
   "execution_count": 3,
   "metadata": {},
   "outputs": [
    {
     "data": {
      "text/plain": [
       "5"
      ]
     },
     "execution_count": 3,
     "metadata": {},
     "output_type": "execute_result"
    }
   ],
   "source": [
    "def dfs(current,num_sum,numbers,target):\n",
    "    answer = 0\n",
    "    if current == len(numbers):\n",
    "        if num_sum == target:\n",
    "            count = 1\n",
    "        else:\n",
    "            count = 0\n",
    "        return count\n",
    "    \n",
    "    answer += dfs(current+1,num_sum + numbers[current],numbers,target)\n",
    "    answer += dfs(current+1,num_sum + numbers[current] * -1,numbers,target)\n",
    "\n",
    "    return answer    \n",
    "\n",
    "dfs(0,0,numbers,target)"
   ]
  },
  {
   "cell_type": "code",
   "execution_count": 5,
   "metadata": {},
   "outputs": [
    {
     "data": {
      "text/plain": [
       "2"
      ]
     },
     "execution_count": 5,
     "metadata": {},
     "output_type": "execute_result"
    }
   ],
   "source": [
    "numbers, target = [4, 1, 2, 1],4\n",
    "dfs(0,0,numbers,target)"
   ]
  },
  {
   "cell_type": "markdown",
   "metadata": {},
   "source": [
    "# 깊이 우선 탐색1 \n",
    "https://www.acmicpc.net/problem/24444"
   ]
  },
  {
   "cell_type": "code",
   "execution_count": null,
   "metadata": {},
   "outputs": [],
   "source": [
    "5 5 1\n",
    "1 4\n",
    "1 2\n",
    "2 3\n",
    "2 4\n",
    "3 4"
   ]
  },
  {
   "cell_type": "code",
   "execution_count": 1,
   "metadata": {},
   "outputs": [
    {
     "name": "stdout",
     "output_type": "stream",
     "text": [
      "1\n",
      "6\n",
      "5\n",
      "2\n",
      "4\n",
      "3\n",
      "7\n"
     ]
    }
   ],
   "source": [
    "num_nodes, num_edges, start =map(int, input().split())\n",
    "graph, visited  , visited_bool = {} , {} , {}\n",
    "for node in range(1,num_nodes+1):\n",
    "    graph[node] = []\n",
    "    visited[node] = 0\n",
    "    \n",
    "\n",
    "for i in range(num_edges):    \n",
    "    node, edge = map(int,input().split())\n",
    "    graph.get(node).append(edge)\n",
    "    graph.get(edge).append(node)\n",
    "\n",
    "def find_path(node):\n",
    "    graph[node].sort(reverse=True)\n",
    "    return graph[node]\n",
    "\n",
    "def dfs(curr,length,stack):   \n",
    "    length += 1\n",
    "    visited[curr] += length\n",
    "    paths = find_path(curr)\n",
    "    stack += paths\n",
    "    while stack:\n",
    "        next_path = stack.pop()\n",
    "        if visited[next_path] == 0:\n",
    "            dfs(next_path,length,stack)        \n",
    "    \n",
    "dfs(start,0,[]) \n",
    "for i,v in visited.items():\n",
    "    print(v)"
   ]
  },
  {
   "cell_type": "code",
   "execution_count": 2,
   "metadata": {},
   "outputs": [
    {
     "data": {
      "text/plain": [
       "{1: 1, 2: 6, 3: 5, 4: 2, 5: 4, 6: 3, 7: 7}"
      ]
     },
     "execution_count": 2,
     "metadata": {},
     "output_type": "execute_result"
    }
   ],
   "source": [
    "visited"
   ]
  },
  {
   "cell_type": "code",
   "execution_count": 57,
   "metadata": {},
   "outputs": [],
   "source": [
    "def find_path(node):\n",
    "    graph[node].sort()\n",
    "    return graph[node]\n",
    "\n",
    "def dfs(curr,length):\n",
    "    length += 1\n",
    "    visited[curr] += length\n",
    "    paths = find_path(curr)\n",
    "    for path in paths:\n",
    "        if visited[path] == 0:\n",
    "            dfs(path,length)    "
   ]
  },
  {
   "cell_type": "code",
   "execution_count": 53,
   "metadata": {},
   "outputs": [
    {
     "data": {
      "text/plain": [
       "{1: [2, 4], 2: [1, 3, 4], 3: [2, 4], 4: [1, 2, 3], 5: []}"
      ]
     },
     "execution_count": 53,
     "metadata": {},
     "output_type": "execute_result"
    }
   ],
   "source": [
    "graph"
   ]
  },
  {
   "cell_type": "code",
   "execution_count": 52,
   "metadata": {},
   "outputs": [
    {
     "data": {
      "text/plain": [
       "[1, 2, 3]"
      ]
     },
     "execution_count": 52,
     "metadata": {},
     "output_type": "execute_result"
    }
   ],
   "source": [
    "find_path(4)"
   ]
  },
  {
   "cell_type": "code",
   "execution_count": 40,
   "metadata": {},
   "outputs": [
    {
     "data": {
      "text/plain": [
       "[2, 4]"
      ]
     },
     "execution_count": 40,
     "metadata": {},
     "output_type": "execute_result"
    }
   ],
   "source": [
    "find_path(1)"
   ]
  },
  {
   "cell_type": "code",
   "execution_count": 43,
   "metadata": {},
   "outputs": [
    {
     "data": {
      "text/plain": [
       "True"
      ]
     },
     "execution_count": 43,
     "metadata": {},
     "output_type": "execute_result"
    }
   ],
   "source": [
    ")"
   ]
  },
  {
   "cell_type": "code",
   "execution_count": 38,
   "metadata": {},
   "outputs": [
    {
     "data": {
      "text/plain": [
       "[2, 4]"
      ]
     },
     "execution_count": 38,
     "metadata": {},
     "output_type": "execute_result"
    }
   ],
   "source": [
    "graph[1]"
   ]
  },
  {
   "cell_type": "code",
   "execution_count": null,
   "metadata": {},
   "outputs": [],
   "source": [
    "def dfs(st)"
   ]
  }
 ],
 "metadata": {
  "kernelspec": {
   "display_name": "py38",
   "language": "python",
   "name": "python3"
  },
  "language_info": {
   "codemirror_mode": {
    "name": "ipython",
    "version": 3
   },
   "file_extension": ".py",
   "mimetype": "text/x-python",
   "name": "python",
   "nbconvert_exporter": "python",
   "pygments_lexer": "ipython3",
   "version": "3.8.16"
  },
  "orig_nbformat": 4
 },
 "nbformat": 4,
 "nbformat_minor": 2
}
