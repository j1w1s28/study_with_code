{
 "cells": [
  {
   "cell_type": "code",
   "execution_count": 25,
   "metadata": {},
   "outputs": [],
   "source": [
    "class TreeNode:\n",
    "    def __init__(self, value):\n",
    "        self.value = value\n",
    "        self.left = None\n",
    "        self.right = None\n",
    "\n",
    "\n",
    "def find_node(root, target_value):\n",
    "    if root is None:\n",
    "        return None\n",
    "    \n",
    "    if root.value == target_value:\n",
    "        return root\n",
    "    \n",
    "    left_result = find_node(root.left, target_value)\n",
    "    if left_result:\n",
    "        return left_result\n",
    "    \n",
    "    right_result = find_node(root.right, target_value)\n",
    "    return right_result\n"
   ]
  },
  {
   "cell_type": "code",
   "execution_count": 26,
   "metadata": {},
   "outputs": [
    {
     "name": "stdout",
     "output_type": "stream",
     "text": [
      "4\n",
      "6\n",
      "1\n",
      "3\n",
      "1\n",
      "4\n"
     ]
    }
   ],
   "source": [
    "num_node = int(input())\n",
    "root = TreeNode(1)\n",
    "node_parent = [0 for _ in range(num_node + 1)]\n",
    "need_visited = []\n",
    "for i in range(num_node-1):\n",
    "    n1, n2 = map(int, input().split())\n",
    "    n1_node , n2_node = find_node(root, n1), find_node(root, n2)\n",
    "    if n1_node == None and n2_node == None :\n",
    "        need_visited.append((n1,n2)) \n",
    "        continue\n",
    "    target = n1_node if n1_node != None else n2_node \n",
    "    add_node = n1 if n1_node == None else n2\n",
    "    if target.left == None:\n",
    "        target.left = TreeNode(add_node)  \n",
    "    else:\n",
    "        target.right = TreeNode(add_node)\n",
    "\n",
    "    node_parent[add_node] = target.value\n",
    "\n",
    "for n1, n2 in need_visited:\n",
    "    n1_node , n2_node = find_node(root, n1), find_node(root, n2)\n",
    "    target = n1_node if n1_node != None else n2_node \n",
    "    add_node = n1 if n1_node == None else n2\n",
    "    if target.left == None:\n",
    "        target.left = TreeNode(add_node)  \n",
    "    else:\n",
    "        target.right = TreeNode(add_node)\n",
    "\n",
    "    node_parent[add_node] = target.value\n",
    "\n",
    "for i in range(2, num_node + 1):\n",
    "    print(node_parent[i])\n"
   ]
  },
  {
   "cell_type": "code",
   "execution_count": null,
   "metadata": {},
   "outputs": [],
   "source": [
    "import sys\n",
    "\n",
    "# 자기 호출 개수 제한\n",
    "sys.setrecursionlimit(10**6)\n",
    "\n",
    "# 테스트용 파일(\"input.txt\") 읽기\n",
    "sys.stdin = open(\"./Algorithm&datastructure_study/input.txt\", \"r\")\n",
    "\n",
    "#주어진 파일을 한 줄씩 입력\n",
    "input = sys.stdin.readline\n",
    "#input = sys.stdin.readline\n",
    "def find_parent_node(root,parent):\n",
    "     for neighbor in graph[root]:\n",
    "        # 연결된 노드의 부모가 없다면\n",
    "        if (parent[neighbor] == 0):\n",
    "            # 현재 노드를 연결된 노드의 부모 노드로 설정\n",
    "            parent[neighbor] = root\n",
    "            # 연결된 노드들 기준으로 DFS 진행\n",
    "            find_parent_node(neighbor,parent)\n",
    "\n",
    "\n",
    "num_node = int(input())\n",
    "# 양방향 연결 정보 저장\n",
    "graph = [[] for _ in range(num_node + 1)]\n",
    "parent = [0] * (num_node + 1)\n",
    "for _ in range(num_node - 1):\n",
    "    # 양방향 연결 정보 입력 및 저장\n",
    "    start, end = map(int, input().split())\n",
    "    graph[start].append(end)\n",
    "    graph[end].append(start)\n",
    "\n",
    "find_parent_node(1,parent)\n",
    "\n",
    "for i in range(2, num_node + 1):\n",
    "    print(parent[i])\n",
    "\n"
   ]
  },
  {
   "cell_type": "markdown",
   "metadata": {},
   "source": [
    "# 트리의 지름"
   ]
  },
  {
   "cell_type": "code",
   "execution_count": null,
   "metadata": {},
   "outputs": [],
   "source": []
  },
  {
   "cell_type": "code",
   "execution_count": 1,
   "metadata": {},
   "outputs": [],
   "source": [
    "import sys\n",
    "sys.stdin = open(\"./input.txt\", \"r\")\n",
    "input = sys.stdin.readline\n",
    "num_node = int(input())\n",
    "trees = [[] for _ in range(num_node+1)]\n",
    "dists = [-1] * (num_node + 1)\n",
    "for _ in range(num_node):\n",
    "    lst = list(map(int, input().split()))\n",
    "    main_node = lst[0]\n",
    "    idx = 1\n",
    "    while lst[idx] != -1:\n",
    "        next_node , next_dist = lst[idx], lst[idx + 1]\n",
    "        trees[main_node].append((next_node,next_dist))\n",
    "        idx += 2\n",
    "\n"
   ]
  },
  {
   "cell_type": "code",
   "execution_count": 2,
   "metadata": {},
   "outputs": [
    {
     "data": {
      "text/plain": [
       "[[], [(3, 2)], [(4, 4)], [(1, 2), (4, 3)], [(2, 4), (3, 3), (5, 6)], [(4, 6)]]"
      ]
     },
     "execution_count": 2,
     "metadata": {},
     "output_type": "execute_result"
    }
   ],
   "source": [
    "trees"
   ]
  },
  {
   "cell_type": "code",
   "execution_count": 3,
   "metadata": {},
   "outputs": [
    {
     "data": {
      "text/plain": [
       "[-1, -1, -1, -1, -1, -1]"
      ]
     },
     "execution_count": 3,
     "metadata": {},
     "output_type": "execute_result"
    }
   ],
   "source": [
    "dists"
   ]
  },
  {
   "cell_type": "code",
   "execution_count": 4,
   "metadata": {},
   "outputs": [],
   "source": [
    "dists[1] = 0\n",
    "def find_dists(node, dist):\n",
    "    for n, d in trees[node]:\n",
    "        dist_sum =  dist + d\n",
    "        if dists[n] == -1:\n",
    "            dists[n] = dist_sum\n",
    "            find_dists(n, dist_sum)\n",
    "    return\n",
    "\n",
    "find_dists(1,0)"
   ]
  },
  {
   "cell_type": "code",
   "execution_count": 5,
   "metadata": {},
   "outputs": [
    {
     "data": {
      "text/plain": [
       "[-1, 0, 9, 2, 5, 11]"
      ]
     },
     "execution_count": 5,
     "metadata": {},
     "output_type": "execute_result"
    }
   ],
   "source": [
    "dists"
   ]
  },
  {
   "cell_type": "code",
   "execution_count": 6,
   "metadata": {},
   "outputs": [],
   "source": [
    "tmp = [0, 0]\n",
    "for i in range(1, len(dists)):\n",
    "    if dists[i] > tmp[1]:\n",
    "        tmp[1] = dists[i]\n",
    "        tmp[0] = i"
   ]
  },
  {
   "cell_type": "code",
   "execution_count": 7,
   "metadata": {},
   "outputs": [
    {
     "data": {
      "text/plain": [
       "[5, 11]"
      ]
     },
     "execution_count": 7,
     "metadata": {},
     "output_type": "execute_result"
    }
   ],
   "source": [
    "tmp"
   ]
  },
  {
   "cell_type": "code",
   "execution_count": 8,
   "metadata": {},
   "outputs": [],
   "source": [
    "dists = [-1]*(num_node+1)\n",
    "dists[tmp[0]] = 0\n",
    "find_dists(tmp[0], 0)"
   ]
  },
  {
   "cell_type": "code",
   "execution_count": 9,
   "metadata": {},
   "outputs": [
    {
     "name": "stdout",
     "output_type": "stream",
     "text": [
      "11\n"
     ]
    }
   ],
   "source": [
    "print(max(dists))"
   ]
  },
  {
   "cell_type": "code",
   "execution_count": null,
   "metadata": {},
   "outputs": [],
   "source": [
    "import sys\n",
    "\n",
    "# 자기 호출 개수 제한\n",
    "sys.setrecursionlimit(10**6)\n",
    "input = sys.stdin.readline\n",
    "#input = sys.stdin.readline\n",
    "\n",
    "\n",
    "\n",
    "num_node = int(input())\n",
    "trees = [[] for _ in range(num_node+1)]\n",
    "dists = [-1] * (num_node + 1)\n",
    "for _ in range(num_node):\n",
    "    lst = list(map(int, input().split()))\n",
    "    main_node = lst[0]\n",
    "    idx = 1\n",
    "    while lst[idx] != -1:\n",
    "        next_node , next_dist = lst[idx], lst[idx + 1]\n",
    "        trees[main_node].append((next_node,next_dist))\n",
    "        idx += 2\n",
    "dists[1] = 0\n",
    "def find_dists(node, dist):\n",
    "    for n, d in trees[node]:\n",
    "        dist_sum =  dist + d\n",
    "        if dists[n] == -1:\n",
    "            dists[n] = dist_sum\n",
    "            find_dists(n, dist_sum)\n",
    "    return\n",
    "\n",
    "find_dists(1,0)\n",
    "tmp = [0, 0]\n",
    "for i in range(1, len(dists)):\n",
    "    if dists[i] > tmp[1]:\n",
    "        tmp[1] = dists[i]\n",
    "        tmp[0] = i\n",
    "\n",
    "dists = [-1]*(num_node+1)\n",
    "dists[tmp[0]] = 0\n",
    "find_dists(tmp[0], 0)\n",
    "print(max(dists))"
   ]
  }
 ],
 "metadata": {
  "kernelspec": {
   "display_name": "py38",
   "language": "python",
   "name": "python3"
  },
  "language_info": {
   "codemirror_mode": {
    "name": "ipython",
    "version": 3
   },
   "file_extension": ".py",
   "mimetype": "text/x-python",
   "name": "python",
   "nbconvert_exporter": "python",
   "pygments_lexer": "ipython3",
   "version": "3.8.17"
  },
  "orig_nbformat": 4
 },
 "nbformat": 4,
 "nbformat_minor": 2
}
