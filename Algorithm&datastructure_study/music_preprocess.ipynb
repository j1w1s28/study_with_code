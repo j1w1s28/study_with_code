{
 "cells": [
  {
   "cell_type": "code",
   "execution_count": 1,
   "metadata": {},
   "outputs": [],
   "source": [
    "import pandas as pd\n",
    "from collections import Counter\n",
    "from typing import Dict, Tuple\n",
    "\n",
    "import numpy as np\n",
    "\n",
    "import torch\n",
    "import torch.nn as nn\n",
    "import torch.optim as optim\n",
    "from torch.utils.data import DataLoader, Dataset\n",
    "from tqdm import tqdm"
   ]
  },
  {
   "cell_type": "code",
   "execution_count": 2,
   "metadata": {},
   "outputs": [],
   "source": [
    "df = pd.read_csv('./data/music/mo_triples.csv',index_col=0)"
   ]
  },
  {
   "cell_type": "code",
   "execution_count": 3,
   "metadata": {},
   "outputs": [
    {
     "data": {
      "text/html": [
       "<div>\n",
       "<style scoped>\n",
       "    .dataframe tbody tr th:only-of-type {\n",
       "        vertical-align: middle;\n",
       "    }\n",
       "\n",
       "    .dataframe tbody tr th {\n",
       "        vertical-align: top;\n",
       "    }\n",
       "\n",
       "    .dataframe thead th {\n",
       "        text-align: right;\n",
       "    }\n",
       "</style>\n",
       "<table border=\"1\" class=\"dataframe\">\n",
       "  <thead>\n",
       "    <tr style=\"text-align: right;\">\n",
       "      <th></th>\n",
       "      <th>S</th>\n",
       "      <th>P</th>\n",
       "      <th>O</th>\n",
       "      <th>SPO</th>\n",
       "    </tr>\n",
       "  </thead>\n",
       "  <tbody>\n",
       "    <tr>\n",
       "      <th>0</th>\n",
       "      <td>j.0:Unit</td>\n",
       "      <td>rdf:type</td>\n",
       "      <td>owl:Class</td>\n",
       "      <td>Unit , type , Class</td>\n",
       "    </tr>\n",
       "    <tr>\n",
       "      <th>1</th>\n",
       "      <td>skmo:20080410_Mnet_엠카운트다운</td>\n",
       "      <td>skmo:rankBy</td>\n",
       "      <td>skmo:엠카운트다운</td>\n",
       "      <td>20080410_Mnet_엠카운트다운 , rankBy , 엠카운트다운</td>\n",
       "    </tr>\n",
       "    <tr>\n",
       "      <th>2</th>\n",
       "      <td>skmo:이주형</td>\n",
       "      <td>skmo:hasMusicActivity</td>\n",
       "      <td>skmo:composer</td>\n",
       "      <td>이주형 , hasMusicActivity , composer</td>\n",
       "    </tr>\n",
       "    <tr>\n",
       "      <th>3</th>\n",
       "      <td>skmo:T.O.P</td>\n",
       "      <td>foaf:name</td>\n",
       "      <td>T.O.P</td>\n",
       "      <td>T.O.P , name , T.O.P</td>\n",
       "    </tr>\n",
       "    <tr>\n",
       "      <th>4</th>\n",
       "      <td>skmo:뱅뱅뱅_앨범</td>\n",
       "      <td>skmo:hasTrack</td>\n",
       "      <td>skmo:Loser</td>\n",
       "      <td>뱅뱅뱅_앨범 , hasTrack , Loser</td>\n",
       "    </tr>\n",
       "    <tr>\n",
       "      <th>...</th>\n",
       "      <td>...</td>\n",
       "      <td>...</td>\n",
       "      <td>...</td>\n",
       "      <td>...</td>\n",
       "    </tr>\n",
       "    <tr>\n",
       "      <th>3383</th>\n",
       "      <td>skmo:한국</td>\n",
       "      <td>rdf:type</td>\n",
       "      <td>schema:Country</td>\n",
       "      <td>한국 , type , Country</td>\n",
       "    </tr>\n",
       "    <tr>\n",
       "      <th>3384</th>\n",
       "      <td>skmo:Carlos_Adaamick_Mendoza</td>\n",
       "      <td>rdfs:label</td>\n",
       "      <td>카를로스 아담믹 멘도자</td>\n",
       "      <td>Carlos_Adaamick_Mendoza , label , 카를로스 아담믹 멘도자</td>\n",
       "    </tr>\n",
       "    <tr>\n",
       "      <th>3385</th>\n",
       "      <td>skmo:소녀시대-앨범</td>\n",
       "      <td>skmo:hasTrack</td>\n",
       "      <td>skmo:7989_(강타&amp;태연)</td>\n",
       "      <td>소녀시대-앨범 , hasTrack , 7989_(강타&amp;태연)</td>\n",
       "    </tr>\n",
       "    <tr>\n",
       "      <th>3386</th>\n",
       "      <td>skmo:trackReleaseType</td>\n",
       "      <td>rdfs:range</td>\n",
       "      <td>mo:Track</td>\n",
       "      <td>trackReleaseType , range , Track</td>\n",
       "    </tr>\n",
       "    <tr>\n",
       "      <th>3387</th>\n",
       "      <td>schema:award</td>\n",
       "      <td>rdfs:range</td>\n",
       "      <td>skmo:Award</td>\n",
       "      <td>award , range , Award</td>\n",
       "    </tr>\n",
       "  </tbody>\n",
       "</table>\n",
       "<p>3388 rows × 4 columns</p>\n",
       "</div>"
      ],
      "text/plain": [
       "                                 S                      P                  O  \\\n",
       "0                         j.0:Unit               rdf:type          owl:Class   \n",
       "1        skmo:20080410_Mnet_엠카운트다운            skmo:rankBy        skmo:엠카운트다운   \n",
       "2                         skmo:이주형  skmo:hasMusicActivity      skmo:composer   \n",
       "3                       skmo:T.O.P              foaf:name              T.O.P   \n",
       "4                      skmo:뱅뱅뱅_앨범          skmo:hasTrack         skmo:Loser   \n",
       "...                            ...                    ...                ...   \n",
       "3383                       skmo:한국               rdf:type     schema:Country   \n",
       "3384  skmo:Carlos_Adaamick_Mendoza             rdfs:label       카를로스 아담믹 멘도자   \n",
       "3385                  skmo:소녀시대-앨범          skmo:hasTrack  skmo:7989_(강타&태연)   \n",
       "3386         skmo:trackReleaseType             rdfs:range           mo:Track   \n",
       "3387                  schema:award             rdfs:range         skmo:Award   \n",
       "\n",
       "                                                 SPO  \n",
       "0                                Unit , type , Class  \n",
       "1             20080410_Mnet_엠카운트다운 , rankBy , 엠카운트다운  \n",
       "2                  이주형 , hasMusicActivity , composer  \n",
       "3                               T.O.P , name , T.O.P  \n",
       "4                          뱅뱅뱅_앨범 , hasTrack , Loser  \n",
       "...                                              ...  \n",
       "3383                             한국 , type , Country  \n",
       "3384  Carlos_Adaamick_Mendoza , label , 카를로스 아담믹 멘도자  \n",
       "3385               소녀시대-앨범 , hasTrack , 7989_(강타&태연)  \n",
       "3386                trackReleaseType , range , Track  \n",
       "3387                           award , range , Award  \n",
       "\n",
       "[3388 rows x 4 columns]"
      ]
     },
     "execution_count": 3,
     "metadata": {},
     "output_type": "execute_result"
    }
   ],
   "source": [
    "df"
   ]
  },
  {
   "cell_type": "code",
   "execution_count": 4,
   "metadata": {},
   "outputs": [],
   "source": [
    "heads, relations, tails = df.S.values, df.P.values, df.O.values"
   ]
  },
  {
   "cell_type": "code",
   "execution_count": 5,
   "metadata": {},
   "outputs": [
    {
     "data": {
      "text/plain": [
       "(3388, 3388, 3388)"
      ]
     },
     "execution_count": 5,
     "metadata": {},
     "output_type": "execute_result"
    }
   ],
   "source": [
    "len(heads), len(relations), len(tails)"
   ]
  },
  {
   "cell_type": "code",
   "execution_count": 6,
   "metadata": {},
   "outputs": [],
   "source": [
    "triples = []\n",
    "for i in range(len(heads)):\n",
    "    triples.append([heads[i],relations[i],tails[i]] )"
   ]
  },
  {
   "cell_type": "code",
   "execution_count": 7,
   "metadata": {},
   "outputs": [
    {
     "data": {
      "text/plain": [
       "3388"
      ]
     },
     "execution_count": 7,
     "metadata": {},
     "output_type": "execute_result"
    }
   ],
   "source": [
    "len(triples)"
   ]
  },
  {
   "cell_type": "code",
   "execution_count": 8,
   "metadata": {},
   "outputs": [
    {
     "data": {
      "text/plain": [
       "['skmo:이주형', 'skmo:hasMusicActivity', 'skmo:composer']"
      ]
     },
     "execution_count": 8,
     "metadata": {},
     "output_type": "execute_result"
    }
   ],
   "source": [
    "triples[2]"
   ]
  },
  {
   "cell_type": "code",
   "execution_count": 9,
   "metadata": {},
   "outputs": [],
   "source": [
    "Mapping = Dict[str,int]\n",
    "def create_mapping(triples: list) -> Tuple[Mapping,Mapping]:\n",
    "    entity_counter = Counter()\n",
    "    relation_counter = Counter()\n",
    "    for line in triples:\n",
    "        # -1 to remove newline sign\n",
    "        head, relation, tail = line\n",
    "        entity_counter.update([head, tail])\n",
    "        relation_counter.update([relation])\n",
    "    entity2id = {}\n",
    "    relation2id = {}\n",
    "    for idx, (mid, _) in enumerate(entity_counter.most_common()):\n",
    "        entity2id[mid] = idx\n",
    "    for idx, (relation, _) in enumerate(relation_counter.most_common()):\n",
    "        relation2id[relation] = idx\n",
    "    return entity2id, relation2id"
   ]
  },
  {
   "cell_type": "code",
   "execution_count": 10,
   "metadata": {},
   "outputs": [],
   "source": [
    "entity2id, relation2id = create_mapping(triples)"
   ]
  },
  {
   "cell_type": "code",
   "execution_count": 11,
   "metadata": {},
   "outputs": [
    {
     "data": {
      "text/plain": [
       "24"
      ]
     },
     "execution_count": 11,
     "metadata": {},
     "output_type": "execute_result"
    }
   ],
   "source": [
    "entity2id['skmo:AOA']"
   ]
  },
  {
   "cell_type": "code",
   "execution_count": 12,
   "metadata": {},
   "outputs": [
    {
     "data": {
      "text/plain": [
       "(2371, 1017)"
      ]
     },
     "execution_count": 12,
     "metadata": {},
     "output_type": "execute_result"
    }
   ],
   "source": [
    "from sklearn.model_selection import train_test_split\n",
    "T_train, T_test=train_test_split(triples, test_size=0.3,  shuffle= True)\n",
    "len(T_train),len(T_test)"
   ]
  },
  {
   "cell_type": "code",
   "execution_count": 13,
   "metadata": {},
   "outputs": [],
   "source": [
    "T_test , T_valid = T_test[: int(len(triples)*0.2)] , T_test[int(len(triples) * 0.2):]"
   ]
  },
  {
   "cell_type": "code",
   "execution_count": 14,
   "metadata": {},
   "outputs": [
    {
     "data": {
      "text/plain": [
       "(677, 340)"
      ]
     },
     "execution_count": 14,
     "metadata": {},
     "output_type": "execute_result"
    }
   ],
   "source": [
    "len(T_test),len(T_valid)"
   ]
  },
  {
   "cell_type": "code",
   "execution_count": 15,
   "metadata": {},
   "outputs": [],
   "source": [
    "class GraphDataset(Dataset):\n",
    "    def __init__(self,triple_data, entity2id : Mapping,relation2id : Mapping):\n",
    "        super().__init__()\n",
    "        self.entity2id = entity2id\n",
    "        self.relation2id = relation2id        \n",
    "\n",
    "        #Head, relation, Tail triple\n",
    "        self.data = triple_data\n",
    "\n",
    "    def __len__(self):\n",
    "        return len(self.data)\n",
    "    \n",
    "    def __getitem__(self, index):\n",
    "        '''h,r,t 를 각 라인에서 가져온 후 Mapping에서 조회하여 index값으로 반환'''\n",
    "        head, relation, tail = self.data[index]\n",
    "        head_id = self.to_idx(key = head, mapping= self.entity2id)\n",
    "        relation_id = self.to_idx(relation, self.relation2id)\n",
    "        tail_id = self.to_idx(tail, self.entity2id)\n",
    "        return head_id, relation_id, tail_id\n",
    "\n",
    "    #정적 메소드 인스턴스만들지 않아도 class의 메소도를 바로 실행가능\n",
    "    @staticmethod\n",
    "    def to_idx(key: str, mapping : Mapping)-> int:\n",
    "        try:\n",
    "            return mapping[key]\n",
    "        except KeyError:\n",
    "            return len(mapping) #만약 Mapping이라는 사전에 해당 값이 없으면 OOV 이슈가 생김 이를 방지하고자 그냥 최대값을 반환\n",
    "        \n",
    "\n"
   ]
  },
  {
   "cell_type": "code",
   "execution_count": 16,
   "metadata": {},
   "outputs": [],
   "source": [
    "#entity2id, relation2id = create_mapping(T_train)"
   ]
  },
  {
   "cell_type": "code",
   "execution_count": 17,
   "metadata": {},
   "outputs": [
    {
     "name": "stdout",
     "output_type": "stream",
     "text": [
      "entity 총 길이:1754, relation 총 길이55\n"
     ]
    }
   ],
   "source": [
    "print(f'entity 총 길이:{len(entity2id)}, relation 총 길이{len(relation2id)}')"
   ]
  },
  {
   "cell_type": "code",
   "execution_count": 18,
   "metadata": {},
   "outputs": [],
   "source": [
    "batch_size = 128\n",
    "num_worker = 6\n",
    "train_set = GraphDataset(T_train, entity2id=entity2id, relation2id= relation2id)\n",
    "trainloader = DataLoader(train_set,batch_size=batch_size,num_workers=6,shuffle=True)\n",
    "valid_set = GraphDataset(T_valid, entity2id=entity2id, relation2id= relation2id)\n",
    "validloader = DataLoader(valid_set,batch_size=batch_size,num_workers=num_worker,shuffle=True)\n",
    "test_set = GraphDataset(T_test, entity2id=entity2id, relation2id= relation2id)\n",
    "testloader = DataLoader(test_set,batch_size=batch_size,num_workers=num_worker,shuffle=True)"
   ]
  },
  {
   "cell_type": "code",
   "execution_count": 19,
   "metadata": {},
   "outputs": [
    {
     "data": {
      "text/plain": [
       "2371"
      ]
     },
     "execution_count": 19,
     "metadata": {},
     "output_type": "execute_result"
    }
   ],
   "source": [
    "len(train_set)"
   ]
  },
  {
   "cell_type": "code",
   "execution_count": 20,
   "metadata": {},
   "outputs": [],
   "source": [
    "with open('./data/music/train2id.txt', 'w', encoding = 'UTF-8') as file:\n",
    "    file.write(f'{len(train_set)}\\n')\n",
    "    for data in train_set:\n",
    "        h, r , t = data\n",
    "        file.write(f'{h} {t} {r}\\n') # openKE는 entity1 entity2 relation 형식"
   ]
  },
  {
   "cell_type": "code",
   "execution_count": 21,
   "metadata": {},
   "outputs": [],
   "source": [
    "with open('./data/music/valid2id.txt', 'w', encoding = 'UTF-8') as file: \n",
    "    file.write(f'{len(valid_set)}\\n')\n",
    "    for data in valid_set:\n",
    "        h, r , t = data\n",
    "        file.write(f'{h} {t} {r}\\n')"
   ]
  },
  {
   "cell_type": "code",
   "execution_count": 22,
   "metadata": {},
   "outputs": [],
   "source": [
    "with open('./data/music/test2id.txt', 'w', encoding = 'UTF-8') as file:    \n",
    "    file.write(f'{len(test_set)}\\n')\n",
    "    for data in test_set:\n",
    "        h, r , t = data\n",
    "        file.write(f'{h} {t} {r}\\n')"
   ]
  },
  {
   "cell_type": "code",
   "execution_count": 22,
   "metadata": {},
   "outputs": [],
   "source": [
    "with open('./data/music/entity2id.txt', 'w', encoding = 'UTF-8') as file:    \n",
    "    file.write(f'{len(entity2id)}\\n')\n",
    "    for i, v in entity2id.items():\n",
    "        file.write(f'{i} {v}\\n')\n",
    "with open('./data/music/relation2id.txt', 'w', encoding = 'UTF-8') as file:    \n",
    "    file.write(f'{len(relation2id)}\\n')\n",
    "    for i, v in relation2id.items():\n",
    "        file.write(f'{i} {v}\\n')"
   ]
  },
  {
   "cell_type": "code",
   "execution_count": 23,
   "metadata": {},
   "outputs": [
    {
     "data": {
      "text/plain": [
       "1754"
      ]
     },
     "execution_count": 23,
     "metadata": {},
     "output_type": "execute_result"
    }
   ],
   "source": [
    "len(entity2id)"
   ]
  }
 ],
 "metadata": {
  "kernelspec": {
   "display_name": "sjw_py38",
   "language": "python",
   "name": "python3"
  },
  "language_info": {
   "codemirror_mode": {
    "name": "ipython",
    "version": 3
   },
   "file_extension": ".py",
   "mimetype": "text/x-python",
   "name": "python",
   "nbconvert_exporter": "python",
   "pygments_lexer": "ipython3",
   "version": "3.8.17"
  },
  "orig_nbformat": 4
 },
 "nbformat": 4,
 "nbformat_minor": 2
}
