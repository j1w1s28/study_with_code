{
 "cells": [
  {
   "attachments": {},
   "cell_type": "markdown",
   "metadata": {},
   "source": [
    "# Array & Linked Lists"
   ]
  },
  {
   "cell_type": "code",
   "execution_count": 1,
   "metadata": {},
   "outputs": [
    {
     "name": "stdout",
     "output_type": "stream",
     "text": [
      "5\n",
      "3.3\n",
      "[1.1, 2.2, 3.7, 4.4, 5.5]\n",
      "[1.1, 2.2, 3.7, 4.4, 5.5, 6.6]\n",
      "[1.1, 2.2, 3.7, 3.5, 4.4, 5.5, 6.6]\n",
      "[1.1, 3.7, 3.5, 4.4, 5.5, 6.6]\n"
     ]
    }
   ],
   "source": [
    "list = [1.1,2.2,3.3,4.4,5.5]\n",
    "print(len(list))\n",
    "print(list[2])\n",
    "\n",
    "list[2] = 3.7\n",
    "print(list)\n",
    "\n",
    "list.append(6.6)\n",
    "print(list)\n",
    "\n",
    "list.insert(3,3.5)\n",
    "print(list)\n",
    "\n",
    "del list[1]\n",
    "print(list)"
   ]
  },
  {
   "attachments": {},
   "cell_type": "markdown",
   "metadata": {},
   "source": [
    "# Linked Lists"
   ]
  },
  {
   "cell_type": "code",
   "execution_count": 2,
   "metadata": {},
   "outputs": [
    {
     "name": "stdout",
     "output_type": "stream",
     "text": [
      "5\n",
      "6\n"
     ]
    }
   ],
   "source": [
    "class Node():\n",
    "    def __init__(self,x):\n",
    "        self.item = x\n",
    "        self.next = None #다음 node 위치를 가르킴\n",
    "\n",
    "a = Node(5)\n",
    "b= Node(6)\n",
    "a.next = b\n",
    "\n",
    "print(a.item)\n",
    "print(a.next.item)"
   ]
  },
  {
   "cell_type": "code",
   "execution_count": null,
   "metadata": {},
   "outputs": [],
   "source": [
    "p = Node(5)\n",
    "p = Node(6)\n",
    "q = p\n",
    "\n",
    "q = Node(9)\n",
    "p = None\n",
    "q = p"
   ]
  },
  {
   "cell_type": "code",
   "execution_count": 58,
   "metadata": {},
   "outputs": [],
   "source": [
    "class LinkedList():\n",
    "    def __init__(self):\n",
    "        self.first = None\n",
    "        self.size = 0\n",
    "\n",
    "    def insert(self,x,i):\n",
    "        #insert X at [i]\n",
    "        if i == 0:\n",
    "            new_node = Node(x)\n",
    "            #아래 코드 순서의 바꾸면 안됨!!\n",
    "            new_node.next = self.first #new_node의 next를 원래있던 것의 frist로 잡아야함\n",
    "            self.first = new_node # 그리고 전체의 first가 new_node가됨\n",
    "\n",
    "            self.size += 1\n",
    "        elif i <= self.size:\n",
    "            new_node = Node(x)\n",
    "            pos = 0\n",
    "            curr = self.first\n",
    "            while pos < i-1:\n",
    "                curr = curr.next\n",
    "                pos += 1 #pos가 i-1 일 때 중단\n",
    "            \n",
    "            new_node.next = curr.next #curr.next 기존의 i번째 주소를 가르킴 \n",
    "            curr.next = new_node #curr.next가 가르키는 주소를  새로만든 node로 해야함\n",
    "\n",
    "            self.size += 1\n",
    "    \n",
    "    def get(self,i):\n",
    "        #get item at [i]\n",
    "        if i == 0 :\n",
    "            result = self.first.item\n",
    "        elif i <= self.size:\n",
    "            pos = 0\n",
    "            curr = self.first\n",
    "            while pos < i:\n",
    "                curr = curr.next\n",
    "                pos += 1\n",
    "            result = curr.item\n",
    "        #print(result)\n",
    "        else:\n",
    "            print(f'index 크기를 {self.size} 이하로 해주세요')\n",
    "        if 'result' in vars():\n",
    "            return result\n",
    "\n",
    "    def delete(self,i):\n",
    "        #delete item at [i]\n",
    "        if i ==0:\n",
    "            self.first = self.first.next\n",
    "\n",
    "        else:\n",
    "            pos = 0\n",
    "            curr = self.first\n",
    "            while pos < i-1:\n",
    "                curr = curr.next\n",
    "                pos += 1\n",
    "\n",
    "            curr.next = curr.next.next\n",
    "        return\n",
    "\n",
    "        "
   ]
  },
  {
   "cell_type": "code",
   "execution_count": 59,
   "metadata": {},
   "outputs": [],
   "source": [
    "link_list = LinkedList()\n",
    "link_list.insert(1,0)\n"
   ]
  },
  {
   "cell_type": "code",
   "execution_count": 60,
   "metadata": {},
   "outputs": [
    {
     "data": {
      "text/plain": [
       "1"
      ]
     },
     "execution_count": 60,
     "metadata": {},
     "output_type": "execute_result"
    }
   ],
   "source": [
    "link_list.first.item"
   ]
  },
  {
   "cell_type": "code",
   "execution_count": 61,
   "metadata": {},
   "outputs": [],
   "source": [
    "link_list.insert(2,0)"
   ]
  },
  {
   "cell_type": "code",
   "execution_count": 62,
   "metadata": {},
   "outputs": [
    {
     "name": "stdout",
     "output_type": "stream",
     "text": [
      "2 1\n"
     ]
    }
   ],
   "source": [
    "print(link_list.first.item,link_list.first.next.item)"
   ]
  },
  {
   "cell_type": "code",
   "execution_count": 63,
   "metadata": {},
   "outputs": [
    {
     "data": {
      "text/plain": [
       "2"
      ]
     },
     "execution_count": 63,
     "metadata": {},
     "output_type": "execute_result"
    }
   ],
   "source": [
    "link_list.get(0)"
   ]
  },
  {
   "cell_type": "code",
   "execution_count": 64,
   "metadata": {},
   "outputs": [
    {
     "data": {
      "text/plain": [
       "1"
      ]
     },
     "execution_count": 64,
     "metadata": {},
     "output_type": "execute_result"
    }
   ],
   "source": [
    "link_list.get(1)"
   ]
  },
  {
   "cell_type": "code",
   "execution_count": 65,
   "metadata": {},
   "outputs": [
    {
     "name": "stdout",
     "output_type": "stream",
     "text": [
      "index 크기를 2 이하로 해주세요\n"
     ]
    }
   ],
   "source": [
    "link_list.get(3)"
   ]
  }
 ],
 "metadata": {
  "kernelspec": {
   "display_name": "py38",
   "language": "python",
   "name": "python3"
  },
  "language_info": {
   "codemirror_mode": {
    "name": "ipython",
    "version": 3
   },
   "file_extension": ".py",
   "mimetype": "text/x-python",
   "name": "python",
   "nbconvert_exporter": "python",
   "pygments_lexer": "ipython3",
   "version": "3.8.15"
  },
  "orig_nbformat": 4
 },
 "nbformat": 4,
 "nbformat_minor": 2
}
