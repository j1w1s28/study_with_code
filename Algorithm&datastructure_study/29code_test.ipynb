{
 "cells": [
  {
   "cell_type": "markdown",
   "metadata": {},
   "source": [
    "https://tech.kakao.com/2020/04/01/2019-internship-test/"
   ]
  },
  {
   "cell_type": "code",
   "execution_count": 6,
   "metadata": {},
   "outputs": [],
   "source": [
    "stones = [2, 4, 5, 3, 2, 1, 4, 2, 5, 1]\n",
    "k = 3"
   ]
  },
  {
   "cell_type": "code",
   "execution_count": 7,
   "metadata": {},
   "outputs": [
    {
     "data": {
      "text/plain": [
       "0"
      ]
     },
     "execution_count": 7,
     "metadata": {},
     "output_type": "execute_result"
    }
   ],
   "source": [
    "stones.index(min(stones) + 1)"
   ]
  },
  {
   "cell_type": "code",
   "execution_count": 8,
   "metadata": {},
   "outputs": [],
   "source": [
    "left, right = 1, max(stones) + 1"
   ]
  },
  {
   "cell_type": "code",
   "execution_count": 9,
   "metadata": {},
   "outputs": [],
   "source": [
    "def can_cross(stones, k, friend_num):\n",
    "    # 연속된 k개의 디딤돌이 모두 0인지 확인하는 함수\n",
    "    zero_count = 0\n",
    "    for stone in stones:\n",
    "        if stone < friend_num:\n",
    "            zero_count += 1\n",
    "            if zero_count == k:\n",
    "                return False\n",
    "        else:\n",
    "            #연속 실패로 0으로 초기화\n",
    "            zero_count = 0\n",
    "    return True"
   ]
  },
  {
   "cell_type": "code",
   "execution_count": 10,
   "metadata": {},
   "outputs": [
    {
     "data": {
      "text/plain": [
       "3"
      ]
     },
     "execution_count": 10,
     "metadata": {},
     "output_type": "execute_result"
    }
   ],
   "source": [
    "while left < right:\n",
    "    friend_num = (left + right) // 2\n",
    "    if can_cross(stones, k, friend_num):\n",
    "        left = friend_num + 1\n",
    "    else:\n",
    "        right = friend_num\n",
    "\n",
    "left - 1"
   ]
  },
  {
   "cell_type": "code",
   "execution_count": null,
   "metadata": {},
   "outputs": [],
   "source": [
    "#이분탐색\n",
    "def can_cross(stones, k, mid):\n",
    "    # 연속된 k개의 디딤돌이 모두 0인지 확인하는 함수\n",
    "    zero_count = 0\n",
    "    for stone in stones:\n",
    "        if stone < mid:\n",
    "            zero_count += 1\n",
    "            if zero_count == k:\n",
    "                return False\n",
    "        else:\n",
    "            zero_count = 0\n",
    "    return True\n",
    "\n",
    "def solution(stones, k):\n",
    "    left, right = 1, max(stones) + 1\n",
    "    while left < right:\n",
    "        mid = (left + right) // 2\n",
    "        if can_cross(stones, k, mid):\n",
    "            left = mid + 1\n",
    "        else:\n",
    "            right = mid\n",
    "\n",
    "    return left - 1\n",
    "    "
   ]
  }
 ],
 "metadata": {
  "kernelspec": {
   "display_name": "py38",
   "language": "python",
   "name": "python3"
  },
  "language_info": {
   "codemirror_mode": {
    "name": "ipython",
    "version": 3
   },
   "file_extension": ".py",
   "mimetype": "text/x-python",
   "name": "python",
   "nbconvert_exporter": "python",
   "pygments_lexer": "ipython3",
   "version": "3.8.17"
  }
 },
 "nbformat": 4,
 "nbformat_minor": 2
}
