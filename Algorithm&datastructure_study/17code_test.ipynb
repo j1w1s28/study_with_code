{
 "cells": [
  {
   "cell_type": "markdown",
   "metadata": {},
   "source": [
    "# 카드 뭉치"
   ]
  },
  {
   "cell_type": "code",
   "execution_count": 73,
   "metadata": {},
   "outputs": [],
   "source": [
    "cards1 = [\"i\", \"drink\", \"water\"]\n",
    "cards2 =  \t[\"want\", \"to\"]\n",
    "goal =  [\"i\", \"want\", \"to\", \"drink\", \"water\"]"
   ]
  },
  {
   "cell_type": "code",
   "execution_count": 56,
   "metadata": {},
   "outputs": [],
   "source": [
    "cards1, cards2, goal  =[\"a\", \"b\", \"c\"], [\"d\", \"e\", \"f\"], [\"a\", \"d\", \"f\"]"
   ]
  },
  {
   "cell_type": "code",
   "execution_count": 74,
   "metadata": {},
   "outputs": [],
   "source": [
    "from collections import deque"
   ]
  },
  {
   "cell_type": "code",
   "execution_count": 75,
   "metadata": {},
   "outputs": [],
   "source": [
    "cards1 = deque(cards1)\n",
    "cards2 = deque(cards2)\n",
    "goal = deque(goal)"
   ]
  },
  {
   "cell_type": "code",
   "execution_count": 76,
   "metadata": {},
   "outputs": [
    {
     "data": {
      "text/plain": [
       "deque(['i', 'drink', 'water'])"
      ]
     },
     "execution_count": 76,
     "metadata": {},
     "output_type": "execute_result"
    }
   ],
   "source": [
    "cards1"
   ]
  },
  {
   "cell_type": "code",
   "execution_count": 77,
   "metadata": {},
   "outputs": [],
   "source": [
    "one, two = cards1.popleft() , cards2.popleft()"
   ]
  },
  {
   "cell_type": "code",
   "execution_count": 78,
   "metadata": {},
   "outputs": [],
   "source": [
    "target = goal.popleft()"
   ]
  },
  {
   "cell_type": "code",
   "execution_count": 79,
   "metadata": {},
   "outputs": [],
   "source": [
    "end_bool = False\n",
    "while target:\n",
    "    if one == target:\n",
    "        one = cards1.popleft() if cards1 else None\n",
    "        target = goal.popleft() if goal else None\n",
    "    elif two == target:\n",
    "        two = cards2.popleft() if cards2 else None\n",
    "        target = goal.popleft() if goal else None\n",
    "    else:\n",
    "        end_bool = True\n",
    "    \n",
    "    if end_bool:\n",
    "        break"
   ]
  },
  {
   "cell_type": "code",
   "execution_count": 80,
   "metadata": {},
   "outputs": [],
   "source": [
    "answer = 'NO' if end_bool else 'YES'"
   ]
  },
  {
   "cell_type": "code",
   "execution_count": null,
   "metadata": {},
   "outputs": [],
   "source": [
    "def solution(cards1, cards2, goal):\n",
    "    from collections import deque\n",
    "    cards1, cards2, goal = deque(cards1), deque(cards2), deque(goal)\n",
    "    one, two, target = cards1.popleft() , cards2.popleft() , goal.popleft()\n",
    "    end_bool = False\n",
    "    while target:\n",
    "        if one == target:\n",
    "            one = cards1.popleft() if cards1 else None\n",
    "            target = goal.popleft() if goal else None\n",
    "        elif two == target:\n",
    "            two = cards2.popleft() if cards2 else None\n",
    "            target = goal.popleft() if goal else None\n",
    "        else:\n",
    "            end_bool = True\n",
    "        if end_bool:\n",
    "            break\n",
    "    answer = 'No' if end_bool else 'Yes'\n",
    "    return answer"
   ]
  },
  {
   "cell_type": "markdown",
   "metadata": {},
   "source": [
    "# 둘만의 암호"
   ]
  },
  {
   "cell_type": "code",
   "execution_count": 34,
   "metadata": {},
   "outputs": [],
   "source": [
    "s = \"aukks\"\n",
    "skip = \"wbqd\"\n",
    "index = 5"
   ]
  },
  {
   "cell_type": "code",
   "execution_count": 40,
   "metadata": {},
   "outputs": [],
   "source": [
    "s = \"a\"\n",
    "skip = \"bcdefghijk\"\n",
    "index = 20"
   ]
  },
  {
   "cell_type": "code",
   "execution_count": 41,
   "metadata": {},
   "outputs": [],
   "source": [
    "alphabet = 'abcdefghijklmnopqrstuvwxyz'"
   ]
  },
  {
   "cell_type": "code",
   "execution_count": 42,
   "metadata": {},
   "outputs": [],
   "source": [
    "for i in skip:\n",
    "    alphabet = alphabet.replace(i,'')"
   ]
  },
  {
   "cell_type": "code",
   "execution_count": 43,
   "metadata": {},
   "outputs": [
    {
     "data": {
      "text/plain": [
       "'almnopqrstuvwxyz'"
      ]
     },
     "execution_count": 43,
     "metadata": {},
     "output_type": "execute_result"
    }
   ],
   "source": [
    "alphabet"
   ]
  },
  {
   "cell_type": "code",
   "execution_count": 46,
   "metadata": {},
   "outputs": [],
   "source": [
    "answer = ''\n",
    "for i in s:\n",
    "    idx = alphabet.index(i) + index if alphabet.index(i) + index < len(alphabet) else (alphabet.index(i) + index) % len(alphabet) #뺐는데도 또 벗어나는 경우 존재\n",
    "    answer += alphabet[idx]\n"
   ]
  },
  {
   "cell_type": "code",
   "execution_count": 47,
   "metadata": {},
   "outputs": [
    {
     "data": {
      "text/plain": [
       "'o'"
      ]
     },
     "execution_count": 47,
     "metadata": {},
     "output_type": "execute_result"
    }
   ],
   "source": [
    "answer"
   ]
  },
  {
   "cell_type": "code",
   "execution_count": 30,
   "metadata": {},
   "outputs": [],
   "source": [
    "idx = alphabet.index('u') + index if alphabet.index('u') + index < len(alphabet) else alphabet.index('u') + index - len(alphabet)"
   ]
  },
  {
   "cell_type": "code",
   "execution_count": 31,
   "metadata": {},
   "outputs": [
    {
     "data": {
      "text/plain": [
       "0"
      ]
     },
     "execution_count": 31,
     "metadata": {},
     "output_type": "execute_result"
    }
   ],
   "source": [
    "idx"
   ]
  },
  {
   "cell_type": "code",
   "execution_count": null,
   "metadata": {},
   "outputs": [],
   "source": [
    "def solution(s, skip, index):\n",
    "    alphabet = 'abcdefghijklmnopqrstuvwxyz'\n",
    "    for i in skip:\n",
    "        alphabet = alphabet.replace(i,'')\n",
    "    \n",
    "    answer = ''\n",
    "    for i in s:\n",
    "        idx = alphabet.index(i) + index if alphabet.index(i) + index < len(alphabet) else (alphabet.index(i) + index) % len(alphabet)\n",
    "        answer += alphabet[idx]\n",
    "    return answer"
   ]
  },
  {
   "cell_type": "markdown",
   "metadata": {},
   "source": [
    "# 개인정보 수집 유효기간"
   ]
  },
  {
   "cell_type": "code",
   "execution_count": 114,
   "metadata": {},
   "outputs": [],
   "source": [
    "today = \"2022.05.19\"\n",
    "terms = [\"A 6\", \"B 12\", \"C 3\"]\n",
    "privacies = [\"2021.05.02 A\", \"2021.07.01 B\", \"2022.02.19 C\", \"2022.02.20 C\"]"
   ]
  },
  {
   "cell_type": "code",
   "execution_count": 115,
   "metadata": {},
   "outputs": [],
   "source": [
    "today_year, today_month, today_day = today.split('.')\n",
    "today_year, today_month, today_day = int(today_year),int(today_month),int(today_day)"
   ]
  },
  {
   "cell_type": "code",
   "execution_count": 116,
   "metadata": {},
   "outputs": [],
   "source": [
    "term_dic = {}\n",
    "for term in terms:\n",
    "    tmp =term.split()\n",
    "    term_dic[tmp[0]] = int(tmp[1])"
   ]
  },
  {
   "cell_type": "code",
   "execution_count": 117,
   "metadata": {},
   "outputs": [
    {
     "data": {
      "text/plain": [
       "{'A': 6, 'B': 12, 'C': 3}"
      ]
     },
     "execution_count": 117,
     "metadata": {},
     "output_type": "execute_result"
    }
   ],
   "source": [
    "term_dic"
   ]
  },
  {
   "cell_type": "code",
   "execution_count": 107,
   "metadata": {},
   "outputs": [],
   "source": [
    "import re\n",
    "year, month, day, term =re.split(\"[.| ]\",privacies[0])"
   ]
  },
  {
   "cell_type": "code",
   "execution_count": 108,
   "metadata": {},
   "outputs": [],
   "source": [
    "year, month, day = int(year), int(month), int(day)"
   ]
  },
  {
   "cell_type": "code",
   "execution_count": 84,
   "metadata": {},
   "outputs": [
    {
     "data": {
      "text/plain": [
       "(2021, 5, '2')"
      ]
     },
     "execution_count": 84,
     "metadata": {},
     "output_type": "execute_result"
    }
   ],
   "source": [
    "year, month, day "
   ]
  },
  {
   "cell_type": "code",
   "execution_count": 74,
   "metadata": {},
   "outputs": [
    {
     "data": {
      "text/plain": [
       "'A'"
      ]
     },
     "execution_count": 74,
     "metadata": {},
     "output_type": "execute_result"
    }
   ],
   "source": [
    "term"
   ]
  },
  {
   "cell_type": "code",
   "execution_count": 109,
   "metadata": {},
   "outputs": [],
   "source": [
    "month += term_dic[term]\n",
    "day -= 1"
   ]
  },
  {
   "cell_type": "code",
   "execution_count": 110,
   "metadata": {},
   "outputs": [],
   "source": [
    "if day == 0:\n",
    "    month -= 1\n",
    "if month > 12 :\n",
    "    year_add = month // 12\n",
    "    month = month % 12\n"
   ]
  },
  {
   "cell_type": "code",
   "execution_count": 111,
   "metadata": {},
   "outputs": [
    {
     "data": {
      "text/plain": [
       "(2021, 11, 1)"
      ]
     },
     "execution_count": 111,
     "metadata": {},
     "output_type": "execute_result"
    }
   ],
   "source": [
    "year,month,day"
   ]
  },
  {
   "cell_type": "code",
   "execution_count": null,
   "metadata": {},
   "outputs": [],
   "source": [
    "if year > today_year:\n",
    "    answer.append(i+1)\n",
    "elif month > today_month:\n",
    "    answer.append(i+1)\n",
    "elif day > today_day:\n",
    "    answer.append(i+1)"
   ]
  },
  {
   "cell_type": "code",
   "execution_count": 119,
   "metadata": {},
   "outputs": [
    {
     "data": {
      "text/plain": [
       "(0, '2021.05.02 A')"
      ]
     },
     "execution_count": 119,
     "metadata": {},
     "output_type": "execute_result"
    }
   ],
   "source": [
    "privacy"
   ]
  },
  {
   "cell_type": "code",
   "execution_count": 42,
   "metadata": {},
   "outputs": [],
   "source": [
    "answer = []\n",
    "import re"
   ]
  },
  {
   "cell_type": "code",
   "execution_count": 155,
   "metadata": {},
   "outputs": [],
   "source": [
    "today = \"2022.05.19\"\n",
    "terms = [\"A 6\", \"B 12\", \"C 3\"]\n",
    "privacies = [\"2021.05.02 A\", \"2021.07.01 B\", \"2022.02.19 C\", \"2022.02.20 C\"]"
   ]
  },
  {
   "cell_type": "code",
   "execution_count": 67,
   "metadata": {},
   "outputs": [],
   "source": [
    "today = \"2009.12.31\"\n",
    "terms = [\"A 13\"]\n",
    "privacies = [\"2008.11.03 A\"]"
   ]
  },
  {
   "cell_type": "code",
   "execution_count": 68,
   "metadata": {},
   "outputs": [],
   "source": [
    "today_year, today_month, today_day = today.split('.')\n",
    "today_year, today_month, today_day = int(today_year),int(today_month),int(today_day)"
   ]
  },
  {
   "cell_type": "code",
   "execution_count": 69,
   "metadata": {},
   "outputs": [
    {
     "data": {
      "text/plain": [
       "(2009, 12, 31)"
      ]
     },
     "execution_count": 69,
     "metadata": {},
     "output_type": "execute_result"
    }
   ],
   "source": [
    "today_year, today_month, today_day "
   ]
  },
  {
   "cell_type": "code",
   "execution_count": 70,
   "metadata": {},
   "outputs": [],
   "source": [
    "term_dic = {}\n",
    "for term in terms:\n",
    "    tmp =term.split()\n",
    "    term_dic[tmp[0]] = int(tmp[1])"
   ]
  },
  {
   "cell_type": "code",
   "execution_count": 71,
   "metadata": {},
   "outputs": [],
   "source": [
    "for i,privacy in enumerate(privacies):\n",
    "    year, month, day, term =re.split(\"[.| ]\",privacy)\n",
    "    year, month, day = int(year), int(month), int(day)\n",
    "    month += term_dic[term]\n",
    "    day -= 1\n",
    "    if day == 0:\n",
    "        month -= 1\n",
    "        day = 28\n",
    "    if month > 12 and month % 12 != 0 :\n",
    "        year_add = month // 12\n",
    "        year += year_add\n",
    "        month = month % 12\n",
    "    elif month > 12 and month % 12 == 0:\n",
    "        year_add = (month -1) // 12\n",
    "        year += year_add\n",
    "        month = 12\n",
    "    if year < today_year:\n",
    "        answer.append(i+1)\n",
    "        \n",
    "    elif year == today_year and month < today_month:\n",
    "        answer.append(i+1)\n",
    "        \n",
    "    elif year == today_year and month == today_month and day < today_day:\n",
    "        answer.append(i+1)\n",
    "        \n"
   ]
  },
  {
   "cell_type": "code",
   "execution_count": null,
   "metadata": {},
   "outputs": [],
   "source": [
    "#17실패\n",
    "def solution(today, terms, privacies):\n",
    "    import re\n",
    "    answer = []\n",
    "    today_year, today_month, today_day = today.split('.')\n",
    "    today_year, today_month, today_day = int(today_year),int(today_month),int(today_day)\n",
    "    term_dic = {}\n",
    "    for term in terms:\n",
    "        tmp =term.split()\n",
    "        term_dic[tmp[0]] = int(tmp[1])\n",
    "        \n",
    "    for i,privacy in enumerate(privacies):\n",
    "        year, month, day, term =re.split(\"[.| ]\",privacy)\n",
    "        year, month, day = int(year), int(month), int(day)\n",
    "        month += term_dic[term]\n",
    "        day -= 1        \n",
    "        if day == 0:\n",
    "            month -= 1\n",
    "            day = 28\n",
    "        if month > 12 :\n",
    "            year_add = month // 12\n",
    "            year += year_add\n",
    "            month = month % 12\n",
    "            \n",
    "        if year < today_year:\n",
    "            answer.append(i+1)            \n",
    "        elif year == today_year and month < today_month:\n",
    "            answer.append(i+1)            \n",
    "        elif year == today_year and month == today_month and day < today_day:\n",
    "            answer.append(i+1)\n",
    "\n",
    "    return answer"
   ]
  },
  {
   "cell_type": "code",
   "execution_count": null,
   "metadata": {},
   "outputs": [],
   "source": [
    "def solution(today, terms, privacies):\n",
    "    import re\n",
    "    answer = []\n",
    "    today_year, today_month, today_day = today.split('.')\n",
    "    today_year, today_month, today_day = int(today_year),int(today_month),int(today_day)\n",
    "    term_dic = {}\n",
    "    for term in terms:\n",
    "        tmp =term.split()\n",
    "        term_dic[tmp[0]] = int(tmp[1])\n",
    "        \n",
    "    for i,privacy in enumerate(privacies):\n",
    "        year, month, day, term =re.split(\"[.| ]\",privacy)\n",
    "        year, month, day = int(year), int(month), int(day)\n",
    "        month += term_dic[term]\n",
    "        day -= 1\n",
    "        \n",
    "        if day == 0:\n",
    "            month -= 1\n",
    "            day = 28\n",
    "        if month > 12 and month % 12 != 0 :\n",
    "            year_add = month // 12\n",
    "            year += year_add\n",
    "            month = month % 12\n",
    "        elif month > 12 and month % 12 == 0:\n",
    "            year_add = (month -1) // 12\n",
    "            year += year_add\n",
    "            month = 12\n",
    "\n",
    "        if year < today_year:\n",
    "            answer.append(i+1)\n",
    "        elif year == today_year and month < today_month:\n",
    "            answer.append(i+1)\n",
    "        elif year == today_year and month == today_month and day < today_day:\n",
    "            answer.append(i+1)\n",
    "        \n",
    "    return answer"
   ]
  }
 ],
 "metadata": {
  "kernelspec": {
   "display_name": "py38",
   "language": "python",
   "name": "python3"
  },
  "language_info": {
   "codemirror_mode": {
    "name": "ipython",
    "version": 3
   },
   "file_extension": ".py",
   "mimetype": "text/x-python",
   "name": "python",
   "nbconvert_exporter": "python",
   "pygments_lexer": "ipython3",
   "version": "3.8.17"
  },
  "orig_nbformat": 4
 },
 "nbformat": 4,
 "nbformat_minor": 2
}
