{
 "cells": [
  {
   "cell_type": "markdown",
   "metadata": {},
   "source": [
    "# 깊이 우선 탐색"
   ]
  },
  {
   "cell_type": "code",
   "execution_count": null,
   "metadata": {},
   "outputs": [],
   "source": [
    "import sys\n",
    "sys.setrecursionlimit(10**6)\n",
    "input = sys.stdin.readline\n",
    "num_nodes, num_edges, start =map(int, input().split())\n",
    "graph, visited  = {} , {}\n",
    "length = 1\n",
    "for node in range(1,num_nodes+1):\n",
    "    graph[node] = []\n",
    "    visited[node] = 0    \n",
    "\n",
    "for i in range(num_edges):    \n",
    "    node, edge = map(int,input().split())\n",
    "    graph.get(node).append(edge)\n",
    "    graph.get(edge).append(node)\n",
    "\n",
    "for i in range(1,len(graph)+1):\n",
    "    graph.get(i).sort()\n",
    "\n",
    "def dfs(curr): \n",
    "    global length\n",
    "    visited[curr] = length\n",
    "    paths = graph.get(curr)\n",
    "    for path in paths:\n",
    "        if visited[path] == 0:\n",
    "            length += 1\n",
    "            dfs(path)        \n",
    "  \n",
    "dfs(start) \n",
    "for i,v in visited.items():\n",
    "    print(v)"
   ]
  },
  {
   "cell_type": "markdown",
   "metadata": {},
   "source": [
    "# 너비 우선 탐색"
   ]
  },
  {
   "cell_type": "code",
   "execution_count": 4,
   "metadata": {},
   "outputs": [],
   "source": [
    "\n",
    "import sys\n",
    "sys.setrecursionlimit(10**6)\n",
    "input = sys.stdin.readline"
   ]
  },
  {
   "cell_type": "code",
   "execution_count": 2,
   "metadata": {},
   "outputs": [],
   "source": [
    "from collections import deque\n",
    "que = deque()\n",
    "num_nodes, num_edges, start =map(int, input().split())\n",
    "graph, visited  = {} , {}\n",
    "length = 1\n",
    "for node in range(1,num_nodes+1):\n",
    "    graph[node] = []\n",
    "    visited[node] = 0    \n",
    "\n",
    "for i in range(num_edges):    \n",
    "    node, edge = map(int,input().split())\n",
    "    graph.get(node).append(edge)\n",
    "    graph.get(edge).append(node)\n",
    "\n",
    "for i in range(1,len(graph)+1):\n",
    "    graph.get(i).sort()\n",
    "\n",
    "def bfs(curr,length):   \n",
    "    visited[curr] = length\n",
    "    que.append(curr)\n",
    "    while que:\n",
    "        curr_node = que.popleft()\n",
    "        for next_node in graph[curr_node]:\n",
    "            if visited[next_node] == 0:\n",
    "                length += 1\n",
    "                visited[next_node] = length\n",
    "                que.append(next_node)\n",
    "\n",
    "bfs(start,1)\n",
    "for i ,v in visited.items():\n",
    "    print(v)"
   ]
  },
  {
   "cell_type": "code",
   "execution_count": 22,
   "metadata": {},
   "outputs": [
    {
     "data": {
      "text/plain": [
       "{1: [2, 4], 2: [1, 3, 4], 3: [2, 4], 4: [1, 2, 3], 5: []}"
      ]
     },
     "execution_count": 22,
     "metadata": {},
     "output_type": "execute_result"
    }
   ],
   "source": [
    "graph"
   ]
  },
  {
   "cell_type": "code",
   "execution_count": 3,
   "metadata": {},
   "outputs": [
    {
     "name": "stdout",
     "output_type": "stream",
     "text": [
      "1\n",
      "2\n",
      "4\n",
      "3\n",
      "0\n"
     ]
    }
   ],
   "source": [
    "for i ,v in visited.items():\n",
    "    print(v)"
   ]
  }
 ],
 "metadata": {
  "kernelspec": {
   "display_name": "py38",
   "language": "python",
   "name": "python3"
  },
  "language_info": {
   "codemirror_mode": {
    "name": "ipython",
    "version": 3
   },
   "file_extension": ".py",
   "mimetype": "text/x-python",
   "name": "python",
   "nbconvert_exporter": "python",
   "pygments_lexer": "ipython3",
   "version": "3.8.17"
  },
  "orig_nbformat": 4
 },
 "nbformat": 4,
 "nbformat_minor": 2
}
