{
 "cells": [
  {
   "cell_type": "code",
   "execution_count": 16,
   "metadata": {},
   "outputs": [
    {
     "name": "stdout",
     "output_type": "stream",
     "text": [
      "A B D E F C "
     ]
    },
    {
     "data": {
      "text/plain": [
       "['A', 'B', 'D', 'E', 'F', 'C']"
      ]
     },
     "execution_count": 16,
     "metadata": {},
     "output_type": "execute_result"
    }
   ],
   "source": [
    "# 그래프를 인접 리스트로 표현\n",
    "graph = {\n",
    "    'A': ['B', 'C'],\n",
    "    'B': ['D', 'E'],\n",
    "    'C': ['F'],\n",
    "    'D': [],\n",
    "    'E': ['F'],\n",
    "    'F': []\n",
    "}\n",
    "\n",
    "visited = []  # 방문한 노드를 추적하기 위한 집합\n",
    "\n",
    "def dfs(visited, graph, node):  # 함수 정의\n",
    "    if node not in visited:\n",
    "        print(node, end=' ')\n",
    "        visited.append(node)\n",
    "        for neighbour in graph[node]:\n",
    "            dfs(visited, graph, neighbour)\n",
    "    return visited\n",
    "# DFS 실행\n",
    "dfs(visited, graph, 'A')"
   ]
  },
  {
   "cell_type": "code",
   "execution_count": 18,
   "metadata": {},
   "outputs": [],
   "source": [
    "user_id = [\"frodo\", \"fradi\", \"crodo\", \"abc123\", \"frodoc\"]\n",
    "banned_id = [\"fr*d*\", \"abc1**\"]"
   ]
  },
  {
   "cell_type": "code",
   "execution_count": 23,
   "metadata": {},
   "outputs": [
    {
     "name": "stdout",
     "output_type": "stream",
     "text": [
      "('frodo', 'fradi')\n",
      "('frodo', 'crodo')\n",
      "('frodo', 'abc123')\n",
      "('frodo', 'frodoc')\n",
      "('fradi', 'frodo')\n",
      "('fradi', 'crodo')\n",
      "('fradi', 'abc123')\n",
      "('fradi', 'frodoc')\n",
      "('crodo', 'frodo')\n",
      "('crodo', 'fradi')\n",
      "('crodo', 'abc123')\n",
      "('crodo', 'frodoc')\n",
      "('abc123', 'frodo')\n",
      "('abc123', 'fradi')\n",
      "('abc123', 'crodo')\n",
      "('abc123', 'frodoc')\n",
      "('frodoc', 'frodo')\n",
      "('frodoc', 'fradi')\n",
      "('frodoc', 'crodo')\n",
      "('frodoc', 'abc123')\n"
     ]
    }
   ],
   "source": [
    "import re\n",
    "from itertools import permutations\n",
    "\n",
    "banned_id = [i.replace(\"*\", \"\\w{1}\") for i in banned_id]\n",
    "answer = set()\n",
    "for candidate in permutations(user_id,len(banned_id)):\n",
    "    print(candidate)\n",
    "    all_pass =True\n",
    "    for j in range(len(banned_id)):\n",
    "        if re.match(banned_id[j], candidate[j]) and (len(banned_id[j]) == len(candidate[j])):\n",
    "            continue\n",
    "        else: \n",
    "            all_pass = False\n",
    "            print(candidate)\n",
    "            break\n",
    "    \n",
    "    if all_pass:\n",
    "        answer.add(candidate)"
   ]
  },
  {
   "cell_type": "code",
   "execution_count": 26,
   "metadata": {},
   "outputs": [
    {
     "data": {
      "text/plain": [
       "'frodoc'"
      ]
     },
     "execution_count": 26,
     "metadata": {},
     "output_type": "execute_result"
    }
   ],
   "source": [
    "candidate[j]"
   ]
  },
  {
   "cell_type": "code",
   "execution_count": 22,
   "metadata": {},
   "outputs": [
    {
     "data": {
      "text/plain": [
       "set()"
      ]
     },
     "execution_count": 22,
     "metadata": {},
     "output_type": "execute_result"
    }
   ],
   "source": [
    "answer"
   ]
  },
  {
   "cell_type": "code",
   "execution_count": 10,
   "metadata": {},
   "outputs": [],
   "source": [
    "import re\n",
    "m = re.match(reg,'frodoc')"
   ]
  },
  {
   "cell_type": "code",
   "execution_count": 14,
   "metadata": {},
   "outputs": [
    {
     "data": {
      "text/plain": [
       "'frodo'"
      ]
     },
     "execution_count": 14,
     "metadata": {},
     "output_type": "execute_result"
    }
   ],
   "source": [
    "m.group() == "
   ]
  }
 ],
 "metadata": {
  "kernelspec": {
   "display_name": "py38",
   "language": "python",
   "name": "python3"
  },
  "language_info": {
   "codemirror_mode": {
    "name": "ipython",
    "version": 3
   },
   "file_extension": ".py",
   "mimetype": "text/x-python",
   "name": "python",
   "nbconvert_exporter": "python",
   "pygments_lexer": "ipython3",
   "version": "3.8.17"
  }
 },
 "nbformat": 4,
 "nbformat_minor": 2
}
