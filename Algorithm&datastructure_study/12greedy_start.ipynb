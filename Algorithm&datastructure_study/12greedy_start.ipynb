{
 "cells": [
  {
   "cell_type": "code",
   "execution_count": null,
   "metadata": {},
   "outputs": [],
   "source": [
    "N, K = map(int,input().split())\n",
    "coins = []\n",
    "for i in range(N):\n",
    "    coins.append(int(input()))\n",
    "\n",
    "coins.sort(reverse=True)\n",
    "\n",
    "cnt = 0\n",
    "for coin in coins:\n",
    "    check = K // coin\n",
    "    if check >= 1:\n",
    "        cnt += check\n",
    "        K =K - (coin * check)\n",
    "        if K == 0:\n",
    "            break\n",
    "    \n",
    "print(cnt)"
   ]
  }
 ],
 "metadata": {
  "kernelspec": {
   "display_name": "py38",
   "language": "python",
   "name": "python3"
  },
  "language_info": {
   "name": "python",
   "version": "3.8.17"
  },
  "orig_nbformat": 4
 },
 "nbformat": 4,
 "nbformat_minor": 2
}
