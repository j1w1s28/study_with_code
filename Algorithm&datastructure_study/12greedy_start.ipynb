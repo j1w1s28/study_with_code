{
 "cells": [
  {
   "cell_type": "markdown",
   "metadata": {},
   "source": [
    "# 동전 0\n",
    "https://www.acmicpc.net/problem/11047"
   ]
  },
  {
   "cell_type": "code",
   "execution_count": null,
   "metadata": {},
   "outputs": [],
   "source": [
    "N, K = map(int,input().split())\n",
    "coins = []\n",
    "for i in range(N):\n",
    "    coins.append(int(input()))\n",
    "\n",
    "coins.sort(reverse=True)\n",
    "\n",
    "cnt = 0\n",
    "for coin in coins:\n",
    "    check = K // coin\n",
    "    if check >= 1:\n",
    "        cnt += check\n",
    "        K =K - (coin * check)\n",
    "        if K == 0:\n",
    "            break\n",
    "    \n",
    "print(cnt)"
   ]
  },
  {
   "cell_type": "markdown",
   "metadata": {},
   "source": [
    "# 회의실 배정\n",
    "https://www.acmicpc.net/problem/1931"
   ]
  },
  {
   "cell_type": "code",
   "execution_count": 20,
   "metadata": {},
   "outputs": [
    {
     "name": "stdout",
     "output_type": "stream",
     "text": [
      "4\n"
     ]
    }
   ],
   "source": [
    "import sys\n",
    "\n",
    "#sys.setrecursionlimit(10**6)\n",
    "sys.stdin = open(\"../input.txt\", \"r\")\n",
    "input = sys.stdin.readline\n",
    "num = int(input())\n",
    "total_info = []\n",
    "for i in range(num):\n",
    "    start, end = map(int, input().split())\n",
    "    total_info.append((start,end))\n",
    "\n",
    "total_info.sort(key= lambda x : (x[0], x[1]) ,reverse= True)\n",
    "cnt = 0\n",
    "for info in total_info:\n",
    "    if cnt == 0 or info[1] <= start:\n",
    "        cnt += 1\n",
    "        start = info[0]\n",
    "\n",
    "print(cnt)"
   ]
  },
  {
   "cell_type": "markdown",
   "metadata": {},
   "source": [
    "# ATM\n",
    "https://www.acmicpc.net/problem/11399"
   ]
  },
  {
   "cell_type": "code",
   "execution_count": 27,
   "metadata": {},
   "outputs": [],
   "source": [
    "import sys\n",
    "\n",
    "#sys.setrecursionlimit(10**6)\n",
    "sys.stdin = open(\"../input.txt\", \"r\")\n",
    "input = sys.stdin.readline\n",
    "num = int(input())\n",
    "lsts = list(map(int, input().split()))\n",
    "lsts.sort()\n",
    "total = sum(lsts)\n",
    "answer = total\n",
    "for i in range(num):\n",
    "    total -= lsts.pop()\n",
    "    answer += total\n",
    "print(answer)"
   ]
  },
  {
   "cell_type": "code",
   "execution_count": 31,
   "metadata": {},
   "outputs": [
    {
     "data": {
      "text/plain": [
       "32"
      ]
     },
     "execution_count": 31,
     "metadata": {},
     "output_type": "execute_result"
    }
   ],
   "source": [
    "answer"
   ]
  },
  {
   "cell_type": "markdown",
   "metadata": {},
   "source": [
    "# 잃어버린 괄호\n",
    "https://www.acmicpc.net/problem/1541"
   ]
  },
  {
   "cell_type": "code",
   "execution_count": 17,
   "metadata": {},
   "outputs": [],
   "source": [
    "answer = final_lsts[0]\n",
    "for i in range(1,len(final_lsts)):\n",
    "    answer -= final_lsts[i]"
   ]
  },
  {
   "cell_type": "code",
   "execution_count": 22,
   "metadata": {},
   "outputs": [
    {
     "name": "stdout",
     "output_type": "stream",
     "text": [
      "-400\n"
     ]
    }
   ],
   "source": [
    "import sys\n",
    "\n",
    "#sys.setrecursionlimit(10**6)\n",
    "sys.stdin = open(\"../input.txt\", \"r\")\n",
    "input = sys.stdin.readline\n",
    "texts = input()\n",
    "tmp = ''\n",
    "exp = ''\n",
    "for char in texts:\n",
    "    if char.isdigit():\n",
    "        tmp += char\n",
    "    else :\n",
    "        exp += str(int(tmp)) + char\n",
    "        tmp = ''\n",
    "if tmp != '' :\n",
    "    exp += str(int(tmp))\n",
    "\n",
    "sub_test=exp.split('-')\n",
    "final_lsts = [eval(i) for i in sub_test]\n",
    "answer = final_lsts[0]\n",
    "for i in range(1,len(final_lsts)):\n",
    "    answer -= final_lsts[i]\n",
    "\n",
    "print(answer)"
   ]
  },
  {
   "cell_type": "code",
   "execution_count": 34,
   "metadata": {},
   "outputs": [
    {
     "ename": "SyntaxError",
     "evalue": "leading zeros in decimal integer literals are not permitted; use an 0o prefix for octal integers (<string>, line 1)",
     "output_type": "error",
     "traceback": [
      "Traceback \u001b[1;36m(most recent call last)\u001b[0m:\n",
      "\u001b[0m  File \u001b[0;32mc:\\Users\\jwshi\\miniconda3\\envs\\py38\\lib\\site-packages\\IPython\\core\\interactiveshell.py:3505\u001b[0m in \u001b[0;35mrun_code\u001b[0m\n    exec(code_obj, self.user_global_ns, self.user_ns)\u001b[0m\n",
      "\u001b[1;36m  Cell \u001b[1;32mIn[34], line 2\u001b[1;36m\n\u001b[1;33m    print(eval(lsts))\u001b[1;36m\n",
      "\u001b[1;36m  File \u001b[1;32m<string>:1\u001b[1;36m\u001b[0m\n\u001b[1;33m    00009-00009\u001b[0m\n\u001b[1;37m        ^\u001b[0m\n\u001b[1;31mSyntaxError\u001b[0m\u001b[1;31m:\u001b[0m leading zeros in decimal integer literals are not permitted; use an 0o prefix for octal integers\n"
     ]
    }
   ],
   "source": [
    "if len(sum_test) == 1 or len(sub_test) == 1:\n",
    "    print(eval(lsts))"
   ]
  },
  {
   "cell_type": "code",
   "execution_count": 26,
   "metadata": {},
   "outputs": [
    {
     "ename": "SyntaxError",
     "evalue": "leading zeros in decimal integer literals are not permitted; use an 0o prefix for octal integers (2653267038.py, line 1)",
     "output_type": "error",
     "traceback": [
      "\u001b[1;36m  Cell \u001b[1;32mIn[26], line 1\u001b[1;36m\u001b[0m\n\u001b[1;33m    00009 - 00009\u001b[0m\n\u001b[1;37m        ^\u001b[0m\n\u001b[1;31mSyntaxError\u001b[0m\u001b[1;31m:\u001b[0m leading zeros in decimal integer literals are not permitted; use an 0o prefix for octal integers\n"
     ]
    }
   ],
   "source": [
    "00009 - 00009"
   ]
  },
  {
   "cell_type": "markdown",
   "metadata": {},
   "source": [
    "# 주유소\n",
    "https://www.acmicpc.net/problem/13305"
   ]
  },
  {
   "cell_type": "code",
   "execution_count": 14,
   "metadata": {},
   "outputs": [],
   "source": [
    "import sys\n",
    "\n",
    "#sys.setrecursionlimit(10**6)\n",
    "sys.stdin = open(\"../input.txt\", \"r\")\n",
    "input = sys.stdin.readline\n",
    "city_num = int(input())\n",
    "dist_lst = list(map(int, input().split()))\n",
    "price_lst = list(map(int, input().split()))\n"
   ]
  },
  {
   "cell_type": "code",
   "execution_count": 17,
   "metadata": {},
   "outputs": [],
   "source": [
    "cost = price_lst[0]\n",
    "answer = 0"
   ]
  },
  {
   "cell_type": "code",
   "execution_count": 18,
   "metadata": {},
   "outputs": [],
   "source": [
    "for i in range(city_num - 1):\n",
    "    if cost > price_lst[i]:\n",
    "        cost = price_lst[i]\n",
    "    answer +=  cost * dist_lst[i]"
   ]
  },
  {
   "cell_type": "code",
   "execution_count": 19,
   "metadata": {},
   "outputs": [
    {
     "name": "stdout",
     "output_type": "stream",
     "text": [
      "10\n"
     ]
    }
   ],
   "source": [
    "print(answer)"
   ]
  },
  {
   "cell_type": "code",
   "execution_count": 20,
   "metadata": {},
   "outputs": [
    {
     "name": "stdout",
     "output_type": "stream",
     "text": [
      "10\n"
     ]
    }
   ],
   "source": [
    "import sys\n",
    "\n",
    "#sys.setrecursionlimit(10**6)\n",
    "sys.stdin = open(\"../input.txt\", \"r\")\n",
    "input = sys.stdin.readline\n",
    "city_num = int(input())\n",
    "dist_lst = list(map(int, input().split()))\n",
    "price_lst = list(map(int, input().split()))\n",
    "cost = price_lst[0]\n",
    "answer = 0\n",
    "for i in range(city_num - 1):\n",
    "    if cost > price_lst[i]:\n",
    "        cost = price_lst[i]\n",
    "    answer +=  cost * dist_lst[i]\n",
    "print(answer)"
   ]
  },
  {
   "cell_type": "code",
   "execution_count": 1,
   "metadata": {},
   "outputs": [],
   "source": [
    "import torch"
   ]
  },
  {
   "cell_type": "code",
   "execution_count": 2,
   "metadata": {},
   "outputs": [
    {
     "data": {
      "text/plain": [
       "'11.8'"
      ]
     },
     "execution_count": 2,
     "metadata": {},
     "output_type": "execute_result"
    }
   ],
   "source": [
    "torch.cuda_version"
   ]
  },
  {
   "cell_type": "code",
   "execution_count": null,
   "metadata": {},
   "outputs": [],
   "source": []
  }
 ],
 "metadata": {
  "kernelspec": {
   "display_name": "py38",
   "language": "python",
   "name": "python3"
  },
  "language_info": {
   "codemirror_mode": {
    "name": "ipython",
    "version": 3
   },
   "file_extension": ".py",
   "mimetype": "text/x-python",
   "name": "python",
   "nbconvert_exporter": "python",
   "pygments_lexer": "ipython3",
   "version": "3.8.17"
  },
  "orig_nbformat": 4
 },
 "nbformat": 4,
 "nbformat_minor": 2
}
