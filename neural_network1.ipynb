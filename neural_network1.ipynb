{
 "cells": [
  {
   "cell_type": "code",
   "execution_count": 3,
   "metadata": {},
   "outputs": [],
   "source": [
    "import numpy as np\n",
    "import pandas as pd"
   ]
  },
  {
   "cell_type": "code",
   "execution_count": 6,
   "metadata": {},
   "outputs": [],
   "source": [
    "data = {'X1':[34,25,30,38,44,48,52,60,34,34],\n",
    "     'X2':[5,5,2,20,12,18,22,19,18,22],\n",
    "     'Y': [5.0,2.5,4.0,3.0,3.3,4.2,4.6,6.0,3.0,2.9]\n",
    "    }"
   ]
  },
  {
   "cell_type": "code",
   "execution_count": 7,
   "metadata": {},
   "outputs": [],
   "source": [
    "df =pd.DataFrame(data)"
   ]
  },
  {
   "cell_type": "code",
   "execution_count": 9,
   "metadata": {},
   "outputs": [],
   "source": [
    "data_np = df.values"
   ]
  },
  {
   "cell_type": "code",
   "execution_count": 10,
   "metadata": {},
   "outputs": [
    {
     "data": {
      "text/plain": [
       "array([[34. ,  5. ,  5. ],\n",
       "       [25. ,  5. ,  2.5],\n",
       "       [30. ,  2. ,  4. ],\n",
       "       [38. , 20. ,  3. ],\n",
       "       [44. , 12. ,  3.3],\n",
       "       [48. , 18. ,  4.2],\n",
       "       [52. , 22. ,  4.6],\n",
       "       [60. , 19. ,  6. ],\n",
       "       [34. , 18. ,  3. ],\n",
       "       [34. , 22. ,  2.9]])"
      ]
     },
     "execution_count": 10,
     "metadata": {},
     "output_type": "execute_result"
    }
   ],
   "source": [
    "data_np"
   ]
  },
  {
   "cell_type": "code",
   "execution_count": 14,
   "metadata": {},
   "outputs": [],
   "source": [
    "X = data_np[:,:-1]"
   ]
  },
  {
   "cell_type": "code",
   "execution_count": 12,
   "metadata": {},
   "outputs": [],
   "source": [
    "# X = np.insert(data_np[:,:-1], 0 , np.ones(10), axis=1) d\n",
    "#안해줘도 됨"
   ]
  },
  {
   "cell_type": "code",
   "execution_count": 15,
   "metadata": {},
   "outputs": [
    {
     "data": {
      "text/plain": [
       "array([[34.,  5.],\n",
       "       [25.,  5.],\n",
       "       [30.,  2.],\n",
       "       [38., 20.],\n",
       "       [44., 12.],\n",
       "       [48., 18.],\n",
       "       [52., 22.],\n",
       "       [60., 19.],\n",
       "       [34., 18.],\n",
       "       [34., 22.]])"
      ]
     },
     "execution_count": 15,
     "metadata": {},
     "output_type": "execute_result"
    }
   ],
   "source": [
    "X"
   ]
  },
  {
   "cell_type": "code",
   "execution_count": 16,
   "metadata": {},
   "outputs": [],
   "source": [
    "from sklearn.preprocessing import StandardScaler #보통 신경망 모형을 사용할 때 Scaling 작업을 해줌 여기서는 간단하게 StandardScalar를 사용\n",
    "scaler = StandardScaler()\n",
    "X = scaler.fit_transform(X)"
   ]
  },
  {
   "cell_type": "code",
   "execution_count": 17,
   "metadata": {},
   "outputs": [
    {
     "data": {
      "text/plain": [
       "array([[-0.57281553, -1.27733275],\n",
       "       [-1.44660194, -1.27733275],\n",
       "       [-0.96116505, -1.68937557],\n",
       "       [-0.18446602,  0.78288136],\n",
       "       [ 0.39805825, -0.3158995 ],\n",
       "       [ 0.78640777,  0.50818615],\n",
       "       [ 1.17475728,  1.05757658],\n",
       "       [ 1.95145631,  0.64553375],\n",
       "       [-0.57281553,  0.50818615],\n",
       "       [-0.57281553,  1.05757658]])"
      ]
     },
     "execution_count": 17,
     "metadata": {},
     "output_type": "execute_result"
    }
   ],
   "source": [
    "X"
   ]
  },
  {
   "cell_type": "code",
   "execution_count": 18,
   "metadata": {},
   "outputs": [],
   "source": [
    "w_layer1 = np.random.rand(2,2) #uniform distribution를 사용해 초기화함  uniform distribution 이란 0~1 사이의 값을 가질 확률이 동일한 분포\n",
    "#처음 가중치 값은 random하게 임의의 값을 설정 "
   ]
  },
  {
   "cell_type": "code",
   "execution_count": 19,
   "metadata": {},
   "outputs": [
    {
     "data": {
      "text/plain": [
       "array([[0.76671047, 0.41550333],\n",
       "       [0.65294926, 0.68140036]])"
      ]
     },
     "execution_count": 19,
     "metadata": {},
     "output_type": "execute_result"
    }
   ],
   "source": [
    "w_layer1"
   ]
  },
  {
   "cell_type": "code",
   "execution_count": 20,
   "metadata": {},
   "outputs": [],
   "source": [
    "b = np.random.rand(1,2)  #편향에대한 벡터 생성 여기서도 간단하게 uniform distribution 사용"
   ]
  },
  {
   "cell_type": "code",
   "execution_count": 21,
   "metadata": {},
   "outputs": [
    {
     "data": {
      "text/plain": [
       "array([[0.33831462, 0.94215566]])"
      ]
     },
     "execution_count": 21,
     "metadata": {},
     "output_type": "execute_result"
    }
   ],
   "source": [
    "b"
   ]
  },
  {
   "cell_type": "code",
   "execution_count": 22,
   "metadata": {},
   "outputs": [],
   "source": [
    "H1_inputs = np.dot(X,w_layer1) + b #Hidden Layer에 들어갈 행렬 계산"
   ]
  },
  {
   "cell_type": "code",
   "execution_count": 23,
   "metadata": {},
   "outputs": [
    {
     "data": {
      "text/plain": [
       "array([[-0.93490251, -0.16622609],\n",
       "       [-1.6048437 , -0.52928725],\n",
       "       [-1.50169721, -0.60835273],\n",
       "       [ 0.7080644 ,  1.39896506],\n",
       "       [ 0.43724371,  0.89229616],\n",
       "       [ 1.27308146,  1.61518893],\n",
       "       [ 1.92955717,  2.15090428],\n",
       "       [ 2.25601739,  2.19285919],\n",
       "       [ 0.23095073,  1.05042713],\n",
       "       [ 0.5896748 ,  1.42478196]])"
      ]
     },
     "execution_count": 23,
     "metadata": {},
     "output_type": "execute_result"
    }
   ],
   "source": [
    "H1_inputs #1열은 은닉노드1에 들어갈 값들 , 2열은 은닉노드2에 들어갈 값들"
   ]
  },
  {
   "cell_type": "code",
   "execution_count": 24,
   "metadata": {},
   "outputs": [],
   "source": [
    "#활성화 함수(Sigmoid 함수)를 적용하기위해서 함수를 만듬\n",
    "def sigmoid(X):\n",
    "    return 1/(1+np.exp(-X))"
   ]
  },
  {
   "cell_type": "code",
   "execution_count": 25,
   "metadata": {},
   "outputs": [],
   "source": [
    "H1_outputs = sigmoid(H1_inputs)"
   ]
  },
  {
   "cell_type": "code",
   "execution_count": 26,
   "metadata": {},
   "outputs": [
    {
     "data": {
      "text/plain": [
       "array([[0.28193116, 0.4585389 ],\n",
       "       [0.16730573, 0.37068314],\n",
       "       [0.18217253, 0.35243505],\n",
       "       [0.66997332, 0.80201961],\n",
       "       [0.60760207, 0.70936379],\n",
       "       [0.78126979, 0.83413056],\n",
       "       [0.8732004 , 0.89575325],\n",
       "       [0.90516832, 0.89960643],\n",
       "       [0.55748241, 0.74085691],\n",
       "       [0.64329053, 0.80608698]])"
      ]
     },
     "execution_count": 26,
     "metadata": {},
     "output_type": "execute_result"
    }
   ],
   "source": [
    "H1_outputs # 10 X 2 행렬 생성"
   ]
  },
  {
   "cell_type": "code",
   "execution_count": 27,
   "metadata": {},
   "outputs": [],
   "source": [
    "w_layer2 = np.random.rand(2,1) #hidden layer -> output layer에서의 가중치 random하게(uniform distribution) 생성"
   ]
  },
  {
   "cell_type": "code",
   "execution_count": 28,
   "metadata": {},
   "outputs": [
    {
     "data": {
      "text/plain": [
       "array([[0.52711076],\n",
       "       [0.51097395]])"
      ]
     },
     "execution_count": 28,
     "metadata": {},
     "output_type": "execute_result"
    }
   ],
   "source": [
    "w_layer2"
   ]
  },
  {
   "cell_type": "code",
   "execution_count": 29,
   "metadata": {},
   "outputs": [],
   "source": [
    "b_layer2 = np.random.rand(1,1) # #hidden layer -> output layer에서의 편향 random(uniform distribution)하게 생성"
   ]
  },
  {
   "cell_type": "code",
   "execution_count": 30,
   "metadata": {},
   "outputs": [],
   "source": [
    "O1_inputs = np.dot(H1_outputs,w_layer2) + b_layer2"
   ]
  },
  {
   "cell_type": "code",
   "execution_count": 31,
   "metadata": {},
   "outputs": [
    {
     "data": {
      "text/plain": [
       "array([[0.58874433],\n",
       "       [0.48343203],\n",
       "       [0.48194418],\n",
       "       [0.96879522],\n",
       "       [0.88857396],\n",
       "       [1.04386864],\n",
       "       [1.12381385],\n",
       "       [1.14263336],\n",
       "       [0.87824751],\n",
       "       [0.95680876]])"
      ]
     },
     "execution_count": 31,
     "metadata": {},
     "output_type": "execute_result"
    }
   ],
   "source": [
    "O1_inputs #Output Layer에 입력하는 행렬 -> 회귀문제 예시에서는 이게 그냥 출력값 즉 y-hat"
   ]
  }
 ],
 "metadata": {
  "kernelspec": {
   "display_name": "py38",
   "language": "python",
   "name": "python3"
  },
  "language_info": {
   "codemirror_mode": {
    "name": "ipython",
    "version": 3
   },
   "file_extension": ".py",
   "mimetype": "text/x-python",
   "name": "python",
   "nbconvert_exporter": "python",
   "pygments_lexer": "ipython3",
   "version": "3.8.16"
  },
  "orig_nbformat": 4
 },
 "nbformat": 4,
 "nbformat_minor": 2
}
