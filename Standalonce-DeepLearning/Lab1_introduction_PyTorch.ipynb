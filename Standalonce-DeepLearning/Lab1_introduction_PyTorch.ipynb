{
 "cells": [
  {
   "attachments": {},
   "cell_type": "markdown",
   "metadata": {},
   "source": [
    "# Tensor Operation & Autograd Engine"
   ]
  },
  {
   "cell_type": "code",
   "execution_count": 5,
   "metadata": {},
   "outputs": [
    {
     "name": "stdout",
     "output_type": "stream",
     "text": [
      "tensor([[0., 0., 0.],\n",
      "        [0., 0., 0.]])\n",
      "torch.Size([2, 3])\n",
      "torch.int64\n",
      "cpu\n"
     ]
    }
   ],
   "source": [
    "import torch\n",
    "\n",
    "t1 = torch.zeros(2,3)\n",
    "print(t1)\n",
    "print(t1.shape) #shape를 맞춰주는 것은 매우 중요 다 행렬 계산이기 때문에\n",
    "print(t1.dtype) #dtype도 맞춰줘야하는 경우 존재\n",
    "print(t1.device) # GPU를 사용할 수 있기때문에 연산이 이루어지는 device와 동일한 device로 넣어줘야함"
   ]
  },
  {
   "cell_type": "code",
   "execution_count": 6,
   "metadata": {},
   "outputs": [
    {
     "name": "stdout",
     "output_type": "stream",
     "text": [
      "tensor([0, 1, 2, 3])\n",
      "torch.Size([4])\n",
      "torch.int64\n",
      "cpu\n"
     ]
    }
   ],
   "source": [
    "t2 = torch.arange(4) #무조건 1차원\n",
    "print(t2)\n",
    "print(t2.shape)\n",
    "print(t2.dtype)\n",
    "print(t2.device)"
   ]
  },
  {
   "cell_type": "code",
   "execution_count": 7,
   "metadata": {},
   "outputs": [
    {
     "name": "stdout",
     "output_type": "stream",
     "text": [
      "tensor([[0.0162, 0.5989],\n",
      "        [0.4638, 0.2383]])\n",
      "torch.Size([2, 2])\n",
      "torch.float32\n",
      "cpu\n"
     ]
    }
   ],
   "source": [
    "t3 = torch.rand(2,2)\n",
    "print(t3)\n",
    "print(t3.shape)\n",
    "print(t3.dtype)\n",
    "print(t3.device)"
   ]
  },
  {
   "cell_type": "code",
   "execution_count": null,
   "metadata": {},
   "outputs": [],
   "source": [
    "# t() 는 tensor를 cpu에서 gpu로 보내줌, datatype을 바꿔주기도함"
   ]
  }
 ],
 "metadata": {
  "kernelspec": {
   "display_name": "torch_temp",
   "language": "python",
   "name": "python3"
  },
  "language_info": {
   "codemirror_mode": {
    "name": "ipython",
    "version": 3
   },
   "file_extension": ".py",
   "mimetype": "text/x-python",
   "name": "python",
   "nbconvert_exporter": "python",
   "pygments_lexer": "ipython3",
   "version": "3.8.16"
  },
  "orig_nbformat": 4
 },
 "nbformat": 4,
 "nbformat_minor": 2
}
