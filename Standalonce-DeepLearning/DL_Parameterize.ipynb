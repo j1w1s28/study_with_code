{
 "cells": [
  {
   "cell_type": "code",
   "execution_count": 1,
   "metadata": {},
   "outputs": [],
   "source": [
    "import argparse"
   ]
  },
  {
   "cell_type": "code",
   "execution_count": 6,
   "metadata": {},
   "outputs": [
    {
     "name": "stdout",
     "output_type": "stream",
     "text": [
      "Namespace()\n",
      "Namespace(batch_size=100)\n",
      "100\n",
      "256\n",
      "128\n",
      "Namespace(batch_size=100, in_dim=128)\n"
     ]
    }
   ],
   "source": [
    "parser = argparse.ArgumentParser()\n",
    "args = parser.parse_args(\"\")\n",
    "\n",
    "print(args)\n",
    "args.batch_size =100\n",
    "print(args)\n",
    "print(args.batch_size)\n",
    "\n",
    "args.in_dim = 256\n",
    "print(args.in_dim)\n",
    "args.in_dim = 128\n",
    "print(args.in_dim)\n",
    "print(args)"
   ]
  },
  {
   "cell_type": "code",
   "execution_count": 7,
   "metadata": {},
   "outputs": [
    {
     "name": "stdout",
     "output_type": "stream",
     "text": [
      "[0, 1, 2, 3, 4]\n"
     ]
    }
   ],
   "source": [
    "args.num_layer = 5 \n",
    "\n",
    "linears = []\n",
    "for i in range(args.num_layer):\n",
    "    linears.append(i)\n",
    "\n",
    "print(linears)"
   ]
  },
  {
   "cell_type": "code",
   "execution_count": 10,
   "metadata": {},
   "outputs": [
    {
     "name": "stdout",
     "output_type": "stream",
     "text": [
      "{'batch_size': 100, 'in_dim': 128, 'num_layer': 5} <class 'dict'>\n"
     ]
    }
   ],
   "source": [
    "d = vars(args)\n",
    "print(d,type(d))"
   ]
  }
 ],
 "metadata": {
  "kernelspec": {
   "display_name": "py38",
   "language": "python",
   "name": "python3"
  },
  "language_info": {
   "codemirror_mode": {
    "name": "ipython",
    "version": 3
   },
   "file_extension": ".py",
   "mimetype": "text/x-python",
   "name": "python",
   "nbconvert_exporter": "python",
   "pygments_lexer": "ipython3",
   "version": "3.8.15"
  },
  "orig_nbformat": 4
 },
 "nbformat": 4,
 "nbformat_minor": 2
}
