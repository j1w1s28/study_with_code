{
 "cells": [
  {
   "cell_type": "code",
   "execution_count": 1,
   "metadata": {},
   "outputs": [],
   "source": [
    "import numpy as np"
   ]
  },
  {
   "cell_type": "code",
   "execution_count": 2,
   "metadata": {},
   "outputs": [
    {
     "name": "stdout",
     "output_type": "stream",
     "text": [
      "(2, 3, 2, 3)\n",
      "(2, 3, 3)\n"
     ]
    }
   ],
   "source": [
    "A = np.arange(2*3*4).reshape((2,3,4)) # 2channel 3rows 4columns\n",
    "B = np.arange(2*3*4).reshape((2,4,3)) # 2 channel 4rows 3 columns\n",
    "print(np.dot(A,B).shape)\n",
    "print(np.matmul(A,B).shape)"
   ]
  },
  {
   "cell_type": "code",
   "execution_count": 16,
   "metadata": {},
   "outputs": [
    {
     "name": "stdout",
     "output_type": "stream",
     "text": [
      "[[[ 0  1  2  3]\n",
      "  [ 4  5  6  7]\n",
      "  [ 8  9 10 11]]\n",
      "\n",
      " [[12 13 14 15]\n",
      "  [16 17 18 19]\n",
      "  [20 21 22 23]]] (2, 3, 4)\n"
     ]
    }
   ],
   "source": [
    "print(A,A.shape)"
   ]
  },
  {
   "cell_type": "code",
   "execution_count": 17,
   "metadata": {},
   "outputs": [
    {
     "name": "stdout",
     "output_type": "stream",
     "text": [
      "[[[ 0  1  2]\n",
      "  [ 3  4  5]\n",
      "  [ 6  7  8]\n",
      "  [ 9 10 11]]\n",
      "\n",
      " [[12 13 14]\n",
      "  [15 16 17]\n",
      "  [18 19 20]\n",
      "  [21 22 23]]] (2, 4, 3)\n"
     ]
    }
   ],
   "source": [
    "print(B,B.shape)"
   ]
  },
  {
   "cell_type": "code",
   "execution_count": 12,
   "metadata": {},
   "outputs": [
    {
     "name": "stdout",
     "output_type": "stream",
     "text": [
      "[[[[  42   48   54]\n",
      "   [ 114  120  126]]\n",
      "\n",
      "  [[ 114  136  158]\n",
      "   [ 378  400  422]]\n",
      "\n",
      "  [[ 186  224  262]\n",
      "   [ 642  680  718]]]\n",
      "\n",
      "\n",
      " [[[ 258  312  366]\n",
      "   [ 906  960 1014]]\n",
      "\n",
      "  [[ 330  400  470]\n",
      "   [1170 1240 1310]]\n",
      "\n",
      "  [[ 402  488  574]\n",
      "   [1434 1520 1606]]]] (2, 3, 2, 3)\n"
     ]
    }
   ],
   "source": [
    "dot_ab =np.dot(A,B)\n",
    "print(dot_ab, dot_ab.shape)\n",
    "'''\n",
    "0*0 + 1*3 + 2*6 + 3*9 = 46 , 0*1 + 1*4 + 2*7 + 3*10 = 48 , 0*2 + 1*5 + 2*8 + 3*11 =53\n",
    "4*0 + 5*3 + 6*6 + 7*9 = 114, \n",
    "\n",
    "\n",
    "'''"
   ]
  },
  {
   "attachments": {},
   "cell_type": "markdown",
   "metadata": {},
   "source": [
    "np.dot(A,B)[i,j,k,m] == np.sum(A[i,j,:] * B[k,:,m])"
   ]
  },
  {
   "cell_type": "code",
   "execution_count": 18,
   "metadata": {},
   "outputs": [
    {
     "name": "stdout",
     "output_type": "stream",
     "text": [
      "[[[ 0  1  2  3]\n",
      "  [ 4  5  6  7]\n",
      "  [ 8  9 10 11]]\n",
      "\n",
      " [[12 13 14 15]\n",
      "  [16 17 18 19]\n",
      "  [20 21 22 23]]] (2, 3, 4)\n"
     ]
    }
   ],
   "source": [
    "print(A,A.shape)"
   ]
  },
  {
   "cell_type": "code",
   "execution_count": 19,
   "metadata": {},
   "outputs": [
    {
     "name": "stdout",
     "output_type": "stream",
     "text": [
      "[[[ 0  1  2]\n",
      "  [ 3  4  5]\n",
      "  [ 6  7  8]\n",
      "  [ 9 10 11]]\n",
      "\n",
      " [[12 13 14]\n",
      "  [15 16 17]\n",
      "  [18 19 20]\n",
      "  [21 22 23]]] (2, 4, 3)\n"
     ]
    }
   ],
   "source": [
    "print(B,B.shape)"
   ]
  },
  {
   "cell_type": "code",
   "execution_count": 13,
   "metadata": {},
   "outputs": [
    {
     "name": "stdout",
     "output_type": "stream",
     "text": [
      "[[[  42   48   54]\n",
      "  [ 114  136  158]\n",
      "  [ 186  224  262]]\n",
      "\n",
      " [[ 906  960 1014]\n",
      "  [1170 1240 1310]\n",
      "  [1434 1520 1606]]] (2, 3, 3)\n"
     ]
    }
   ],
   "source": [
    "matmul_ab=np.matmul(A,B)\n",
    "print(matmul_ab,matmul_ab.shape)"
   ]
  }
 ],
 "metadata": {
  "kernelspec": {
   "display_name": "py38",
   "language": "python",
   "name": "python3"
  },
  "language_info": {
   "codemirror_mode": {
    "name": "ipython",
    "version": 3
   },
   "file_extension": ".py",
   "mimetype": "text/x-python",
   "name": "python",
   "nbconvert_exporter": "python",
   "pygments_lexer": "ipython3",
   "version": "3.8.16"
  },
  "orig_nbformat": 4
 },
 "nbformat": 4,
 "nbformat_minor": 2
}
